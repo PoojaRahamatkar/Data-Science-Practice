{
  "nbformat": 4,
  "nbformat_minor": 0,
  "metadata": {
    "colab": {
      "name": "0017.Custom Exception.ipynb",
      "provenance": []
    },
    "kernelspec": {
      "name": "python3",
      "display_name": "Python 3"
    },
    "language_info": {
      "name": "python"
    }
  },
  "cells": [
    {
      "cell_type": "markdown",
      "source": [
        "**Custom Exceptions**\n",
        "\n",
        "* Create Your Own Exceptions Handling Methods"
      ],
      "metadata": {
        "id": "Iok-l4QgSO9F"
      }
    },
    {
      "cell_type": "code",
      "execution_count": 1,
      "metadata": {
        "id": "p1I9ZKTASJhR"
      },
      "outputs": [],
      "source": [
        "class Error(Exception):\n",
        "  pass\n",
        "class dobException(Error):\n",
        "  pass"
      ]
    },
    {
      "cell_type": "code",
      "source": [
        "year = int(input(\"Enter the year of Birth\"))\n",
        "age = 2022-year\n",
        "try:\n",
        "  if age<=30 & age>20:\n",
        "    print(\"The age is valid. You can apply for the exams\")\n",
        "  else:\n",
        "    raise dobException\n",
        "except dobException:\n",
        "  print(\"The year range is not within the range. You cannot apply for the exam\")\n",
        "  "
      ],
      "metadata": {
        "colab": {
          "base_uri": "https://localhost:8080/"
        },
        "id": "9xIn7B-ESxn7",
        "outputId": "35c4d0ad-a08b-47f1-9bc6-4c8dcab184ae"
      },
      "execution_count": 2,
      "outputs": [
        {
          "output_type": "stream",
          "name": "stdout",
          "text": [
            "Enter the year of Birth2000\n",
            "The age is valid. You can apply for the exams\n"
          ]
        }
      ]
    },
    {
      "cell_type": "code",
      "source": [
        "year = int(input(\"Enter the year of Birth\"))\n",
        "age = 2022-year\n",
        "print(age)\n",
        "try:\n",
        "  if age<=30 & age>20:\n",
        "    print(\"The age is valid. You can apply for the exams\")\n",
        "  else:\n",
        "    raise dobException\n",
        "except dobException:\n",
        "    print(\"The year range is not within the range. You cannot apply for the exam.\")"
      ],
      "metadata": {
        "colab": {
          "base_uri": "https://localhost:8080/"
        },
        "id": "rafRpJAWTv-Y",
        "outputId": "4745fda7-3f61-4d8f-f1ea-d351404ee7ae"
      },
      "execution_count": 5,
      "outputs": [
        {
          "output_type": "stream",
          "name": "stdout",
          "text": [
            "Enter the year of Birth1988\n",
            "34\n",
            "The year range is not within the range. You cannot apply for the exam.\n"
          ]
        }
      ]
    },
    {
      "cell_type": "code",
      "source": [
        ""
      ],
      "metadata": {
        "id": "ZeEcUSWjUoAS"
      },
      "execution_count": 5,
      "outputs": []
    }
  ]
}