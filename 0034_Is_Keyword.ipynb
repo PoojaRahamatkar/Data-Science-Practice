{
  "nbformat": 4,
  "nbformat_minor": 0,
  "metadata": {
    "colab": {
      "name": "0034.Is Keyword.ipynb",
      "provenance": []
    },
    "kernelspec": {
      "name": "python3",
      "display_name": "Python 3"
    },
    "language_info": {
      "name": "python"
    }
  },
  "cells": [
    {
      "cell_type": "markdown",
      "source": [
        "**Is Keyword**\n",
        "\n",
        "The Is keyword is used to test if two variables refer to the same object. The test returns **true** if the two objects are the same object. The test returns **False** if they are not the same object, even if the two objects are 100% equal. Use the == operator to test if two variables are equal.\n"
      ],
      "metadata": {
        "id": "ZBc5VyveRWOI"
      }
    },
    {
      "cell_type": "code",
      "execution_count": 1,
      "metadata": {
        "colab": {
          "base_uri": "https://localhost:8080/"
        },
        "id": "nu0hrS-ERC_h",
        "outputId": "6cb4c0f3-1c1a-40a9-dcde-3f37294e7a79"
      },
      "outputs": [
        {
          "output_type": "execute_result",
          "data": {
            "text/plain": [
              "True"
            ]
          },
          "metadata": {},
          "execution_count": 1
        }
      ],
      "source": [
        "##   is vs ==\n",
        "lst1 = [\"Pooja\", \"Soniya\", \"Chini\"]\n",
        "lst2 = [\"Pooja\", \"Soniya\", \"Chini\"]\n",
        "lst1 == lst2"
      ]
    },
    {
      "cell_type": "code",
      "source": [
        "a = \"Pooja\"\n",
        "b = \"Pooja\"\n",
        "a == b"
      ],
      "metadata": {
        "colab": {
          "base_uri": "https://localhost:8080/"
        },
        "id": "Wgio4oERUyLN",
        "outputId": "171c13ee-00e1-460f-a643-119008952405"
      },
      "execution_count": 2,
      "outputs": [
        {
          "output_type": "execute_result",
          "data": {
            "text/plain": [
              "True"
            ]
          },
          "metadata": {},
          "execution_count": 2
        }
      ]
    },
    {
      "cell_type": "code",
      "source": [
        "lst1 = [\"Pooja\",\"Soniya\",\"Chini\"]\n",
        "lst2 = lst1\n",
        "lst1 is lst2"
      ],
      "metadata": {
        "colab": {
          "base_uri": "https://localhost:8080/"
        },
        "id": "7vLE45Q7VFDr",
        "outputId": "f86fbca5-94ff-4b03-bb2c-2672b1c75de1"
      },
      "execution_count": 3,
      "outputs": [
        {
          "output_type": "execute_result",
          "data": {
            "text/plain": [
              "True"
            ]
          },
          "metadata": {},
          "execution_count": 3
        }
      ]
    },
    {
      "cell_type": "code",
      "source": [
        "lst2 is lst1"
      ],
      "metadata": {
        "colab": {
          "base_uri": "https://localhost:8080/"
        },
        "id": "gS7LGk6GWIIL",
        "outputId": "2e7e78c8-3ea5-477b-a911-b6c59666340a"
      },
      "execution_count": 4,
      "outputs": [
        {
          "output_type": "execute_result",
          "data": {
            "text/plain": [
              "True"
            ]
          },
          "metadata": {},
          "execution_count": 4
        }
      ]
    },
    {
      "cell_type": "code",
      "source": [
        "lst2[0] = \"Unknown\""
      ],
      "metadata": {
        "id": "WW6hYjkZWS5Y"
      },
      "execution_count": 5,
      "outputs": []
    },
    {
      "cell_type": "code",
      "source": [
        "lst2"
      ],
      "metadata": {
        "colab": {
          "base_uri": "https://localhost:8080/"
        },
        "id": "wCSo5PHaWkVA",
        "outputId": "c86ee87a-db1e-492e-dcd9-bddb00e75303"
      },
      "execution_count": 6,
      "outputs": [
        {
          "output_type": "execute_result",
          "data": {
            "text/plain": [
              "['Unknown', 'Soniya', 'Chini']"
            ]
          },
          "metadata": {},
          "execution_count": 6
        }
      ]
    },
    {
      "cell_type": "code",
      "source": [
        "lst1"
      ],
      "metadata": {
        "colab": {
          "base_uri": "https://localhost:8080/"
        },
        "id": "XQezX8lWWlce",
        "outputId": "82c88db7-8ce0-4569-e33c-4d73050c732d"
      },
      "execution_count": 7,
      "outputs": [
        {
          "output_type": "execute_result",
          "data": {
            "text/plain": [
              "['Unknown', 'Soniya', 'Chini']"
            ]
          },
          "metadata": {},
          "execution_count": 7
        }
      ]
    },
    {
      "cell_type": "code",
      "source": [
        ""
      ],
      "metadata": {
        "id": "8TC_ntf3Wosi"
      },
      "execution_count": null,
      "outputs": []
    }
  ]
}