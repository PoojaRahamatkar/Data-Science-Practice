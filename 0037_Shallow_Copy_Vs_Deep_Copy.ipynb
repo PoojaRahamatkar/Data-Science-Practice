{
  "nbformat": 4,
  "nbformat_minor": 0,
  "metadata": {
    "colab": {
      "name": "0037.Shallow Copy Vs Deep Copy.ipynb",
      "provenance": []
    },
    "kernelspec": {
      "name": "python3",
      "display_name": "Python 3"
    },
    "language_info": {
      "name": "python"
    }
  },
  "cells": [
    {
      "cell_type": "markdown",
      "source": [
        "**Shallow Copy Vs Deep Copy**\n",
        "\n",
        "A Shallow copy constructs a new compound object and then(to the extent possible) inserts references into it to the objects found in the original.\n",
        "\n",
        "A deep copy constructs a new compound object and then, recursively, inserts copies into it of the objects found in the original."
      ],
      "metadata": {
        "id": "_NRAYCaCfk4_"
      }
    },
    {
      "cell_type": "code",
      "execution_count": 1,
      "metadata": {
        "id": "vrvZiZagfbQQ"
      },
      "outputs": [],
      "source": [
        "## =, copy(), deepcopy()\n",
        "lst1 = [1,2,3,4]\n",
        "lst2 = lst1"
      ]
    },
    {
      "cell_type": "code",
      "source": [
        "lst2[1] = 1000"
      ],
      "metadata": {
        "id": "8RKAm6YBhZHk"
      },
      "execution_count": 2,
      "outputs": []
    },
    {
      "cell_type": "code",
      "source": [
        "lst2"
      ],
      "metadata": {
        "colab": {
          "base_uri": "https://localhost:8080/"
        },
        "id": "2FOewcF9hcYV",
        "outputId": "1a5d8d16-4660-4429-f8f7-0cf1b2c58d23"
      },
      "execution_count": 3,
      "outputs": [
        {
          "output_type": "execute_result",
          "data": {
            "text/plain": [
              "[1, 1000, 3, 4]"
            ]
          },
          "metadata": {},
          "execution_count": 3
        }
      ]
    },
    {
      "cell_type": "code",
      "source": [
        "lst1"
      ],
      "metadata": {
        "colab": {
          "base_uri": "https://localhost:8080/"
        },
        "id": "81ikqF_1heO-",
        "outputId": "08265e62-b399-488c-b03b-35d83c00a216"
      },
      "execution_count": 4,
      "outputs": [
        {
          "output_type": "execute_result",
          "data": {
            "text/plain": [
              "[1, 1000, 3, 4]"
            ]
          },
          "metadata": {},
          "execution_count": 4
        }
      ]
    },
    {
      "cell_type": "code",
      "source": [
        "## Copy\n",
        "## Shallow Copy\n",
        "\n",
        "lst1 = [1,2,3,4]\n",
        "lst2 = lst1.copy()"
      ],
      "metadata": {
        "id": "AzddP3Hqhfgo"
      },
      "execution_count": 5,
      "outputs": []
    },
    {
      "cell_type": "code",
      "source": [
        "lst2[1] = 1000"
      ],
      "metadata": {
        "id": "Jsfn_dWPhp0P"
      },
      "execution_count": 6,
      "outputs": []
    },
    {
      "cell_type": "code",
      "source": [
        "lst2, lst1"
      ],
      "metadata": {
        "colab": {
          "base_uri": "https://localhost:8080/"
        },
        "id": "FtDe95UzhtCm",
        "outputId": "49b645af-715e-4558-d0a7-ea0bee3ca94b"
      },
      "execution_count": 7,
      "outputs": [
        {
          "output_type": "execute_result",
          "data": {
            "text/plain": [
              "([1, 1000, 3, 4], [1, 2, 3, 4])"
            ]
          },
          "metadata": {},
          "execution_count": 7
        }
      ]
    },
    {
      "cell_type": "code",
      "source": [
        "## Shallow Copy nested list\n",
        "\n",
        "lst1 = [[1,2,3,4],[5,6,7,8]]\n",
        "lst2 = lst1.copy()"
      ],
      "metadata": {
        "id": "ZkfG1nXQhv-w"
      },
      "execution_count": 8,
      "outputs": []
    },
    {
      "cell_type": "code",
      "source": [
        "lst1[1][0]=100"
      ],
      "metadata": {
        "id": "fiEM1_EviSnc"
      },
      "execution_count": 9,
      "outputs": []
    },
    {
      "cell_type": "code",
      "source": [
        "lst1"
      ],
      "metadata": {
        "colab": {
          "base_uri": "https://localhost:8080/"
        },
        "id": "QLN9ZOd5iXLd",
        "outputId": "2ae155e5-69bf-4652-a181-89f882be7417"
      },
      "execution_count": 10,
      "outputs": [
        {
          "output_type": "execute_result",
          "data": {
            "text/plain": [
              "[[1, 2, 3, 4], [100, 6, 7, 8]]"
            ]
          },
          "metadata": {},
          "execution_count": 10
        }
      ]
    },
    {
      "cell_type": "code",
      "source": [
        "lst2"
      ],
      "metadata": {
        "colab": {
          "base_uri": "https://localhost:8080/"
        },
        "id": "uyF-U3LaiYXF",
        "outputId": "96b52bc1-142f-46bf-b334-1747657a7a4d"
      },
      "execution_count": 11,
      "outputs": [
        {
          "output_type": "execute_result",
          "data": {
            "text/plain": [
              "[[1, 2, 3, 4], [100, 6, 7, 8]]"
            ]
          },
          "metadata": {},
          "execution_count": 11
        }
      ]
    },
    {
      "cell_type": "code",
      "source": [
        "lst1.append([2,3,4,5])"
      ],
      "metadata": {
        "id": "8bTR7G0fiaZI"
      },
      "execution_count": 12,
      "outputs": []
    },
    {
      "cell_type": "code",
      "source": [
        "lst1"
      ],
      "metadata": {
        "colab": {
          "base_uri": "https://localhost:8080/"
        },
        "id": "YN2M3gQ4ievh",
        "outputId": "83f55406-e3d6-41da-b5e2-62a3dcbb0531"
      },
      "execution_count": 13,
      "outputs": [
        {
          "output_type": "execute_result",
          "data": {
            "text/plain": [
              "[[1, 2, 3, 4], [100, 6, 7, 8], [2, 3, 4, 5]]"
            ]
          },
          "metadata": {},
          "execution_count": 13
        }
      ]
    },
    {
      "cell_type": "code",
      "source": [
        "lst2"
      ],
      "metadata": {
        "colab": {
          "base_uri": "https://localhost:8080/"
        },
        "id": "LcSrL1M8if0F",
        "outputId": "9af03973-b723-4383-cc00-4519ba11109c"
      },
      "execution_count": 14,
      "outputs": [
        {
          "output_type": "execute_result",
          "data": {
            "text/plain": [
              "[[1, 2, 3, 4], [100, 6, 7, 8]]"
            ]
          },
          "metadata": {},
          "execution_count": 14
        }
      ]
    },
    {
      "cell_type": "code",
      "source": [
        "## deep copy\n",
        "\n",
        "import copy\n",
        "lst1 = [1,2,3,4]\n",
        "lst2 = copy.deepcopy(lst1)"
      ],
      "metadata": {
        "id": "1kQkw_fcihEO"
      },
      "execution_count": 15,
      "outputs": []
    },
    {
      "cell_type": "code",
      "source": [
        "lst2[1] = 100"
      ],
      "metadata": {
        "id": "_t2LxcrditK4"
      },
      "execution_count": 16,
      "outputs": []
    },
    {
      "cell_type": "code",
      "source": [
        "lst2"
      ],
      "metadata": {
        "colab": {
          "base_uri": "https://localhost:8080/"
        },
        "id": "KOAhPGZlix4k",
        "outputId": "9eb28f8f-c8f9-4578-9e8f-38f43ee39596"
      },
      "execution_count": 17,
      "outputs": [
        {
          "output_type": "execute_result",
          "data": {
            "text/plain": [
              "[1, 100, 3, 4]"
            ]
          },
          "metadata": {},
          "execution_count": 17
        }
      ]
    },
    {
      "cell_type": "code",
      "source": [
        "## In a normal list shallow === deep copy\n",
        "lst1 = [[1,2,3],[3,4,5],[5,6,7]]\n",
        "lst2 = lst1.copy()"
      ],
      "metadata": {
        "id": "Ua3zSRrwiy06"
      },
      "execution_count": 18,
      "outputs": []
    },
    {
      "cell_type": "code",
      "source": [
        "lst2[1][0]=100"
      ],
      "metadata": {
        "id": "IuVe_9orjD8T"
      },
      "execution_count": 19,
      "outputs": []
    },
    {
      "cell_type": "code",
      "source": [
        "lst2"
      ],
      "metadata": {
        "colab": {
          "base_uri": "https://localhost:8080/"
        },
        "id": "kUxlalkGjJCO",
        "outputId": "500162d9-026d-4669-9927-7ef5be2b884d"
      },
      "execution_count": 20,
      "outputs": [
        {
          "output_type": "execute_result",
          "data": {
            "text/plain": [
              "[[1, 2, 3], [100, 4, 5], [5, 6, 7]]"
            ]
          },
          "metadata": {},
          "execution_count": 20
        }
      ]
    },
    {
      "cell_type": "code",
      "source": [
        "lst1"
      ],
      "metadata": {
        "colab": {
          "base_uri": "https://localhost:8080/"
        },
        "id": "pXuTccWbjJ9g",
        "outputId": "f32c88c3-781b-448a-f604-07dc4ad7bb60"
      },
      "execution_count": 21,
      "outputs": [
        {
          "output_type": "execute_result",
          "data": {
            "text/plain": [
              "[[1, 2, 3], [100, 4, 5], [5, 6, 7]]"
            ]
          },
          "metadata": {},
          "execution_count": 21
        }
      ]
    },
    {
      "cell_type": "code",
      "source": [
        ""
      ],
      "metadata": {
        "id": "qYwzyPXNjLGt"
      },
      "execution_count": null,
      "outputs": []
    }
  ]
}