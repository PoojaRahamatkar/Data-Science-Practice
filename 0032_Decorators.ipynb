{
  "nbformat": 4,
  "nbformat_minor": 0,
  "metadata": {
    "colab": {
      "name": "0032.Decorators.ipynb",
      "provenance": []
    },
    "kernelspec": {
      "name": "python3",
      "display_name": "Python 3"
    },
    "language_info": {
      "name": "python"
    }
  },
  "cells": [
    {
      "cell_type": "markdown",
      "source": [
        "**Decorators**\n",
        "\n",
        "Decorators are a very powerful and useful tool in **Python** since it allows programmers to modify the behaviour of a function or class.\n",
        "\n",
        "* Function Copy :- Creates a copy of an existing list.\n",
        "\n",
        "* Closure :- The technique by which some data (\"Hello in this case\") gets attached to the code is called closure in Python.\n",
        "\n",
        "* Decorators "
      ],
      "metadata": {
        "id": "eeYKN7OXVg-h"
      }
    },
    {
      "cell_type": "code",
      "execution_count": null,
      "metadata": {
        "id": "dSHkqTcaVd7T"
      },
      "outputs": [],
      "source": [
        "def welcome():    # Writing a function\n",
        "  return \"Welcome to Pooja's domain\""
      ]
    },
    {
      "cell_type": "code",
      "source": [
        "wel = welcome()    # Creating a Object"
      ],
      "metadata": {
        "id": "spz9udjUXcPs"
      },
      "execution_count": null,
      "outputs": []
    },
    {
      "cell_type": "code",
      "source": [
        "del welcome   # Deleting the Function Definition Itself"
      ],
      "metadata": {
        "id": "8WMEoqzvXov0"
      },
      "execution_count": null,
      "outputs": []
    },
    {
      "cell_type": "code",
      "source": [
        "wel  # Calling a function object when it is still deleted Already"
      ],
      "metadata": {
        "colab": {
          "base_uri": "https://localhost:8080/",
          "height": 35
        },
        "id": "WPTfsZFUXwQz",
        "outputId": "8e3e6f6a-bd4a-4e18-eb32-5d0bfa62584d"
      },
      "execution_count": null,
      "outputs": [
        {
          "output_type": "execute_result",
          "data": {
            "text/plain": [
              "\"Welcome to Pooja's domain\""
            ],
            "application/vnd.google.colaboratory.intrinsic+json": {
              "type": "string"
            }
          },
          "metadata": {},
          "execution_count": 9
        }
      ]
    },
    {
      "cell_type": "code",
      "source": [
        "welcome()  # Here we can see the Fuction Does not exists"
      ],
      "metadata": {
        "colab": {
          "base_uri": "https://localhost:8080/",
          "height": 165
        },
        "id": "LuE-g4SnX3ul",
        "outputId": "08429b59-77b1-46b0-84c2-05e5240b894e"
      },
      "execution_count": null,
      "outputs": [
        {
          "output_type": "error",
          "ename": "NameError",
          "evalue": "ignored",
          "traceback": [
            "\u001b[0;31m---------------------------------------------------------------------------\u001b[0m",
            "\u001b[0;31mNameError\u001b[0m                                 Traceback (most recent call last)",
            "\u001b[0;32m<ipython-input-11-2bf1c12269bf>\u001b[0m in \u001b[0;36m<module>\u001b[0;34m()\u001b[0m\n\u001b[0;32m----> 1\u001b[0;31m \u001b[0mwelcome\u001b[0m\u001b[0;34m(\u001b[0m\u001b[0;34m)\u001b[0m  \u001b[0;31m# Here we can see the Fuction Does not exists\u001b[0m\u001b[0;34m\u001b[0m\u001b[0;34m\u001b[0m\u001b[0m\n\u001b[0m",
            "\u001b[0;31mNameError\u001b[0m: name 'welcome' is not defined"
          ]
        }
      ]
    },
    {
      "cell_type": "code",
      "source": [
        "## Closures\n",
        "def main_welcome(msg):   # This Type Function Returns an embedded function which are written inside them.\n",
        "  def sub_welcome_class():\n",
        "    print(\"Welcome To Pooja Rahamatkar's domain with a lots of goals\")\n",
        "    print(msg) \n",
        "    print(\"Please Subscribe Pooja Rahamatkar's Domain. Stay Tuned.\")\n",
        "  return sub_welcome_class()"
      ],
      "metadata": {
        "id": "ksO_6VGlYwZi"
      },
      "execution_count": null,
      "outputs": []
    },
    {
      "cell_type": "code",
      "source": [
        "main_welcome(\"soniya\")"
      ],
      "metadata": {
        "colab": {
          "base_uri": "https://localhost:8080/"
        },
        "id": "54N5-q8BZQTu",
        "outputId": "28375022-3016-491c-853e-a0a42aea60d3"
      },
      "execution_count": null,
      "outputs": [
        {
          "output_type": "stream",
          "name": "stdout",
          "text": [
            "Welcome To Pooja Rahamatkar's domain with a lots of goals\n",
            "soniya\n",
            "Please Subscribe Pooja Rahamatkar's Domain. Stay Tuned.\n"
          ]
        }
      ]
    },
    {
      "cell_type": "code",
      "source": [
        "## Closures & Initials Decorators\n",
        "def main_welcome(func):\n",
        "  def sub_welcome_class():\n",
        "    print(\"Welcome To Pooja Rahamatkar's domain with a lots of goals\")\n",
        "    print(func([1,2,3,4,5,6]))  # Here the parameter is Converted into function.\n",
        "    print(\"Please Subscribe Pooja Rahamatkar's domain. Stay tuned\")\n",
        "  return sub_welcome_class()"
      ],
      "metadata": {
        "id": "2VJ8l6xqamLU"
      },
      "execution_count": null,
      "outputs": []
    },
    {
      "cell_type": "code",
      "source": [
        "main_welcome(len)"
      ],
      "metadata": {
        "colab": {
          "base_uri": "https://localhost:8080/"
        },
        "id": "K42kfWB2c_4t",
        "outputId": "3f75d818-ec57-4c29-c7fa-2c69c3a56d27"
      },
      "execution_count": null,
      "outputs": [
        {
          "output_type": "stream",
          "name": "stdout",
          "text": [
            "Welcome To Pooja Rahamatkar's domain with a lots of goals\n",
            "6\n",
            "Please Subscribe Pooja Rahamatkar's domain. Stay tuned\n"
          ]
        }
      ]
    },
    {
      "cell_type": "code",
      "source": [
        "## Decorators\n",
        "def main_welcome(func):\n",
        "  def sub_welcome_class():\n",
        "    print(\"Welcome To Pooja's Domain\")\n",
        "    func()\n",
        "    print(\"Please Subscribe Pooja's Domain\")\n",
        "  return sub_welcome_class()"
      ],
      "metadata": {
        "id": "O1M-pH6jd8mT"
      },
      "execution_count": null,
      "outputs": []
    },
    {
      "cell_type": "code",
      "source": [
        "@main_welcome\n",
        "def channel_name():\n",
        "  print(\"This is Pooja's Domain\")"
      ],
      "metadata": {
        "colab": {
          "base_uri": "https://localhost:8080/"
        },
        "id": "mP0yGtwmeo1C",
        "outputId": "2afdc2be-b641-4524-e00f-18c94f1b13ae"
      },
      "execution_count": null,
      "outputs": [
        {
          "output_type": "stream",
          "name": "stdout",
          "text": [
            "Welcome To Pooja's Domain\n",
            "This is Pooja's Domain\n",
            "Please Subscribe Pooja's Domain\n"
          ]
        }
      ]
    },
    {
      "cell_type": "code",
      "source": [
        "main_welcome(channel_name)"
      ],
      "metadata": {
        "colab": {
          "base_uri": "https://localhost:8080/",
          "height": 328
        },
        "id": "uynjcg8Xex3J",
        "outputId": "0b31d62c-13cd-4f6b-de22-87d6614e9cde"
      },
      "execution_count": null,
      "outputs": [
        {
          "output_type": "stream",
          "name": "stdout",
          "text": [
            "Welcome To Pooja's Domain\n"
          ]
        },
        {
          "output_type": "error",
          "ename": "TypeError",
          "evalue": "ignored",
          "traceback": [
            "\u001b[0;31m---------------------------------------------------------------------------\u001b[0m",
            "\u001b[0;31mTypeError\u001b[0m                                 Traceback (most recent call last)",
            "\u001b[0;32m<ipython-input-47-ba19ce0e425f>\u001b[0m in \u001b[0;36m<module>\u001b[0;34m()\u001b[0m\n\u001b[0;32m----> 1\u001b[0;31m \u001b[0mmain_welcome\u001b[0m\u001b[0;34m(\u001b[0m\u001b[0mchannel_name\u001b[0m\u001b[0;34m)\u001b[0m\u001b[0;34m\u001b[0m\u001b[0;34m\u001b[0m\u001b[0m\n\u001b[0m",
            "\u001b[0;32m<ipython-input-43-90836670a8ca>\u001b[0m in \u001b[0;36mmain_welcome\u001b[0;34m(func)\u001b[0m\n\u001b[1;32m      5\u001b[0m     \u001b[0mfunc\u001b[0m\u001b[0;34m(\u001b[0m\u001b[0;34m)\u001b[0m\u001b[0;34m\u001b[0m\u001b[0;34m\u001b[0m\u001b[0m\n\u001b[1;32m      6\u001b[0m     \u001b[0mprint\u001b[0m\u001b[0;34m(\u001b[0m\u001b[0;34m\"Please Subscribe Pooja's Domain\"\u001b[0m\u001b[0;34m)\u001b[0m\u001b[0;34m\u001b[0m\u001b[0;34m\u001b[0m\u001b[0m\n\u001b[0;32m----> 7\u001b[0;31m   \u001b[0;32mreturn\u001b[0m \u001b[0msub_welcome_class\u001b[0m\u001b[0;34m(\u001b[0m\u001b[0;34m)\u001b[0m\u001b[0;34m\u001b[0m\u001b[0;34m\u001b[0m\u001b[0m\n\u001b[0m",
            "\u001b[0;32m<ipython-input-43-90836670a8ca>\u001b[0m in \u001b[0;36msub_welcome_class\u001b[0;34m()\u001b[0m\n\u001b[1;32m      3\u001b[0m   \u001b[0;32mdef\u001b[0m \u001b[0msub_welcome_class\u001b[0m\u001b[0;34m(\u001b[0m\u001b[0;34m)\u001b[0m\u001b[0;34m:\u001b[0m\u001b[0;34m\u001b[0m\u001b[0;34m\u001b[0m\u001b[0m\n\u001b[1;32m      4\u001b[0m     \u001b[0mprint\u001b[0m\u001b[0;34m(\u001b[0m\u001b[0;34m\"Welcome To Pooja's Domain\"\u001b[0m\u001b[0;34m)\u001b[0m\u001b[0;34m\u001b[0m\u001b[0;34m\u001b[0m\u001b[0m\n\u001b[0;32m----> 5\u001b[0;31m     \u001b[0mfunc\u001b[0m\u001b[0;34m(\u001b[0m\u001b[0;34m)\u001b[0m\u001b[0;34m\u001b[0m\u001b[0;34m\u001b[0m\u001b[0m\n\u001b[0m\u001b[1;32m      6\u001b[0m     \u001b[0mprint\u001b[0m\u001b[0;34m(\u001b[0m\u001b[0;34m\"Please Subscribe Pooja's Domain\"\u001b[0m\u001b[0;34m)\u001b[0m\u001b[0;34m\u001b[0m\u001b[0;34m\u001b[0m\u001b[0m\n\u001b[1;32m      7\u001b[0m   \u001b[0;32mreturn\u001b[0m \u001b[0msub_welcome_class\u001b[0m\u001b[0;34m(\u001b[0m\u001b[0;34m)\u001b[0m\u001b[0;34m\u001b[0m\u001b[0;34m\u001b[0m\u001b[0m\n",
            "\u001b[0;31mTypeError\u001b[0m: 'NoneType' object is not callable"
          ]
        }
      ]
    },
    {
      "cell_type": "code",
      "source": [
        ""
      ],
      "metadata": {
        "id": "Dpc_i4Nje_O-"
      },
      "execution_count": null,
      "outputs": []
    }
  ]
}