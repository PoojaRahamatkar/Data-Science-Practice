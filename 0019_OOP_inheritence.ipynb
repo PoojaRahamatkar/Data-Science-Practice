{
  "nbformat": 4,
  "nbformat_minor": 0,
  "metadata": {
    "colab": {
      "name": "0019.OOP-inheritence.ipynb",
      "provenance": []
    },
    "kernelspec": {
      "name": "python3",
      "display_name": "Python 3"
    },
    "language_info": {
      "name": "python"
    }
  },
  "cells": [
    {
      "cell_type": "markdown",
      "source": [
        "**Object Oriented Programming - Inheritance**"
      ],
      "metadata": {
        "id": "3uugd4IAHjgv"
      }
    },
    {
      "cell_type": "code",
      "execution_count": 1,
      "metadata": {
        "id": "QBMzSEOdHNBz"
      },
      "outputs": [],
      "source": [
        "## All the class variables are public\n",
        "## Car Blueprint\n",
        "class Car():\n",
        "  def __init__(self, windows, doors, enginetype):\n",
        "    self.windows = windows\n",
        "    self.doors = doors\n",
        "    self.enginetype = enginetype\n",
        "  def drive():\n",
        "    print(\"The person drive the car\")"
      ]
    },
    {
      "cell_type": "code",
      "source": [
        "car = Car(4,5,\"Diesel\")"
      ],
      "metadata": {
        "id": "NM81KxBGIIUx"
      },
      "execution_count": 2,
      "outputs": []
    },
    {
      "cell_type": "code",
      "source": [
        "car.windows"
      ],
      "metadata": {
        "colab": {
          "base_uri": "https://localhost:8080/"
        },
        "id": "hrlNdwwFIdvD",
        "outputId": "db9bdaa8-427e-46c9-d0b5-55d3db9a5504"
      },
      "execution_count": 3,
      "outputs": [
        {
          "output_type": "execute_result",
          "data": {
            "text/plain": [
              "4"
            ]
          },
          "metadata": {},
          "execution_count": 3
        }
      ]
    },
    {
      "cell_type": "code",
      "source": [
        "dir(car)"
      ],
      "metadata": {
        "colab": {
          "base_uri": "https://localhost:8080/"
        },
        "id": "QzFdAXAnIfS6",
        "outputId": "6fc6b113-3d86-4462-b2c2-da5989d60f65"
      },
      "execution_count": 4,
      "outputs": [
        {
          "output_type": "execute_result",
          "data": {
            "text/plain": [
              "['__class__',\n",
              " '__delattr__',\n",
              " '__dict__',\n",
              " '__dir__',\n",
              " '__doc__',\n",
              " '__eq__',\n",
              " '__format__',\n",
              " '__ge__',\n",
              " '__getattribute__',\n",
              " '__gt__',\n",
              " '__hash__',\n",
              " '__init__',\n",
              " '__init_subclass__',\n",
              " '__le__',\n",
              " '__lt__',\n",
              " '__module__',\n",
              " '__ne__',\n",
              " '__new__',\n",
              " '__reduce__',\n",
              " '__reduce_ex__',\n",
              " '__repr__',\n",
              " '__setattr__',\n",
              " '__sizeof__',\n",
              " '__str__',\n",
              " '__subclasshook__',\n",
              " '__weakref__',\n",
              " 'doors',\n",
              " 'drive',\n",
              " 'enginetype',\n",
              " 'windows']"
            ]
          },
          "metadata": {},
          "execution_count": 4
        }
      ]
    },
    {
      "cell_type": "code",
      "source": [
        "car.windows"
      ],
      "metadata": {
        "colab": {
          "base_uri": "https://localhost:8080/"
        },
        "id": "cBtN3MfRIgoc",
        "outputId": "1a613aee-59c4-4635-9202-7bb65cc9051f"
      },
      "execution_count": 5,
      "outputs": [
        {
          "output_type": "execute_result",
          "data": {
            "text/plain": [
              "4"
            ]
          },
          "metadata": {},
          "execution_count": 5
        }
      ]
    },
    {
      "cell_type": "code",
      "source": [
        "car.enginetype"
      ],
      "metadata": {
        "colab": {
          "base_uri": "https://localhost:8080/",
          "height": 35
        },
        "id": "eBwFEMqLImfS",
        "outputId": "4d94ac6d-5279-49da-dacc-e2846456efcd"
      },
      "execution_count": 6,
      "outputs": [
        {
          "output_type": "execute_result",
          "data": {
            "text/plain": [
              "'Diesel'"
            ],
            "application/vnd.google.colaboratory.intrinsic+json": {
              "type": "string"
            }
          },
          "metadata": {},
          "execution_count": 6
        }
      ]
    },
    {
      "cell_type": "code",
      "source": [
        "car.drive()   ## When we do not write self in class drive()"
      ],
      "metadata": {
        "colab": {
          "base_uri": "https://localhost:8080/",
          "height": 165
        },
        "id": "5zuOavETIo74",
        "outputId": "bd63d39e-beb1-4ec0-daab-16958d73e4c6"
      },
      "execution_count": 7,
      "outputs": [
        {
          "output_type": "error",
          "ename": "TypeError",
          "evalue": "ignored",
          "traceback": [
            "\u001b[0;31m---------------------------------------------------------------------------\u001b[0m",
            "\u001b[0;31mTypeError\u001b[0m                                 Traceback (most recent call last)",
            "\u001b[0;32m<ipython-input-7-061457aa2488>\u001b[0m in \u001b[0;36m<module>\u001b[0;34m()\u001b[0m\n\u001b[0;32m----> 1\u001b[0;31m \u001b[0mcar\u001b[0m\u001b[0;34m.\u001b[0m\u001b[0mdrive\u001b[0m\u001b[0;34m(\u001b[0m\u001b[0;34m)\u001b[0m   \u001b[0;31m## When we do not write self in class drive()\u001b[0m\u001b[0;34m\u001b[0m\u001b[0;34m\u001b[0m\u001b[0m\n\u001b[0m",
            "\u001b[0;31mTypeError\u001b[0m: drive() takes 0 positional arguments but 1 was given"
          ]
        }
      ]
    },
    {
      "cell_type": "code",
      "source": [
        "## All the class variables are public\n",
        "## Car Blueprint\n",
        "\n",
        "class Car():\n",
        "  def __init__(self, windows, doors, enginetype):\n",
        "    self.windows = windows\n",
        "    self.doors = doors\n",
        "    self.enginetype = enginetype\n",
        "  def drive(self):\n",
        "    print(\"The person drive the car\")\n",
        "               "
      ],
      "metadata": {
        "id": "sKG08W7WIxlJ"
      },
      "execution_count": 8,
      "outputs": []
    },
    {
      "cell_type": "code",
      "source": [
        "car = Car(4,5,\"Diesel\")"
      ],
      "metadata": {
        "id": "3WbdZoD4JlAP"
      },
      "execution_count": 9,
      "outputs": []
    },
    {
      "cell_type": "code",
      "source": [
        "car.drive()"
      ],
      "metadata": {
        "colab": {
          "base_uri": "https://localhost:8080/"
        },
        "id": "uSYY3qM0JsfG",
        "outputId": "cc672e72-8d9e-4dc2-fb83-ff4b33f01ebc"
      },
      "execution_count": 10,
      "outputs": [
        {
          "output_type": "stream",
          "name": "stdout",
          "text": [
            "The person drive the car\n"
          ]
        }
      ]
    },
    {
      "cell_type": "code",
      "source": [
        "class audi(Car):\n",
        "  def __init__(self, windows, doors, enginetype, enableai):\n",
        "    super().__init__(windows, doors, enginetype)\n",
        "    self.enableai = enableai\n",
        "  def selfdriving(self):\n",
        "    print(\"Audi supports self driving\")"
      ],
      "metadata": {
        "id": "MfKxf4-SJuiW"
      },
      "execution_count": 11,
      "outputs": []
    },
    {
      "cell_type": "code",
      "source": [
        "audiQ7 = audi(5,5,\"Diesel\", True)"
      ],
      "metadata": {
        "id": "iPtj0wQzLPP9"
      },
      "execution_count": 12,
      "outputs": []
    },
    {
      "cell_type": "code",
      "source": [
        "dir(audiQ7)"
      ],
      "metadata": {
        "colab": {
          "base_uri": "https://localhost:8080/"
        },
        "id": "I5s0GlldLuUZ",
        "outputId": "1283b0bb-0311-4623-e08a-fbfca42a1be5"
      },
      "execution_count": 13,
      "outputs": [
        {
          "output_type": "execute_result",
          "data": {
            "text/plain": [
              "['__class__',\n",
              " '__delattr__',\n",
              " '__dict__',\n",
              " '__dir__',\n",
              " '__doc__',\n",
              " '__eq__',\n",
              " '__format__',\n",
              " '__ge__',\n",
              " '__getattribute__',\n",
              " '__gt__',\n",
              " '__hash__',\n",
              " '__init__',\n",
              " '__init_subclass__',\n",
              " '__le__',\n",
              " '__lt__',\n",
              " '__module__',\n",
              " '__ne__',\n",
              " '__new__',\n",
              " '__reduce__',\n",
              " '__reduce_ex__',\n",
              " '__repr__',\n",
              " '__setattr__',\n",
              " '__sizeof__',\n",
              " '__str__',\n",
              " '__subclasshook__',\n",
              " '__weakref__',\n",
              " 'doors',\n",
              " 'drive',\n",
              " 'enableai',\n",
              " 'enginetype',\n",
              " 'selfdriving',\n",
              " 'windows']"
            ]
          },
          "metadata": {},
          "execution_count": 13
        }
      ]
    },
    {
      "cell_type": "code",
      "source": [
        "audiQ7.doors"
      ],
      "metadata": {
        "colab": {
          "base_uri": "https://localhost:8080/"
        },
        "id": "kc7LU-UGLwV1",
        "outputId": "c0c8e5fa-0365-4be4-87d6-085ff659508d"
      },
      "execution_count": 14,
      "outputs": [
        {
          "output_type": "execute_result",
          "data": {
            "text/plain": [
              "5"
            ]
          },
          "metadata": {},
          "execution_count": 14
        }
      ]
    },
    {
      "cell_type": "code",
      "source": [
        "audiQ7.selfdriving()"
      ],
      "metadata": {
        "colab": {
          "base_uri": "https://localhost:8080/"
        },
        "id": "tjZSP4ucL2dQ",
        "outputId": "f5597c62-dcc7-4919-9c9b-f8d3c4b5a949"
      },
      "execution_count": 15,
      "outputs": [
        {
          "output_type": "stream",
          "name": "stdout",
          "text": [
            "Audi supports self driving\n"
          ]
        }
      ]
    },
    {
      "cell_type": "code",
      "source": [
        "audiQ7.enableai"
      ],
      "metadata": {
        "colab": {
          "base_uri": "https://localhost:8080/"
        },
        "id": "LeGXCUUgL5bc",
        "outputId": "e826dd5c-535c-41f7-f9be-980613ee0233"
      },
      "execution_count": 16,
      "outputs": [
        {
          "output_type": "execute_result",
          "data": {
            "text/plain": [
              "True"
            ]
          },
          "metadata": {},
          "execution_count": 16
        }
      ]
    },
    {
      "cell_type": "code",
      "source": [
        "type(audiQ7.enableai)"
      ],
      "metadata": {
        "colab": {
          "base_uri": "https://localhost:8080/"
        },
        "id": "6CjFbrLhL8CJ",
        "outputId": "6dda918c-ec5a-4e69-e033-eae61d21e44b"
      },
      "execution_count": 17,
      "outputs": [
        {
          "output_type": "execute_result",
          "data": {
            "text/plain": [
              "bool"
            ]
          },
          "metadata": {},
          "execution_count": 17
        }
      ]
    },
    {
      "cell_type": "code",
      "source": [
        ""
      ],
      "metadata": {
        "id": "70YnilMGL_rY"
      },
      "execution_count": null,
      "outputs": []
    }
  ]
}