{
  "nbformat": 4,
  "nbformat_minor": 0,
  "metadata": {
    "colab": {
      "name": "0011.List Comprehension.ipynb",
      "provenance": []
    },
    "kernelspec": {
      "name": "python3",
      "display_name": "Python 3"
    },
    "language_info": {
      "name": "python"
    }
  },
  "cells": [
    {
      "cell_type": "markdown",
      "source": [
        "**List Comprehension**\n",
        "\n",
        "List Comprehensions provide a concise way to create lists. It consists of brackets containing an expression followed by a for anything, meaning you can put in all kinds of objects in lists."
      ],
      "metadata": {
        "id": "TamRqpkNvul0"
      }
    },
    {
      "cell_type": "code",
      "execution_count": 1,
      "metadata": {
        "id": "Gd61PyxNss6U"
      },
      "outputs": [],
      "source": [
        "# square using normal fuction\n",
        "lst1=[]\n",
        "def lst_square(lst):\n",
        "  for i in lst:\n",
        "    lst1.append(i*i)\n",
        "  return lst1"
      ]
    },
    {
      "cell_type": "code",
      "source": [
        "lst_square([1,2,3,4,5,6,7,8,9])"
      ],
      "metadata": {
        "colab": {
          "base_uri": "https://localhost:8080/"
        },
        "id": "2XprtdidwZTU",
        "outputId": "e828a9fa-0a75-4c84-9138-dc9a78f1c06b"
      },
      "execution_count": 2,
      "outputs": [
        {
          "output_type": "execute_result",
          "data": {
            "text/plain": [
              "[1, 4, 9, 16, 25, 36, 49, 64, 81]"
            ]
          },
          "metadata": {},
          "execution_count": 2
        }
      ]
    },
    {
      "cell_type": "code",
      "source": [
        "lst = [1,2,3,4,5,6,7,8,9]"
      ],
      "metadata": {
        "id": "gOawwqZUwexC"
      },
      "execution_count": 3,
      "outputs": []
    },
    {
      "cell_type": "code",
      "source": [
        "# square using list comprehension\n",
        "[i*i for i in lst]"
      ],
      "metadata": {
        "colab": {
          "base_uri": "https://localhost:8080/"
        },
        "id": "LI-c1ThVwiMp",
        "outputId": "94a31f98-bb90-4cd2-fde6-1a36b51a77df"
      },
      "execution_count": 4,
      "outputs": [
        {
          "output_type": "execute_result",
          "data": {
            "text/plain": [
              "[1, 4, 9, 16, 25, 36, 49, 64, 81]"
            ]
          },
          "metadata": {},
          "execution_count": 4
        }
      ]
    },
    {
      "cell_type": "code",
      "source": [
        "lst1 = [i*i for i in lst]"
      ],
      "metadata": {
        "id": "Mk4t-7B8woQe"
      },
      "execution_count": 5,
      "outputs": []
    },
    {
      "cell_type": "code",
      "source": [
        "lst1"
      ],
      "metadata": {
        "colab": {
          "base_uri": "https://localhost:8080/"
        },
        "id": "yBEVARl7wtRx",
        "outputId": "de6db570-3338-46fd-f3b0-d9920053767a"
      },
      "execution_count": 7,
      "outputs": [
        {
          "output_type": "execute_result",
          "data": {
            "text/plain": [
              "[1, 4, 9, 16, 25, 36, 49, 64, 81]"
            ]
          },
          "metadata": {},
          "execution_count": 7
        }
      ]
    },
    {
      "cell_type": "code",
      "source": [
        "lst2 = [1,2,3,4,5,6,7,8,9]"
      ],
      "metadata": {
        "id": "1qlEtfDkwuyL"
      },
      "execution_count": 8,
      "outputs": []
    },
    {
      "cell_type": "code",
      "source": [
        "# finding square with reminder 0\n",
        "lst2 = [i*i for i in lst2 if i%2==0]"
      ],
      "metadata": {
        "id": "E7xRcHoXw5_n"
      },
      "execution_count": 12,
      "outputs": []
    },
    {
      "cell_type": "code",
      "source": [
        "lst2"
      ],
      "metadata": {
        "colab": {
          "base_uri": "https://localhost:8080/"
        },
        "id": "jCgiUBqPxB_b",
        "outputId": "e086c8ba-19d8-42e2-99d6-6705509e142b"
      },
      "execution_count": 13,
      "outputs": [
        {
          "output_type": "execute_result",
          "data": {
            "text/plain": [
              "[4, 16, 36, 64]"
            ]
          },
          "metadata": {},
          "execution_count": 13
        }
      ]
    },
    {
      "cell_type": "code",
      "source": [
        "# finding square with no 0 reminder\n",
        "lst3 = [i*i for i in lst if i%2!=0]"
      ],
      "metadata": {
        "id": "9246UJQpxYPr"
      },
      "execution_count": 14,
      "outputs": []
    },
    {
      "cell_type": "code",
      "source": [
        "lst3"
      ],
      "metadata": {
        "colab": {
          "base_uri": "https://localhost:8080/"
        },
        "id": "mFs3RCxXxfdI",
        "outputId": "ede988c9-8b29-4d5e-b0b5-3b79b1f4ae77"
      },
      "execution_count": 15,
      "outputs": [
        {
          "output_type": "execute_result",
          "data": {
            "text/plain": [
              "[1, 9, 25, 49, 81]"
            ]
          },
          "metadata": {},
          "execution_count": 15
        }
      ]
    },
    {
      "cell_type": "code",
      "source": [
        "# cube using list comprehension\n",
        "ls = [i*i*i for i in lst ]"
      ],
      "metadata": {
        "id": "KhButayJxhek"
      },
      "execution_count": 16,
      "outputs": []
    },
    {
      "cell_type": "code",
      "source": [
        "ls"
      ],
      "metadata": {
        "colab": {
          "base_uri": "https://localhost:8080/"
        },
        "id": "XJwn7H2qx8ck",
        "outputId": "a0e6e4e0-1433-49fc-a33c-18731d7dfbad"
      },
      "execution_count": 17,
      "outputs": [
        {
          "output_type": "execute_result",
          "data": {
            "text/plain": [
              "[1, 8, 27, 64, 125, 216, 343, 512, 729]"
            ]
          },
          "metadata": {},
          "execution_count": 17
        }
      ]
    },
    {
      "cell_type": "code",
      "source": [
        ""
      ],
      "metadata": {
        "id": "7aiOUCbRx-B6"
      },
      "execution_count": null,
      "outputs": []
    }
  ]
}