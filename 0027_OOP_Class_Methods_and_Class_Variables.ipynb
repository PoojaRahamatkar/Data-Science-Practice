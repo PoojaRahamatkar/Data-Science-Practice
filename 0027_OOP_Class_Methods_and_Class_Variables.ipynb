{
  "nbformat": 4,
  "nbformat_minor": 0,
  "metadata": {
    "colab": {
      "name": "0027.OOP Class Methods and Class Variables.ipynb",
      "provenance": []
    },
    "kernelspec": {
      "name": "python3",
      "display_name": "Python 3"
    },
    "language_info": {
      "name": "python"
    }
  },
  "cells": [
    {
      "cell_type": "code",
      "execution_count": 3,
      "metadata": {
        "id": "jezq20bUtLnh"
      },
      "outputs": [],
      "source": [
        "## All the class variables are public\n",
        "## Car Blueprint\n",
        "class Car():\n",
        "  def __new__(self,window,doors,enginetype):\n",
        "    print(\"The Object has started getting initialized\")\n",
        "  def __init__(self,windows,doors,enginetype):\n",
        "    self.windows = windows\n",
        "    self.doors = doors\n",
        "    self.enginetype = enginetype\n",
        "  def __str__(self):\n",
        "    return \"The Object has been initialized\"\n",
        "  def __sizeof__(self):\n",
        "    return \"This displays size of the object\"\n",
        "  def drive(self):\n",
        "    print(\"The Person drives the car\")"
      ]
    },
    {
      "cell_type": "code",
      "source": [
        "c = Car(4,5,\"Disel\")    # Constructor is executed Here"
      ],
      "metadata": {
        "colab": {
          "base_uri": "https://localhost:8080/"
        },
        "id": "zAYahZrS0Gg1",
        "outputId": "02f2d3c9-f168-4c36-d365-5e1b39af05e6"
      },
      "execution_count": 4,
      "outputs": [
        {
          "output_type": "stream",
          "name": "stdout",
          "text": [
            "The Object has started getting initialized\n"
          ]
        }
      ]
    },
    {
      "cell_type": "code",
      "source": [
        "print(c)    # This should parse__str__() and execute and return some thing  !!"
      ],
      "metadata": {
        "colab": {
          "base_uri": "https://localhost:8080/"
        },
        "id": "fdRQoKbO2mJ3",
        "outputId": "abb1458d-90d7-4800-fa3d-a9781b0efc65"
      },
      "execution_count": 5,
      "outputs": [
        {
          "output_type": "stream",
          "name": "stdout",
          "text": [
            "None\n"
          ]
        }
      ]
    },
    {
      "cell_type": "code",
      "source": [
        "c"
      ],
      "metadata": {
        "id": "8IP4t0JU3Rma"
      },
      "execution_count": 6,
      "outputs": []
    },
    {
      "cell_type": "code",
      "source": [
        "c.__sizeof__()"
      ],
      "metadata": {
        "colab": {
          "base_uri": "https://localhost:8080/"
        },
        "id": "p09gpUrj3TD9",
        "outputId": "68df7c88-97b5-4651-8488-d6e317e6cd24"
      },
      "execution_count": 7,
      "outputs": [
        {
          "output_type": "execute_result",
          "data": {
            "text/plain": [
              "16"
            ]
          },
          "metadata": {},
          "execution_count": 7
        }
      ]
    },
    {
      "cell_type": "code",
      "source": [
        "dir(c)"
      ],
      "metadata": {
        "colab": {
          "base_uri": "https://localhost:8080/"
        },
        "id": "xBCEUNEB3abh",
        "outputId": "271722de-c315-4758-bec8-e484c49e95d9"
      },
      "execution_count": 8,
      "outputs": [
        {
          "output_type": "execute_result",
          "data": {
            "text/plain": [
              "['__bool__',\n",
              " '__class__',\n",
              " '__delattr__',\n",
              " '__dir__',\n",
              " '__doc__',\n",
              " '__eq__',\n",
              " '__format__',\n",
              " '__ge__',\n",
              " '__getattribute__',\n",
              " '__gt__',\n",
              " '__hash__',\n",
              " '__init__',\n",
              " '__init_subclass__',\n",
              " '__le__',\n",
              " '__lt__',\n",
              " '__ne__',\n",
              " '__new__',\n",
              " '__reduce__',\n",
              " '__reduce_ex__',\n",
              " '__repr__',\n",
              " '__setattr__',\n",
              " '__sizeof__',\n",
              " '__str__',\n",
              " '__subclasshook__']"
            ]
          },
          "metadata": {},
          "execution_count": 8
        }
      ]
    },
    {
      "cell_type": "code",
      "source": [
        ""
      ],
      "metadata": {
        "id": "ueSnxw7n3j32"
      },
      "execution_count": null,
      "outputs": []
    }
  ]
}