{
  "nbformat": 4,
  "nbformat_minor": 0,
  "metadata": {
    "colab": {
      "name": "0012.String Formating.ipynb",
      "provenance": []
    },
    "kernelspec": {
      "name": "python3",
      "display_name": "Python 3"
    },
    "language_info": {
      "name": "python"
    }
  },
  "cells": [
    {
      "cell_type": "markdown",
      "source": [
        "**String Formatting**\n",
        "\n",
        "* Place Holder\n",
        "* Temporary Variables"
      ],
      "metadata": {
        "id": "vvSMiDWUzlUh"
      }
    },
    {
      "cell_type": "code",
      "execution_count": 1,
      "metadata": {
        "colab": {
          "base_uri": "https://localhost:8080/"
        },
        "id": "8rXqf96DzWpC",
        "outputId": "54d8ad4f-f087-48d0-c333-2cdc87354e7d"
      },
      "outputs": [
        {
          "output_type": "stream",
          "name": "stdout",
          "text": [
            "Hello Everyone\n"
          ]
        }
      ],
      "source": [
        "print(\"Hello Everyone\")"
      ]
    },
    {
      "cell_type": "code",
      "source": [
        "str=\"Hello world\""
      ],
      "metadata": {
        "id": "CBIYxwRnz8PU"
      },
      "execution_count": 2,
      "outputs": []
    },
    {
      "cell_type": "code",
      "source": [
        "print(str)"
      ],
      "metadata": {
        "colab": {
          "base_uri": "https://localhost:8080/"
        },
        "id": "q1HYxuK70BNT",
        "outputId": "bf8fba2c-3145-432f-abc5-63bdd7e369b2"
      },
      "execution_count": 3,
      "outputs": [
        {
          "output_type": "stream",
          "name": "stdout",
          "text": [
            "Hello world\n"
          ]
        }
      ]
    },
    {
      "cell_type": "code",
      "source": [
        "def greeting(name):\n",
        "  return \"Hello {}. Welcome the Community.\".format(name)"
      ],
      "metadata": {
        "id": "TZFNhuB80Cdr"
      },
      "execution_count": 4,
      "outputs": []
    },
    {
      "cell_type": "code",
      "source": [
        "greeting(\"Pooja Rahamatkar\")"
      ],
      "metadata": {
        "colab": {
          "base_uri": "https://localhost:8080/",
          "height": 35
        },
        "id": "u6rcgyBi0QFy",
        "outputId": "a3469a90-d695-4c16-d46a-3d44ba4fdce7"
      },
      "execution_count": 5,
      "outputs": [
        {
          "output_type": "execute_result",
          "data": {
            "text/plain": [
              "'Hello Pooja Rahamatkar. Welcome the Community.'"
            ],
            "application/vnd.google.colaboratory.intrinsic+json": {
              "type": "string"
            }
          },
          "metadata": {},
          "execution_count": 5
        }
      ]
    },
    {
      "cell_type": "code",
      "source": [
        "def welcome_email(firstname, lastname):\n",
        "  return \"Welcome {}. Everyone please Welcome {}.\".format(firstname,lastname)"
      ],
      "metadata": {
        "id": "5f1RZt1F0VPR"
      },
      "execution_count": 6,
      "outputs": []
    },
    {
      "cell_type": "code",
      "source": [
        "welcome_email(\"Pooja\",\"Rahamatkar\")"
      ],
      "metadata": {
        "colab": {
          "base_uri": "https://localhost:8080/",
          "height": 35
        },
        "id": "nIV0qsIt0m5C",
        "outputId": "91282aa9-e4bc-445b-8388-46fa471e21dd"
      },
      "execution_count": 7,
      "outputs": [
        {
          "output_type": "execute_result",
          "data": {
            "text/plain": [
              "'Welcome Pooja. Everyone please Welcome Rahamatkar.'"
            ],
            "application/vnd.google.colaboratory.intrinsic+json": {
              "type": "string"
            }
          },
          "metadata": {},
          "execution_count": 7
        }
      ]
    },
    {
      "cell_type": "code",
      "source": [
        "def welcome(name, age):\n",
        "  return \"Welcome {}. Your Age is {}\".format(name,age)"
      ],
      "metadata": {
        "id": "4UyfRBUv0vVE"
      },
      "execution_count": 8,
      "outputs": []
    },
    {
      "cell_type": "code",
      "source": [
        "welcome(\"Pooja\", 21)"
      ],
      "metadata": {
        "colab": {
          "base_uri": "https://localhost:8080/",
          "height": 35
        },
        "id": "_gIEwAbw1KsU",
        "outputId": "461c550b-c332-475e-e4ea-02fe526a96d9"
      },
      "execution_count": 9,
      "outputs": [
        {
          "output_type": "execute_result",
          "data": {
            "text/plain": [
              "'Welcome Pooja. Your Age is 21'"
            ],
            "application/vnd.google.colaboratory.intrinsic+json": {
              "type": "string"
            }
          },
          "metadata": {},
          "execution_count": 9
        }
      ]
    },
    {
      "cell_type": "code",
      "source": [
        "## Order Place A very Crusial Role in Format Method\n",
        "def welcome(name, age):\n",
        "  return \"Welcome {}. Your Age is {}\".format(name, age)"
      ],
      "metadata": {
        "id": "TJDy7VVW1P3L"
      },
      "execution_count": 10,
      "outputs": []
    },
    {
      "cell_type": "code",
      "source": [
        "welcome(\"Pooja\", 21)"
      ],
      "metadata": {
        "colab": {
          "base_uri": "https://localhost:8080/",
          "height": 35
        },
        "id": "L1OwsTH11rSB",
        "outputId": "964c6140-dfd5-42bb-cbbb-2f479bf9349e"
      },
      "execution_count": 11,
      "outputs": [
        {
          "output_type": "execute_result",
          "data": {
            "text/plain": [
              "'Welcome Pooja. Your Age is 21'"
            ],
            "application/vnd.google.colaboratory.intrinsic+json": {
              "type": "string"
            }
          },
          "metadata": {},
          "execution_count": 11
        }
      ]
    },
    {
      "cell_type": "code",
      "source": [
        "def welcome(name,age):\n",
        "  return \"Welcome {name}. Your age is {age}\".format(name=name,age=age)"
      ],
      "metadata": {
        "id": "oYi8dUZv1w8f"
      },
      "execution_count": 12,
      "outputs": []
    },
    {
      "cell_type": "code",
      "source": [
        "welcome(\"kunal\",19)"
      ],
      "metadata": {
        "colab": {
          "base_uri": "https://localhost:8080/",
          "height": 35
        },
        "id": "Bi-T1nMx2EeZ",
        "outputId": "117f6d76-2fbc-4dd8-bc7c-5c4a09429617"
      },
      "execution_count": 13,
      "outputs": [
        {
          "output_type": "execute_result",
          "data": {
            "text/plain": [
              "'Welcome kunal. Your age is 19'"
            ],
            "application/vnd.google.colaboratory.intrinsic+json": {
              "type": "string"
            }
          },
          "metadata": {},
          "execution_count": 13
        }
      ]
    },
    {
      "cell_type": "code",
      "source": [
        "def welcome(name, age):\n",
        "  return \"Welcome{N}. Your age is {A}.\".format(N=name, A=age)"
      ],
      "metadata": {
        "id": "ZHY9EnDb2KM8"
      },
      "execution_count": 14,
      "outputs": []
    },
    {
      "cell_type": "code",
      "source": [
        "welcome(\"kunal\", 19)"
      ],
      "metadata": {
        "colab": {
          "base_uri": "https://localhost:8080/",
          "height": 35
        },
        "id": "xOTPk-eZ2lJr",
        "outputId": "fcc514e2-2c33-4896-ff1d-54aa4cadb893"
      },
      "execution_count": 15,
      "outputs": [
        {
          "output_type": "execute_result",
          "data": {
            "text/plain": [
              "'Welcomekunal. Your age is 19.'"
            ],
            "application/vnd.google.colaboratory.intrinsic+json": {
              "type": "string"
            }
          },
          "metadata": {},
          "execution_count": 15
        }
      ]
    },
    {
      "cell_type": "code",
      "source": [
        ""
      ],
      "metadata": {
        "id": "Qc9WcV6u2rGr"
      },
      "execution_count": null,
      "outputs": []
    }
  ]
}