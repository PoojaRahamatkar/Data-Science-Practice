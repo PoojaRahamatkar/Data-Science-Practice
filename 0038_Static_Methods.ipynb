{
  "nbformat": 4,
  "nbformat_minor": 0,
  "metadata": {
    "colab": {
      "name": "0038.Static Methods.ipynb",
      "provenance": []
    },
    "kernelspec": {
      "name": "python3",
      "display_name": "Python 3"
    },
    "language_info": {
      "name": "python"
    }
  },
  "cells": [
    {
      "cell_type": "markdown",
      "source": [
        "**Static Methods**"
      ],
      "metadata": {
        "id": "oH0ZqEJNjhcv"
      }
    },
    {
      "cell_type": "code",
      "execution_count": 2,
      "metadata": {
        "id": "rWRNZKdGjY6J"
      },
      "outputs": [],
      "source": [
        "import datetime\n",
        "now = datetime.datetime.now()"
      ]
    },
    {
      "cell_type": "code",
      "source": [
        "now.year"
      ],
      "metadata": {
        "colab": {
          "base_uri": "https://localhost:8080/"
        },
        "id": "DTMw2tEnjsqo",
        "outputId": "593702e7-b5a7-4133-d648-86512c3a0052"
      },
      "execution_count": 3,
      "outputs": [
        {
          "output_type": "execute_result",
          "data": {
            "text/plain": [
              "2022"
            ]
          },
          "metadata": {},
          "execution_count": 3
        }
      ]
    },
    {
      "cell_type": "code",
      "source": [
        "class Car:\n",
        "  base_price = 100000   ## Class Variables\n",
        "  def __init__(self, windows, doors, power):\n",
        "    self.windows = windows\n",
        "    self.doors = doors\n",
        "    self.power = power\n",
        "  def what_base_price(self):\n",
        "    print(\"The base price is {}\".format(self.base_price))\n",
        "  @classmethod\n",
        "  def revise_base_price(cls, inflation):\n",
        "    cls.base_price = cls.base_price+cls.base_price*inflation\n",
        "  @staticmethod\n",
        "  def check_year():\n",
        "    if now.year==2022:\n",
        "      return True\n",
        "    else:\n",
        "      return False"
      ],
      "metadata": {
        "id": "NuH2bTiJjt_f"
      },
      "execution_count": 4,
      "outputs": []
    },
    {
      "cell_type": "code",
      "source": [
        "car1 = Car(4,5,2000)"
      ],
      "metadata": {
        "id": "xSJhbFQ_mvb0"
      },
      "execution_count": 5,
      "outputs": []
    },
    {
      "cell_type": "code",
      "source": [
        "if(car1.check_year()):\n",
        "  pass\n",
        "else:\n",
        "  Car.revise_base_price"
      ],
      "metadata": {
        "id": "LBHU9Sbwmy_1"
      },
      "execution_count": 6,
      "outputs": []
    },
    {
      "cell_type": "code",
      "source": [
        ""
      ],
      "metadata": {
        "id": "AlN4m3NMm6pY"
      },
      "execution_count": null,
      "outputs": []
    }
  ]
}