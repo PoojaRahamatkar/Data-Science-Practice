{
  "nbformat": 4,
  "nbformat_minor": 0,
  "metadata": {
    "colab": {
      "name": "0008.Map Function in Python.ipynb",
      "provenance": []
    },
    "kernelspec": {
      "name": "python3",
      "display_name": "Python 3"
    },
    "language_info": {
      "name": "python"
    }
  },
  "cells": [
    {
      "cell_type": "code",
      "execution_count": 1,
      "metadata": {
        "id": "JpLR8Aps0_Ad"
      },
      "outputs": [],
      "source": [
        "def even_or_odd(num):\n",
        "  if num%2==0:\n",
        "    return \"The number{} is Even\".format(num)\n",
        "  else:\n",
        "    return \"The number {} is Odd\".format(num)"
      ]
    },
    {
      "cell_type": "code",
      "source": [
        "even_or_odd(24)"
      ],
      "metadata": {
        "colab": {
          "base_uri": "https://localhost:8080/",
          "height": 35
        },
        "id": "gOzV3nKa7Z-D",
        "outputId": "0f520ade-5ff7-4104-d458-bdc517a008f9"
      },
      "execution_count": 2,
      "outputs": [
        {
          "output_type": "execute_result",
          "data": {
            "text/plain": [
              "'The number24 is Even'"
            ],
            "application/vnd.google.colaboratory.intrinsic+json": {
              "type": "string"
            }
          },
          "metadata": {},
          "execution_count": 2
        }
      ]
    },
    {
      "cell_type": "code",
      "source": [
        "lst=[1,2,3,4,5,6,7,8,9,24,56,78]"
      ],
      "metadata": {
        "id": "UhxI2OBm7dii"
      },
      "execution_count": 3,
      "outputs": []
    },
    {
      "cell_type": "code",
      "source": [
        "# no need to iterate the data into the iterables manually\n",
        "map(even_or_odd,lst)"
      ],
      "metadata": {
        "colab": {
          "base_uri": "https://localhost:8080/"
        },
        "id": "oF3pcI4I7iSA",
        "outputId": "c6dbb01f-df12-486f-a38c-35e8360f1d34"
      },
      "execution_count": 4,
      "outputs": [
        {
          "output_type": "execute_result",
          "data": {
            "text/plain": [
              "<map at 0x7f163d4ca810>"
            ]
          },
          "metadata": {},
          "execution_count": 4
        }
      ]
    },
    {
      "cell_type": "code",
      "source": [
        "list(map(even_or_odd,lst))"
      ],
      "metadata": {
        "colab": {
          "base_uri": "https://localhost:8080/"
        },
        "id": "bBj61uIV7skn",
        "outputId": "4817f78b-3ba7-412b-e026-81c5a2671d94"
      },
      "execution_count": 5,
      "outputs": [
        {
          "output_type": "execute_result",
          "data": {
            "text/plain": [
              "['The number 1 is Odd',\n",
              " 'The number2 is Even',\n",
              " 'The number 3 is Odd',\n",
              " 'The number4 is Even',\n",
              " 'The number 5 is Odd',\n",
              " 'The number6 is Even',\n",
              " 'The number 7 is Odd',\n",
              " 'The number8 is Even',\n",
              " 'The number 9 is Odd',\n",
              " 'The number24 is Even',\n",
              " 'The number56 is Even',\n",
              " 'The number78 is Even']"
            ]
          },
          "metadata": {},
          "execution_count": 5
        }
      ]
    },
    {
      "cell_type": "code",
      "source": [
        ""
      ],
      "metadata": {
        "id": "rIFtwlo27wYC"
      },
      "execution_count": null,
      "outputs": []
    }
  ]
}