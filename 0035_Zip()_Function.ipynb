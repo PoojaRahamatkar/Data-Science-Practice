{
  "nbformat": 4,
  "nbformat_minor": 0,
  "metadata": {
    "colab": {
      "name": "0035.Zip() Function.ipynb",
      "provenance": [],
      "collapsed_sections": []
    },
    "kernelspec": {
      "name": "python3",
      "display_name": "Python 3"
    },
    "language_info": {
      "name": "python"
    }
  },
  "cells": [
    {
      "cell_type": "markdown",
      "source": [
        "**ZIP Function**\n",
        "\n",
        "The Zip() function returns a zip object, which is an iterator of tuples where the first item in each passed iterator is paired together, and then the second item in each passed iterator are paired together etc."
      ],
      "metadata": {
        "id": "zSZDcPLBaCEP"
      }
    },
    {
      "cell_type": "code",
      "execution_count": 1,
      "metadata": {
        "id": "JJixkOajXLOi"
      },
      "outputs": [],
      "source": [
        "lst1 = [\"Pooja\",\"chiku\",\"Chini\"]\n",
        "lst2 = [\"a\",\"b\",\"c\"]"
      ]
    },
    {
      "cell_type": "code",
      "source": [
        "for i in lst1:\n",
        "  print(i)"
      ],
      "metadata": {
        "colab": {
          "base_uri": "https://localhost:8080/"
        },
        "id": "y4rbXSKhXyFT",
        "outputId": "a40c0171-4dae-4ee2-80cd-fd92f40d896d"
      },
      "execution_count": 2,
      "outputs": [
        {
          "output_type": "stream",
          "name": "stdout",
          "text": [
            "Pooja\n",
            "chiku\n",
            "Chini\n"
          ]
        }
      ]
    },
    {
      "cell_type": "code",
      "source": [
        "output = zip(lst1, lst2)"
      ],
      "metadata": {
        "id": "_6E_RsO4X1jb"
      },
      "execution_count": 3,
      "outputs": []
    },
    {
      "cell_type": "code",
      "source": [
        "output"
      ],
      "metadata": {
        "colab": {
          "base_uri": "https://localhost:8080/"
        },
        "id": "MlrbeugrX6EX",
        "outputId": "a67ba260-eef4-4887-aedc-63206a3aacdc"
      },
      "execution_count": 4,
      "outputs": [
        {
          "output_type": "execute_result",
          "data": {
            "text/plain": [
              "<zip at 0x7f39f844c3c0>"
            ]
          },
          "metadata": {},
          "execution_count": 4
        }
      ]
    },
    {
      "cell_type": "code",
      "source": [
        "lst(output)"
      ],
      "metadata": {
        "colab": {
          "base_uri": "https://localhost:8080/",
          "height": 165
        },
        "id": "XKvAsjSQX7PY",
        "outputId": "40523390-3e73-4d50-cf10-0bfd5af116cd"
      },
      "execution_count": 5,
      "outputs": [
        {
          "output_type": "error",
          "ename": "NameError",
          "evalue": "ignored",
          "traceback": [
            "\u001b[0;31m---------------------------------------------------------------------------\u001b[0m",
            "\u001b[0;31mNameError\u001b[0m                                 Traceback (most recent call last)",
            "\u001b[0;32m<ipython-input-5-7ac1587ee306>\u001b[0m in \u001b[0;36m<module>\u001b[0;34m()\u001b[0m\n\u001b[0;32m----> 1\u001b[0;31m \u001b[0mlst\u001b[0m\u001b[0;34m(\u001b[0m\u001b[0moutput\u001b[0m\u001b[0;34m)\u001b[0m\u001b[0;34m\u001b[0m\u001b[0;34m\u001b[0m\u001b[0m\n\u001b[0m",
            "\u001b[0;31mNameError\u001b[0m: name 'lst' is not defined"
          ]
        }
      ]
    },
    {
      "cell_type": "code",
      "source": [
        "## Zip object is an iterator\n",
        "next(output)"
      ],
      "metadata": {
        "colab": {
          "base_uri": "https://localhost:8080/"
        },
        "id": "KnF5LNZJX89A",
        "outputId": "7fbc1cf9-11c7-4118-96c7-e0a2a75268bd"
      },
      "execution_count": 6,
      "outputs": [
        {
          "output_type": "execute_result",
          "data": {
            "text/plain": [
              "('Pooja', 'a')"
            ]
          },
          "metadata": {},
          "execution_count": 6
        }
      ]
    },
    {
      "cell_type": "code",
      "source": [
        "lst1 = [\"Pooja\",\"chiku\",\"Chini\"]\n",
        "lst2 = [\"a\",\"b\",\"c\"]\n",
        "lst3 = [1,2,3]"
      ],
      "metadata": {
        "id": "fh32738lYEul"
      },
      "execution_count": 7,
      "outputs": []
    },
    {
      "cell_type": "code",
      "source": [
        "output = zip(lst1,lst2,lst3)\n",
        "for i,j,k in output:\n",
        "  print(i,j,k)"
      ],
      "metadata": {
        "colab": {
          "base_uri": "https://localhost:8080/"
        },
        "id": "Pb2cU2fIYPIp",
        "outputId": "df9e0d96-6fbd-4ad0-8b1b-373108053160"
      },
      "execution_count": 8,
      "outputs": [
        {
          "output_type": "stream",
          "name": "stdout",
          "text": [
            "Pooja a 1\n",
            "chiku b 2\n",
            "Chini c 3\n"
          ]
        }
      ]
    },
    {
      "cell_type": "code",
      "source": [
        "list(zip())"
      ],
      "metadata": {
        "id": "CFhdFqQpYdG2",
        "colab": {
          "base_uri": "https://localhost:8080/"
        },
        "outputId": "5c23a2dd-ddf6-480b-e48a-a8f5f6647696"
      },
      "execution_count": 9,
      "outputs": [
        {
          "output_type": "execute_result",
          "data": {
            "text/plain": [
              "[]"
            ]
          },
          "metadata": {},
          "execution_count": 9
        }
      ]
    },
    {
      "cell_type": "code",
      "source": [
        "dict1 = {\"name\":\"Pooja\", \"lst_name\":\"Rahamatkar\", \"age\":22}\n",
        "dict2 = {\"name\":\"Kiara\", \"lst_name\":\"Rathod\", \"age\":23}"
      ],
      "metadata": {
        "id": "J4TT0Y8Ga3Mk"
      },
      "execution_count": 10,
      "outputs": []
    },
    {
      "cell_type": "code",
      "source": [
        "dictionary = zip(dict1.items(), dict2.items())"
      ],
      "metadata": {
        "id": "o_bruAsTbf5X"
      },
      "execution_count": 11,
      "outputs": []
    },
    {
      "cell_type": "code",
      "source": [
        "dict1"
      ],
      "metadata": {
        "colab": {
          "base_uri": "https://localhost:8080/"
        },
        "id": "E4DMR7cabqmz",
        "outputId": "658cb042-554c-4724-bc7e-765c9689038c"
      },
      "execution_count": 12,
      "outputs": [
        {
          "output_type": "execute_result",
          "data": {
            "text/plain": [
              "{'age': 22, 'lst_name': 'Rahamatkar', 'name': 'Pooja'}"
            ]
          },
          "metadata": {},
          "execution_count": 12
        }
      ]
    },
    {
      "cell_type": "code",
      "source": [
        "for(i,j),(i2,j2) in dictionary:\n",
        "  print(i,j)\n",
        "  print(i2, j2)"
      ],
      "metadata": {
        "colab": {
          "base_uri": "https://localhost:8080/"
        },
        "id": "4crNKzIebr3D",
        "outputId": "ca82ba46-be3a-42f5-ac9a-9cee921294e5"
      },
      "execution_count": 13,
      "outputs": [
        {
          "output_type": "stream",
          "name": "stdout",
          "text": [
            "name Pooja\n",
            "name Kiara\n",
            "lst_name Rahamatkar\n",
            "lst_name Rathod\n",
            "age 22\n",
            "age 23\n"
          ]
        }
      ]
    },
    {
      "cell_type": "code",
      "source": [
        ""
      ],
      "metadata": {
        "id": "Q8JH__1xcry3"
      },
      "execution_count": null,
      "outputs": []
    }
  ]
}