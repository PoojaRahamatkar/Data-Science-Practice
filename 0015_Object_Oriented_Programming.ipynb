{
  "nbformat": 4,
  "nbformat_minor": 0,
  "metadata": {
    "colab": {
      "name": "0015.Object Oriented Programming.ipynb",
      "provenance": []
    },
    "kernelspec": {
      "name": "python3",
      "display_name": "Python 3"
    },
    "language_info": {
      "name": "python"
    }
  },
  "cells": [
    {
      "cell_type": "markdown",
      "source": [
        "**Object Oriented Programming**\n"
      ],
      "metadata": {
        "id": "lObIzf4_g4_L"
      }
    },
    {
      "cell_type": "code",
      "execution_count": 8,
      "metadata": {
        "id": "IhLmOSRBgaxH"
      },
      "outputs": [],
      "source": [
        "## Creating A Bad Class Which is also empty\n",
        "\n",
        "class Car:\n",
        "  pass"
      ]
    },
    {
      "cell_type": "code",
      "source": [
        "car1 = Car()"
      ],
      "metadata": {
        "id": "-GqVGW35hKM6"
      },
      "execution_count": 9,
      "outputs": []
    },
    {
      "cell_type": "code",
      "source": [
        "car1"
      ],
      "metadata": {
        "colab": {
          "base_uri": "https://localhost:8080/"
        },
        "id": "ggLSMuJdhMTY",
        "outputId": "dbe841b5-cfa3-404b-c4ab-af5cc93907e3"
      },
      "execution_count": 10,
      "outputs": [
        {
          "output_type": "execute_result",
          "data": {
            "text/plain": [
              "<__main__.Car at 0x7f6f4a780650>"
            ]
          },
          "metadata": {},
          "execution_count": 10
        }
      ]
    },
    {
      "cell_type": "code",
      "source": [
        "car1.window = 5\n",
        "car1.doors = 4"
      ],
      "metadata": {
        "id": "NhO6qv1MhNqf"
      },
      "execution_count": 11,
      "outputs": []
    },
    {
      "cell_type": "code",
      "source": [
        "print(car1.window)"
      ],
      "metadata": {
        "colab": {
          "base_uri": "https://localhost:8080/"
        },
        "id": "fpyZeHCUhT9B",
        "outputId": "29b36f1d-f9fa-4707-cdbd-009560bb5f08"
      },
      "execution_count": 15,
      "outputs": [
        {
          "output_type": "stream",
          "name": "stdout",
          "text": [
            "5\n"
          ]
        }
      ]
    },
    {
      "cell_type": "code",
      "source": [
        "car2=Car()"
      ],
      "metadata": {
        "id": "Qk6sDr_ZhXPZ"
      },
      "execution_count": 16,
      "outputs": []
    },
    {
      "cell_type": "code",
      "source": [
        "car2.window = 3\n",
        "car2.doors = 2"
      ],
      "metadata": {
        "id": "b1J95C8MiNLC"
      },
      "execution_count": 18,
      "outputs": []
    },
    {
      "cell_type": "code",
      "source": [
        "print(car2.window)"
      ],
      "metadata": {
        "colab": {
          "base_uri": "https://localhost:8080/"
        },
        "id": "nlb0CK9riTJc",
        "outputId": "03c4678c-2b53-42f8-84a8-c998eca26679"
      },
      "execution_count": 19,
      "outputs": [
        {
          "output_type": "stream",
          "name": "stdout",
          "text": [
            "3\n"
          ]
        }
      ]
    },
    {
      "cell_type": "code",
      "source": [
        "car2.enginetype=\"Petrol\""
      ],
      "metadata": {
        "id": "BGFgbVNFibVN"
      },
      "execution_count": 20,
      "outputs": []
    },
    {
      "cell_type": "code",
      "source": [
        "print(car2.enginetype)"
      ],
      "metadata": {
        "colab": {
          "base_uri": "https://localhost:8080/"
        },
        "id": "cwsjv9nzip0D",
        "outputId": "a1eba333-1893-435a-89e1-76335a5a6a12"
      },
      "execution_count": 21,
      "outputs": [
        {
          "output_type": "stream",
          "name": "stdout",
          "text": [
            "Petrol\n"
          ]
        }
      ]
    },
    {
      "cell_type": "code",
      "source": [
        "dir(car1)      ## Feteching Inbuilt Functions"
      ],
      "metadata": {
        "colab": {
          "base_uri": "https://localhost:8080/"
        },
        "id": "glNTuD4YitRa",
        "outputId": "ddde8041-b62e-492a-d2df-c6d2d23d3367"
      },
      "execution_count": 22,
      "outputs": [
        {
          "output_type": "execute_result",
          "data": {
            "text/plain": [
              "['__class__',\n",
              " '__delattr__',\n",
              " '__dict__',\n",
              " '__dir__',\n",
              " '__doc__',\n",
              " '__eq__',\n",
              " '__format__',\n",
              " '__ge__',\n",
              " '__getattribute__',\n",
              " '__gt__',\n",
              " '__hash__',\n",
              " '__init__',\n",
              " '__init_subclass__',\n",
              " '__le__',\n",
              " '__lt__',\n",
              " '__module__',\n",
              " '__ne__',\n",
              " '__new__',\n",
              " '__reduce__',\n",
              " '__reduce_ex__',\n",
              " '__repr__',\n",
              " '__setattr__',\n",
              " '__sizeof__',\n",
              " '__str__',\n",
              " '__subclasshook__',\n",
              " '__weakref__',\n",
              " 'doors',\n",
              " 'window']"
            ]
          },
          "metadata": {},
          "execution_count": 22
        }
      ]
    },
    {
      "cell_type": "code",
      "source": [
        "class Car:\n",
        "  def __init__(self, window, door, enginetype):\n",
        "      self.window=window\n",
        "      self.doors=door\n",
        "      self.enginetype=enginetype"
      ],
      "metadata": {
        "id": "FDDMUsani16c"
      },
      "execution_count": 32,
      "outputs": []
    },
    {
      "cell_type": "code",
      "source": [
        "car3 = Car()"
      ],
      "metadata": {
        "colab": {
          "base_uri": "https://localhost:8080/",
          "height": 183
        },
        "id": "MTPCW9chjmr4",
        "outputId": "028322c1-4780-431e-adf8-a5912cd1355b"
      },
      "execution_count": 33,
      "outputs": [
        {
          "output_type": "error",
          "ename": "TypeError",
          "evalue": "ignored",
          "traceback": [
            "\u001b[0;31m---------------------------------------------------------------------------\u001b[0m",
            "\u001b[0;31mTypeError\u001b[0m                                 Traceback (most recent call last)",
            "\u001b[0;32m<ipython-input-33-4ff5bbcdb555>\u001b[0m in \u001b[0;36m<module>\u001b[0;34m()\u001b[0m\n\u001b[0;32m----> 1\u001b[0;31m \u001b[0mcar3\u001b[0m \u001b[0;34m=\u001b[0m \u001b[0mCar\u001b[0m\u001b[0;34m(\u001b[0m\u001b[0;34m)\u001b[0m\u001b[0;34m\u001b[0m\u001b[0;34m\u001b[0m\u001b[0m\n\u001b[0m",
            "\u001b[0;31mTypeError\u001b[0m: __init__() missing 3 required positional arguments: 'window', 'door', and 'enginetype'"
          ]
        }
      ]
    },
    {
      "cell_type": "code",
      "source": [
        "car3 = Car(4,5,\"petrol\")"
      ],
      "metadata": {
        "id": "K4f1nqhCkbU2"
      },
      "execution_count": 34,
      "outputs": []
    },
    {
      "cell_type": "code",
      "source": [
        "car4 = Car(3,4,\"desiel\")"
      ],
      "metadata": {
        "id": "-9WCHdeVknxY"
      },
      "execution_count": 35,
      "outputs": []
    },
    {
      "cell_type": "code",
      "source": [
        "print(car3.window)"
      ],
      "metadata": {
        "colab": {
          "base_uri": "https://localhost:8080/"
        },
        "id": "gTHpcQ4ClEqg",
        "outputId": "9b05e6d2-3da4-42d0-98bb-0975625e983f"
      },
      "execution_count": 36,
      "outputs": [
        {
          "output_type": "stream",
          "name": "stdout",
          "text": [
            "4\n"
          ]
        }
      ]
    },
    {
      "cell_type": "code",
      "source": [
        "print(car4.doors)"
      ],
      "metadata": {
        "colab": {
          "base_uri": "https://localhost:8080/"
        },
        "id": "UHAw6HNnlHg6",
        "outputId": "b9a2106d-2893-4f86-e417-6f16f254e713"
      },
      "execution_count": 37,
      "outputs": [
        {
          "output_type": "stream",
          "name": "stdout",
          "text": [
            "4\n"
          ]
        }
      ]
    },
    {
      "cell_type": "code",
      "source": [
        "print(car4.enginetype)"
      ],
      "metadata": {
        "colab": {
          "base_uri": "https://localhost:8080/"
        },
        "id": "KjNCi56TlLwx",
        "outputId": "1cab3c00-c33b-4f2f-dc0a-20fdb47c784a"
      },
      "execution_count": 38,
      "outputs": [
        {
          "output_type": "stream",
          "name": "stdout",
          "text": [
            "desiel\n"
          ]
        }
      ]
    },
    {
      "cell_type": "code",
      "source": [
        "class Car:\n",
        "  def __init__(self, window, door, enginetype):\n",
        "    self.windows = window\n",
        "    self.doors = door\n",
        "    self.enginetype = enginetype\n",
        "  def self_driving(self):    # Retrive all the elements from the constructor\n",
        "    return \"This is a {} car\".format(self.enginetype)"
      ],
      "metadata": {
        "id": "Xd2kB-AZlQvu"
      },
      "execution_count": 39,
      "outputs": []
    },
    {
      "cell_type": "code",
      "source": [
        "car5 = Car(5,6,\"hydrogen\")"
      ],
      "metadata": {
        "id": "tL_AVi43mN4F"
      },
      "execution_count": 42,
      "outputs": []
    },
    {
      "cell_type": "code",
      "source": [
        "car5.self_driving()"
      ],
      "metadata": {
        "colab": {
          "base_uri": "https://localhost:8080/",
          "height": 35
        },
        "id": "h1Wif2z1mVtO",
        "outputId": "79147796-192b-483a-fc62-cb17bfbdf213"
      },
      "execution_count": 43,
      "outputs": [
        {
          "output_type": "execute_result",
          "data": {
            "text/plain": [
              "'This is a hydrogen car'"
            ],
            "application/vnd.google.colaboratory.intrinsic+json": {
              "type": "string"
            }
          },
          "metadata": {},
          "execution_count": 43
        }
      ]
    },
    {
      "cell_type": "code",
      "source": [
        ""
      ],
      "metadata": {
        "id": "oRlCc1fwmn3j"
      },
      "execution_count": null,
      "outputs": []
    }
  ]
}