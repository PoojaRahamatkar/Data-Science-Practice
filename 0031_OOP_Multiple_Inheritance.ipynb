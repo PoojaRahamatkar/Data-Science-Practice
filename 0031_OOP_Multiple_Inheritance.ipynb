{
  "nbformat": 4,
  "nbformat_minor": 0,
  "metadata": {
    "colab": {
      "name": "0031.OOP Multiple Inheritance.ipynb",
      "provenance": []
    },
    "kernelspec": {
      "name": "python3",
      "display_name": "Python 3"
    },
    "language_info": {
      "name": "python"
    }
  },
  "cells": [
    {
      "cell_type": "markdown",
      "source": [
        "**Multiple Inheritance**"
      ],
      "metadata": {
        "id": "-NFyk_odTLYh"
      }
    },
    {
      "cell_type": "code",
      "execution_count": 4,
      "metadata": {
        "id": "zuFkHYzpNZdC"
      },
      "outputs": [],
      "source": [
        "class A:\n",
        "  def method1(self):\n",
        "    print(\"A class method is called\")"
      ]
    },
    {
      "cell_type": "code",
      "source": [
        "class B(A):\n",
        "  def method1(self):\n",
        "    print(\"B class method1 is called\")\n",
        "  def method2(self):\n",
        "    print(\"B class method2 is called\")"
      ],
      "metadata": {
        "id": "p2GQK7GMTZlI"
      },
      "execution_count": 5,
      "outputs": []
    },
    {
      "cell_type": "code",
      "source": [
        "class C(A):\n",
        "  def method1(self):\n",
        "      print(\"C class method is called\")"
      ],
      "metadata": {
        "id": "8sYGvrhMTyXJ"
      },
      "execution_count": 6,
      "outputs": []
    },
    {
      "cell_type": "code",
      "source": [
        "class D(B,C):\n",
        "  def method1(self):\n",
        "    print(\"D class method is called\")\n",
        "    C.method1(self)\n",
        "    B.method1(self)\n",
        "    A.method1(self)"
      ],
      "metadata": {
        "id": "cnUATcnVT-XH"
      },
      "execution_count": 7,
      "outputs": []
    },
    {
      "cell_type": "code",
      "source": [
        "d = D()"
      ],
      "metadata": {
        "id": "zsdwkROaUVR7"
      },
      "execution_count": 8,
      "outputs": []
    },
    {
      "cell_type": "code",
      "source": [
        "d.method1()"
      ],
      "metadata": {
        "id": "kehWcLUyUXcA",
        "colab": {
          "base_uri": "https://localhost:8080/"
        },
        "outputId": "f071f9a3-f465-43e8-eede-b56cbb26a96d"
      },
      "execution_count": 9,
      "outputs": [
        {
          "output_type": "stream",
          "name": "stdout",
          "text": [
            "D class method is called\n",
            "C class method is called\n",
            "B class method1 is called\n",
            "A class method is called\n"
          ]
        }
      ]
    },
    {
      "cell_type": "code",
      "source": [
        "B.method1(d)"
      ],
      "metadata": {
        "id": "cggw8ddrUZz0",
        "colab": {
          "base_uri": "https://localhost:8080/"
        },
        "outputId": "6aa2a47b-e7d7-488a-cf55-f7b30ed48a52"
      },
      "execution_count": 10,
      "outputs": [
        {
          "output_type": "stream",
          "name": "stdout",
          "text": [
            "B class method1 is called\n"
          ]
        }
      ]
    },
    {
      "cell_type": "code",
      "source": [
        "A.method1(d)"
      ],
      "metadata": {
        "id": "TZHDHUqEUf6U",
        "colab": {
          "base_uri": "https://localhost:8080/"
        },
        "outputId": "e798a77b-51d9-43ae-e4c2-3a01b6a7eb17"
      },
      "execution_count": 11,
      "outputs": [
        {
          "output_type": "stream",
          "name": "stdout",
          "text": [
            "A class method is called\n"
          ]
        }
      ]
    },
    {
      "cell_type": "code",
      "source": [
        ""
      ],
      "metadata": {
        "id": "0DGvhObAUigZ"
      },
      "execution_count": 11,
      "outputs": []
    }
  ]
}