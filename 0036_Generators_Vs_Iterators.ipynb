{
  "nbformat": 4,
  "nbformat_minor": 0,
  "metadata": {
    "colab": {
      "name": "0036.Generators Vs Iterators.ipynb",
      "provenance": []
    },
    "kernelspec": {
      "name": "python3",
      "display_name": "Python 3"
    },
    "language_info": {
      "name": "python"
    }
  },
  "cells": [
    {
      "cell_type": "markdown",
      "source": [
        "**Generators Vs Iterators**\n",
        "\n",
        "Generator function is defined like a normal function, but whenever it needs to gernerate a value.\n",
        "\n",
        "An Iterator is an object that contains a countable number of values.\n",
        "\n",
        "The __iter__() method acts similar, you can do operations (initializing etc.), but must always return the iterator object itself.\n",
        "\n",
        "The __next__() method also allows you to do operations, and must return the next item in the sequence."
      ],
      "metadata": {
        "id": "_bvUjjQJdN9o"
      }
    },
    {
      "cell_type": "code",
      "execution_count": 1,
      "metadata": {
        "id": "-Qfo3gDLdDz9",
        "colab": {
          "base_uri": "https://localhost:8080/"
        },
        "outputId": "22edd5e4-fff1-475b-afa9-6e2396d0c1b5"
      },
      "outputs": [
        {
          "output_type": "stream",
          "name": "stdout",
          "text": [
            "1\n",
            "2\n",
            "3\n",
            "4\n"
          ]
        }
      ],
      "source": [
        "## Iterable\n",
        "\n",
        "lst = [1,2,3,4]\n",
        "for i in lst:\n",
        "  print(i)"
      ]
    },
    {
      "cell_type": "code",
      "source": [
        "## Iterator\n",
        "iterable = iter(lst)"
      ],
      "metadata": {
        "id": "mAmG_LH3dWQY"
      },
      "execution_count": 2,
      "outputs": []
    },
    {
      "cell_type": "code",
      "source": [
        "## We can Iterate\n",
        "\n",
        "for i in iterable:\n",
        "  print(i)"
      ],
      "metadata": {
        "colab": {
          "base_uri": "https://localhost:8080/"
        },
        "id": "56-R3QMadcHa",
        "outputId": "47d8a211-08cd-468d-9183-3be151760e99"
      },
      "execution_count": 3,
      "outputs": [
        {
          "output_type": "stream",
          "name": "stdout",
          "text": [
            "1\n",
            "2\n",
            "3\n",
            "4\n"
          ]
        }
      ]
    },
    {
      "cell_type": "code",
      "source": [
        "try:\n",
        "  print(next(iterable))\n",
        "except StopIteration:\n",
        "  print(\"The iterator is empty\")"
      ],
      "metadata": {
        "colab": {
          "base_uri": "https://localhost:8080/"
        },
        "id": "NZTZM5okdlTW",
        "outputId": "e5eccf4e-5314-4d8c-d947-6a70a85a087f"
      },
      "execution_count": 4,
      "outputs": [
        {
          "output_type": "stream",
          "name": "stdout",
          "text": [
            "The iterator is empty\n"
          ]
        }
      ]
    },
    {
      "cell_type": "code",
      "source": [
        "## Generator\n",
        "def square(n):\n",
        "  for i in range(n):\n",
        "    yield i**2"
      ],
      "metadata": {
        "id": "aDhpkGxDd5sz"
      },
      "execution_count": 5,
      "outputs": []
    },
    {
      "cell_type": "code",
      "source": [
        "a = square(5)"
      ],
      "metadata": {
        "id": "_Vqw4qV3eLuV"
      },
      "execution_count": 6,
      "outputs": []
    },
    {
      "cell_type": "code",
      "source": [
        "a"
      ],
      "metadata": {
        "colab": {
          "base_uri": "https://localhost:8080/"
        },
        "id": "QXgSpOcAeOQB",
        "outputId": "72d9589b-1c43-437a-bae2-cb3fdbf8904d"
      },
      "execution_count": 7,
      "outputs": [
        {
          "output_type": "execute_result",
          "data": {
            "text/plain": [
              "<generator object square at 0x7fef2d6a9a50>"
            ]
          },
          "metadata": {},
          "execution_count": 7
        }
      ]
    },
    {
      "cell_type": "code",
      "source": [
        "for i in square(3):\n",
        "  print(i)"
      ],
      "metadata": {
        "colab": {
          "base_uri": "https://localhost:8080/"
        },
        "id": "7Xjg9PzoeOuu",
        "outputId": "f6d0f9f5-adae-45c6-f2fd-6a8d4981e2d4"
      },
      "execution_count": 8,
      "outputs": [
        {
          "output_type": "stream",
          "name": "stdout",
          "text": [
            "0\n",
            "1\n",
            "4\n"
          ]
        }
      ]
    },
    {
      "cell_type": "code",
      "source": [
        "next(a)"
      ],
      "metadata": {
        "colab": {
          "base_uri": "https://localhost:8080/"
        },
        "id": "HM_4oZwleTPW",
        "outputId": "027bcd42-e43e-442e-ab83-886cf0978656"
      },
      "execution_count": 9,
      "outputs": [
        {
          "output_type": "execute_result",
          "data": {
            "text/plain": [
              "0"
            ]
          },
          "metadata": {},
          "execution_count": 9
        }
      ]
    },
    {
      "cell_type": "code",
      "source": [
        ""
      ],
      "metadata": {
        "id": "4yJVtFHDeUhV"
      },
      "execution_count": null,
      "outputs": []
    }
  ]
}