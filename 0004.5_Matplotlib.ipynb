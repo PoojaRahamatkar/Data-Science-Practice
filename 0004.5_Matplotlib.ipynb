{
  "nbformat": 4,
  "nbformat_minor": 0,
  "metadata": {
    "colab": {
      "name": "0004.5 Matplotlib.ipynb",
      "provenance": []
    },
    "kernelspec": {
      "name": "python3",
      "display_name": "Python 3"
    },
    "language_info": {
      "name": "python"
    }
  },
  "cells": [
    {
      "cell_type": "code",
      "execution_count": 1,
      "metadata": {
        "id": "-ebOCzU_v-O2"
      },
      "outputs": [],
      "source": [
        "## Matplotlib\n",
        "  # Matplotlib is a plotting library for the Python Programming language and its numerical mathematics extension NumPy.\n",
        "  # It provides an object-oriented API for embedding plots into applications using general-purpose GUI toolkits like Ikinter, wxPython, QT or GTK+."
      ]
    },
    {
      "cell_type": "code",
      "source": [
        "# Some of the major Pros of Matplotlib are :\n",
        "  # Generally easy to get started for simple plots\n",
        "  # Support for custom labels and texts\n",
        "  # Great Control of the every elements in the figure\n",
        "  # High-Quality output in many formats\n",
        "  # Very Customizable in general"
      ],
      "metadata": {
        "id": "dQDTg0VqxGl3"
      },
      "execution_count": 2,
      "outputs": []
    },
    {
      "cell_type": "code",
      "source": [
        "import matplotlib.pyplot as plt\n",
        "%matplotlib inline\n",
        "import numpy as np"
      ],
      "metadata": {
        "id": "C2wZ6EzFx_Hu"
      },
      "execution_count": 3,
      "outputs": []
    },
    {
      "cell_type": "code",
      "source": [
        "## Simple Examples\n",
        "\n",
        "x=np.arange(0,10)\n",
        "y=np.arange(11,21)"
      ],
      "metadata": {
        "id": "_MiYoVNYyOTf"
      },
      "execution_count": 4,
      "outputs": []
    },
    {
      "cell_type": "code",
      "source": [
        "a=np.arange(40,50)\n",
        "b=np.arange(50,60)"
      ],
      "metadata": {
        "id": "ISu7cTHFyoK0"
      },
      "execution_count": 5,
      "outputs": []
    },
    {
      "cell_type": "code",
      "source": [
        "x"
      ],
      "metadata": {
        "colab": {
          "base_uri": "https://localhost:8080/"
        },
        "id": "v3TsQ5kEy0AS",
        "outputId": "fa8ee3b3-c206-4c80-e68d-fa12da71718d"
      },
      "execution_count": 6,
      "outputs": [
        {
          "output_type": "execute_result",
          "data": {
            "text/plain": [
              "array([0, 1, 2, 3, 4, 5, 6, 7, 8, 9])"
            ]
          },
          "metadata": {},
          "execution_count": 6
        }
      ]
    },
    {
      "cell_type": "code",
      "source": [
        "y"
      ],
      "metadata": {
        "colab": {
          "base_uri": "https://localhost:8080/"
        },
        "id": "__K1xCXMzRpj",
        "outputId": "d80975dc-cd0b-48f7-b267-bf1cfc3d9ebc"
      },
      "execution_count": 7,
      "outputs": [
        {
          "output_type": "execute_result",
          "data": {
            "text/plain": [
              "array([11, 12, 13, 14, 15, 16, 17, 18, 19, 20])"
            ]
          },
          "metadata": {},
          "execution_count": 7
        }
      ]
    },
    {
      "cell_type": "code",
      "source": [
        "a"
      ],
      "metadata": {
        "colab": {
          "base_uri": "https://localhost:8080/"
        },
        "id": "GmLpWTJhzTP5",
        "outputId": "e23043f8-8008-451d-bd36-084bd2e0da44"
      },
      "execution_count": 8,
      "outputs": [
        {
          "output_type": "execute_result",
          "data": {
            "text/plain": [
              "array([40, 41, 42, 43, 44, 45, 46, 47, 48, 49])"
            ]
          },
          "metadata": {},
          "execution_count": 8
        }
      ]
    },
    {
      "cell_type": "code",
      "source": [
        "b"
      ],
      "metadata": {
        "colab": {
          "base_uri": "https://localhost:8080/"
        },
        "id": "5WRDkm5tzUUc",
        "outputId": "5273cfcf-c3d3-45df-b96f-7d321c2145f9"
      },
      "execution_count": 9,
      "outputs": [
        {
          "output_type": "execute_result",
          "data": {
            "text/plain": [
              "array([50, 51, 52, 53, 54, 55, 56, 57, 58, 59])"
            ]
          },
          "metadata": {},
          "execution_count": 9
        }
      ]
    },
    {
      "cell_type": "code",
      "source": [
        "## plotting using matplotlib\n",
        "\n",
        "# plt scatter\n",
        "\n",
        "plt.scatter(x,y,c='g')\n",
        "plt.xlabel(\"X Axis\")\n",
        "plt.ylabel(\"Y Axis\")\n",
        "plt.title(\"Graph in 2D\")\n",
        "plt.savefig(\"Test.png\")"
      ],
      "metadata": {
        "colab": {
          "base_uri": "https://localhost:8080/",
          "height": 295
        },
        "id": "W9Yzyu4lzVTR",
        "outputId": "5920ee6b-b4d8-4d96-ad61-c529dac9108b"
      },
      "execution_count": 10,
      "outputs": [
        {
          "output_type": "display_data",
          "data": {
            "text/plain": [
              "<Figure size 432x288 with 1 Axes>"
            ],
            "image/png": "[encoded data removed]"
          },
          "metadata": {
            "needs_background": "light"
          }
        }
      ]
    },
    {
      "cell_type": "code",
      "source": [
        "y=x*x"
      ],
      "metadata": {
        "id": "kynk_yrj0ksr"
      },
      "execution_count": 11,
      "outputs": []
    },
    {
      "cell_type": "code",
      "source": [
        "y"
      ],
      "metadata": {
        "colab": {
          "base_uri": "https://localhost:8080/"
        },
        "id": "ckp8MdEF0qTm",
        "outputId": "c0deab3e-70e8-4f35-eea9-c449750c24b9"
      },
      "execution_count": 12,
      "outputs": [
        {
          "output_type": "execute_result",
          "data": {
            "text/plain": [
              "array([ 0,  1,  4,  9, 16, 25, 36, 49, 64, 81])"
            ]
          },
          "metadata": {},
          "execution_count": 12
        }
      ]
    },
    {
      "cell_type": "code",
      "source": [
        "## Plt plot\n",
        "\n",
        "plt.plot(x,y,'r*', linestyle='dashed', linewidth=2, markersize=12)\n",
        "plt.xlabel(\"X Axis\")\n",
        "plt.ylabel(\"Y Axis\")\n",
        "plt.title(\"2D Diagram\")"
      ],
      "metadata": {
        "colab": {
          "base_uri": "https://localhost:8080/",
          "height": 312
        },
        "id": "a-4QlFVQ0rjn",
        "outputId": "2c66f70e-1c3d-4a04-e758-1e42fbccc04b"
      },
      "execution_count": 13,
      "outputs": [
        {
          "output_type": "execute_result",
          "data": {
            "text/plain": [
              "Text(0.5, 1.0, '2D Diagram')"
            ]
          },
          "metadata": {},
          "execution_count": 13
        },
        {
          "output_type": "display_data",
          "data": {
            "text/plain": [
              "<Figure size 432x288 with 1 Axes>"
            ],
            "image/png": "[encoded data removed]"
          },
          "metadata": {
            "needs_background": "light"
          }
        }
      ]
    },
    {
      "cell_type": "code",
      "source": [
        "## Creating Subplots\n",
        "\n",
        "plt.subplot(2,2,1)\n",
        "plt.plot(x,y,'r--')\n",
        "plt.subplot(2,2,2)\n",
        "plt.plot(x,y,'g*--')\n",
        "plt.subplot(2,2,3)\n",
        "plt.plot(x,y,'bo')\n",
        "plt.subplot(2,2,4)\n",
        "plt.plot(x,y,'go')"
      ],
      "metadata": {
        "colab": {
          "base_uri": "https://localhost:8080/",
          "height": 282
        },
        "id": "M0y2WvIq2We2",
        "outputId": "051e8e87-05f7-4082-87fa-f66f51420d39"
      },
      "execution_count": 14,
      "outputs": [
        {
          "output_type": "execute_result",
          "data": {
            "text/plain": [
              "[<matplotlib.lines.Line2D at 0x7fe835045e90>]"
            ]
          },
          "metadata": {},
          "execution_count": 14
        },
        {
          "output_type": "display_data",
          "data": {
            "text/plain": [
              "<Figure size 432x288 with 4 Axes>"
            ],
            "image/png": "[encoded data removed]"
          },
          "metadata": {
            "needs_background": "light"
          }
        }
      ]
    },
    {
      "cell_type": "code",
      "source": [
        "x = np.arange(1,11)\n",
        "y = 3*x+5"
      ],
      "metadata": {
        "id": "NNwddErV5Gaw"
      },
      "execution_count": 15,
      "outputs": []
    },
    {
      "cell_type": "code",
      "source": [
        "x"
      ],
      "metadata": {
        "colab": {
          "base_uri": "https://localhost:8080/"
        },
        "id": "HoYMl3o55dfu",
        "outputId": "b4a8c8a4-400d-4284-e88b-cd226756ff3d"
      },
      "execution_count": 16,
      "outputs": [
        {
          "output_type": "execute_result",
          "data": {
            "text/plain": [
              "array([ 1,  2,  3,  4,  5,  6,  7,  8,  9, 10])"
            ]
          },
          "metadata": {},
          "execution_count": 16
        }
      ]
    },
    {
      "cell_type": "code",
      "source": [
        "y"
      ],
      "metadata": {
        "colab": {
          "base_uri": "https://localhost:8080/"
        },
        "id": "yd9-dgyA5eno",
        "outputId": "f2c8a949-7f06-428f-911c-c9f55b45a2e2"
      },
      "execution_count": 17,
      "outputs": [
        {
          "output_type": "execute_result",
          "data": {
            "text/plain": [
              "array([ 8, 11, 14, 17, 20, 23, 26, 29, 32, 35])"
            ]
          },
          "metadata": {},
          "execution_count": 17
        }
      ]
    },
    {
      "cell_type": "code",
      "source": [
        "plt.title(\"Matplotlib Demo\")\n",
        "plt.xlabel(\"x axis caption\")\n",
        "plt.ylabel(\"y axis caption\")\n",
        "plt.plot(x,y)\n",
        "plt.show()"
      ],
      "metadata": {
        "colab": {
          "base_uri": "https://localhost:8080/",
          "height": 295
        },
        "id": "jdMWRWBu5fnD",
        "outputId": "af778bd5-160e-4a4a-a896-6e9d64b81541"
      },
      "execution_count": 19,
      "outputs": [
        {
          "output_type": "display_data",
          "data": {
            "text/plain": [
              "<Figure size 432x288 with 1 Axes>"
            ],
            "image/png": "[encoded data removed]"
          },
          "metadata": {
            "needs_background": "light"
          }
        }
      ]
    },
    {
      "cell_type": "code",
      "source": [
        "np.pi"
      ],
      "metadata": {
        "colab": {
          "base_uri": "https://localhost:8080/"
        },
        "id": "HSALPOxs5pA_",
        "outputId": "0dcc3b47-18e0-4387-fdb5-a0e6989fe532"
      },
      "execution_count": 20,
      "outputs": [
        {
          "output_type": "execute_result",
          "data": {
            "text/plain": [
              "3.141592653589793"
            ]
          },
          "metadata": {},
          "execution_count": 20
        }
      ]
    },
    {
      "cell_type": "code",
      "source": [
        "# Compute the x and y coordinates for points on a sine curve\n",
        "\n",
        "x = np.arange(0, 4 * np.pi, 0.1)\n",
        "y = np.sin(x)\n",
        "plt.title(\"Sine wave Form\")\n",
        "\n",
        "# plot the points using matplotlib\n",
        "plt.plot(x,y)\n",
        "plt.show()"
      ],
      "metadata": {
        "colab": {
          "base_uri": "https://localhost:8080/",
          "height": 281
        },
        "id": "q45B7agQ6AWq",
        "outputId": "d22d1220-e806-4bdc-a315-5cd877374294"
      },
      "execution_count": 21,
      "outputs": [
        {
          "output_type": "display_data",
          "data": {
            "text/plain": [
              "<Figure size 432x288 with 1 Axes>"
            ],
            "image/png": "[encoded data removed]"
          },
          "metadata": {
            "needs_background": "light"
          }
        }
      ]
    },
    {
      "cell_type": "code",
      "source": [
        "# Subplot ()\n",
        "# Compute the x and y coordinates for points on sine and cosine\n",
        "\n",
        "x = np.arange(0, 5*np.pi, 0.1)\n",
        "y_sin = np.sin(x)\n",
        "y_cos = np.cos(x)\n",
        "\n",
        "# Set up a subplot grid that has height 2 and width 1,\n",
        "# and set the first such subplot as active.\n",
        "plt.subplot(2,1,1)\n",
        "\n",
        "# Make the first plot\n",
        "plt.plot(x,y_sin, 'r--')\n",
        "plt.title('sine')\n",
        "\n",
        "# Set the second subplot as active, and make the second plot.\n",
        "plt.subplot(2,1,2)\n",
        "plt.plot(x,y_cos, 'g--')\n",
        "plt.title('Cosine')\n",
        "\n",
        "# Show the figure\n",
        "plt.show()"
      ],
      "metadata": {
        "colab": {
          "base_uri": "https://localhost:8080/",
          "height": 281
        },
        "id": "isWrk7sa6kH7",
        "outputId": "d93723fb-dacb-4b3a-ee7d-a7146867396e"
      },
      "execution_count": 22,
      "outputs": [
        {
          "output_type": "display_data",
          "data": {
            "text/plain": [
              "<Figure size 432x288 with 2 Axes>"
            ],
            "image/png": "[encoded data removed]"
          },
          "metadata": {
            "needs_background": "light"
          }
        }
      ]
    },
    {
      "cell_type": "code",
      "source": [
        "## Bar plot\n",
        "\n",
        "x=[2,8,10]\n",
        "y=[11,16,9]\n",
        "\n",
        "x2=[3,9,11]\n",
        "y2=[6,15,7]\n",
        "plt.bar(x,y)\n",
        "plt.bar(x2,y2,color='g')\n",
        "plt.title('Bar Graph')\n",
        "plt.ylabel('Y axis')\n",
        "plt.xlabel('X axis')\n",
        "\n",
        "plt.show()"
      ],
      "metadata": {
        "colab": {
          "base_uri": "https://localhost:8080/",
          "height": 295
        },
        "id": "YjZsiyrw8Ftz",
        "outputId": "9204ee65-20c3-4aff-f3d0-c8029b62cca9"
      },
      "execution_count": 23,
      "outputs": [
        {
          "output_type": "display_data",
          "data": {
            "text/plain": [
              "<Figure size 432x288 with 1 Axes>"
            ],
            "image/png": "[encoded data removed]"
          },
          "metadata": {
            "needs_background": "light"
          }
        }
      ]
    },
    {
      "cell_type": "code",
      "source": [
        "# Histograms\n",
        "\n",
        "a = np.array([22,87,5,43,56,73,55,54,11,20,51,5,79,31,27])\n",
        "plt.hist(a)\n",
        "plt.title(\"Histogram\")\n",
        "plt.show()"
      ],
      "metadata": {
        "colab": {
          "base_uri": "https://localhost:8080/",
          "height": 281
        },
        "id": "qkwDciGt8tFj",
        "outputId": "4e43e662-8e14-4d3e-c4ac-9e7e0cd3ab06"
      },
      "execution_count": 24,
      "outputs": [
        {
          "output_type": "display_data",
          "data": {
            "text/plain": [
              "<Figure size 432x288 with 1 Axes>"
            ],
            "image/png": "[encoded data removed]"
          },
          "metadata": {
            "needs_background": "light"
          }
        }
      ]
    },
    {
      "cell_type": "code",
      "source": [
        "# Box Plot using Matplotlib\n",
        "\n",
        "data = [np.random.normal(0,std,100) for std in range(1,4)]\n",
        "\n",
        "# rectangular Box Plot\n",
        "plt.boxplot(data,vert=True, patch_artist=False);"
      ],
      "metadata": {
        "colab": {
          "base_uri": "https://localhost:8080/",
          "height": 265
        },
        "id": "6x7ADoVm9JrB",
        "outputId": "53935762-c377-4733-cff6-fbf51e49b3df"
      },
      "execution_count": 26,
      "outputs": [
        {
          "output_type": "display_data",
          "data": {
            "text/plain": [
              "<Figure size 432x288 with 1 Axes>"
            ],
            "image/png": "[encoded data removed]"
          },
          "metadata": {
            "needs_background": "light"
          }
        }
      ]
    },
    {
      "cell_type": "code",
      "source": [
        "data"
      ],
      "metadata": {
        "colab": {
          "base_uri": "https://localhost:8080/"
        },
        "id": "chcl0CIz9tZT",
        "outputId": "beb3d357-ee48-453b-e97a-93d49547f8a3"
      },
      "execution_count": 27,
      "outputs": [
        {
          "output_type": "execute_result",
          "data": {
            "text/plain": [
              "[array([ 2.10268577e-02, -4.70409284e-05,  8.11814909e-01,  1.76458676e+00,\n",
              "         8.83285268e-01, -3.87111920e-01,  3.85728743e-01, -6.15422728e-02,\n",
              "        -5.31264605e-01, -1.29992249e+00, -1.46273299e-01,  4.34254468e-02,\n",
              "        -5.29288277e-01,  1.16170877e+00, -1.26388935e+00,  2.62609025e-01,\n",
              "         1.14585669e+00,  2.01502591e-01,  3.71544230e-01,  9.27652278e-01,\n",
              "         4.03481891e-01,  1.39756275e+00,  1.91435150e-01,  1.45403144e+00,\n",
              "         6.45175384e-01,  6.07352159e-01, -1.06641035e+00,  3.91029775e-01,\n",
              "         2.17345395e+00,  1.46885272e+00,  1.05940906e+00,  8.09179795e-02,\n",
              "        -6.03207461e-01, -9.99667021e-01, -1.89290569e+00, -1.42190456e+00,\n",
              "         1.09675053e+00,  4.09901744e-01,  4.46745539e-02,  1.26151411e-01,\n",
              "        -2.15062895e-01,  1.42089694e+00,  4.22886165e-01, -1.11535733e-02,\n",
              "        -7.68930145e-01, -5.95688010e-01, -1.35760145e+00, -9.32198802e-02,\n",
              "        -1.41301611e+00,  5.26595646e-01,  1.61797558e+00,  6.48920218e-01,\n",
              "         1.55798053e-01,  1.68978735e+00, -2.24882328e-02, -2.69474533e-01,\n",
              "        -1.36814826e+00,  9.25211108e-01,  5.38012588e-01, -2.26679296e-01,\n",
              "        -1.66576510e+00, -1.11029033e+00,  1.09858519e+00, -8.24975015e-01,\n",
              "         2.62553729e-01, -1.65047617e+00, -8.79614195e-01, -1.33241693e+00,\n",
              "         1.58662542e+00, -2.54344229e-01,  9.14987973e-01, -1.44004206e+00,\n",
              "         6.98226446e-01,  3.20928293e-01, -1.00161879e-02, -8.62142714e-01,\n",
              "        -1.00619736e+00,  4.29399227e-01,  2.89983026e-01, -1.75806616e+00,\n",
              "        -5.63794517e-01,  1.63836917e+00, -6.45622918e-01,  1.27680076e-01,\n",
              "         7.12674340e-01, -1.65344275e-01,  5.98158429e-01,  8.23351065e-01,\n",
              "         1.89103788e+00, -2.39376314e-01, -1.70272493e+00,  1.89637853e+00,\n",
              "        -7.33071006e-01, -1.67052328e-01,  1.14382884e+00, -7.49586655e-01,\n",
              "         1.49970105e+00, -4.07371263e-01,  6.26306044e-01, -3.86855516e-01]),\n",
              " array([-1.51206341, -1.08460755, -2.20733787, -2.04750112, -2.40820362,\n",
              "         1.13862288, -0.25534262,  1.80100973,  1.20972401,  0.22136671,\n",
              "         3.46286108, -2.87260862,  3.1950349 ,  0.82149215, -3.44096565,\n",
              "        -4.17659782,  3.05994003, -0.92559955,  2.26969931, -1.02772919,\n",
              "        -0.15919507, -1.9918221 ,  0.76425904,  0.56424105, -1.55782971,\n",
              "        -3.95401532, -3.5470084 , -0.10395317, -0.07427383, -2.73615913,\n",
              "        -1.02933735, -1.68507121,  4.3216596 ,  2.84543365, -1.70092547,\n",
              "        -0.77098455, -1.61896262,  3.91439697, -0.29019812, -1.66875401,\n",
              "        -2.71967341, -0.3060201 , -2.59401942,  0.51444919,  0.24337547,\n",
              "         1.48706884, -2.77965251, -0.27906808, -3.34347785,  2.49450319,\n",
              "        -5.22346036, -3.2952366 , -2.01211733,  0.25707357,  1.4727616 ,\n",
              "         1.57556498, -0.33896772,  0.51412207,  1.69046651, -2.62023051,\n",
              "         1.3732411 ,  0.90871003,  1.43772257, -2.21311946,  0.16317383,\n",
              "         0.38486915,  0.51705698,  4.21091829, -3.28247275, -0.54671192,\n",
              "        -1.12556078,  3.21765207,  2.26649323, -0.37360315,  2.90437156,\n",
              "         1.53915674,  2.08758804,  1.50268844, -2.17755551,  0.18982363,\n",
              "        -1.83447169, -1.73376707, -1.90468245, -2.23645826,  2.38034978,\n",
              "         1.27406875, -0.22657731, -0.3001862 ,  1.46426174, -2.20591043,\n",
              "        -0.72681022, -0.01142245,  1.28001869, -0.01980093,  2.74589188,\n",
              "         1.74852473, -1.86823448,  2.51363407,  0.95447509, -1.67520797]),\n",
              " array([-1.25517613,  0.31716205,  0.50098434, -4.14324967,  2.3412874 ,\n",
              "         3.10489641,  3.31255028, -3.0655938 ,  6.13443767,  2.05672289,\n",
              "        -4.37435913, -1.23311072, -1.65331276,  2.03171681,  1.79505387,\n",
              "         4.8841651 ,  1.58256446,  2.11846482,  1.73324654, -0.79082261,\n",
              "        -1.41970917,  3.41976888,  0.91715644,  2.56352527,  3.08357804,\n",
              "        -2.38859164, -1.81766376, -1.44936623,  1.8551114 , -0.78305162,\n",
              "        -1.52382868,  2.89086679, -2.79291562, -4.42389974, -3.36004863,\n",
              "         0.78249878,  0.98345732,  3.00443272,  2.70954586,  0.42407852,\n",
              "         2.27013951,  0.98328649,  0.49242952, -0.19151306, -2.20559682,\n",
              "        -6.1143879 , -0.04781543,  0.92370006, -1.06286114,  2.84516269,\n",
              "        -0.88321074,  5.00244736, -3.33701629,  0.83158857, -0.29835151,\n",
              "        -2.1892017 , -1.70112125, -2.89529072, -1.53009499, -0.25470379,\n",
              "        -0.64306375,  2.50198879,  3.53175628, -0.63782084,  0.6000992 ,\n",
              "        -0.12870207, -1.8427432 ,  2.22835354, -1.17039471, -3.33837268,\n",
              "         4.09899881, -1.61730579, -3.52917012, -1.7715216 ,  3.82779596,\n",
              "         1.97906441, -2.41271021, -0.40959333, -1.05350295, -0.65029613,\n",
              "        -2.47802423, -2.64724162, -1.22190734,  0.08455909,  4.5208435 ,\n",
              "        -4.54295188, -1.49437217,  1.21939988,  2.85293921,  4.96837635,\n",
              "        -0.70524128,  2.54360736, -1.56451424,  3.18828783, -1.93556726,\n",
              "        -1.37520926,  2.05283968,  1.14577242, -3.48251448,  1.41619876])]"
            ]
          },
          "metadata": {},
          "execution_count": 27
        }
      ]
    },
    {
      "cell_type": "code",
      "source": [
        "# Pie Chart"
      ],
      "metadata": {
        "id": "THJDVPtQ_TCg"
      },
      "execution_count": 28,
      "outputs": []
    },
    {
      "cell_type": "code",
      "source": [
        "# Data to plot\n",
        "labels = 'Python','C++','Ruby','Java'\n",
        "sizes = [215,130,245,210]\n",
        "colors = ['gold','yellowgreen','lightcoral','lightskyblue']\n",
        "explode = (0.4,0,0,0)   # explode 1st slice\n",
        "\n",
        "# Plot\n",
        "plt.pie(sizes, explode=explode, labels=labels, colors=colors, autopct='%1.1f%%', shadow=False)\n",
        "plt.axis('equal')\n",
        "plt.show()"
      ],
      "metadata": {
        "colab": {
          "base_uri": "https://localhost:8080/",
          "height": 248
        },
        "id": "DqEVjzPk_ZAk",
        "outputId": "60b1316c-0438-40f0-a3d1-60199512fef4"
      },
      "execution_count": 29,
      "outputs": [
        {
          "output_type": "display_data",
          "data": {
            "text/plain": [
              "<Figure size 432x288 with 1 Axes>"
            ],
            "image/png": "[encoded data removed]"
          },
          "metadata": {}
        }
      ]
    },
    {
      "cell_type": "code",
      "source": [
        ""
      ],
      "metadata": {
        "id": "zmvwkG3jAjrA"
      },
      "execution_count": null,
      "outputs": []
    }
  ]
}