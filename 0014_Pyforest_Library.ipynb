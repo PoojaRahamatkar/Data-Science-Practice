{
  "nbformat": 4,
  "nbformat_minor": 0,
  "metadata": {
    "colab": {
      "name": "0014.Pyforest Library.ipynb",
      "provenance": []
    },
    "kernelspec": {
      "name": "python3",
      "display_name": "Python 3"
    },
    "language_info": {
      "name": "python"
    }
  },
  "cells": [
    {
      "cell_type": "markdown",
      "source": [
        "**Pyforest - Lazy import all the Python Data Science Libraries**\n",
        "\n",
        "Pyforest lazy-imports all the popular Python Data Science libraries so that they are always there when you need them. if you don't use a library, it won't be imported. When you are done with your script, you can export the Python code for the import statements."
      ],
      "metadata": {
        "id": "sDq7K-t75hew"
      }
    },
    {
      "cell_type": "code",
      "execution_count": 1,
      "metadata": {
        "id": "A1MvKydo5Z_X",
        "colab": {
          "base_uri": "https://localhost:8080/"
        },
        "outputId": "0e15ce29-219e-4ca9-ec47-1438efd99d5a"
      },
      "outputs": [
        {
          "output_type": "stream",
          "name": "stdout",
          "text": [
            "Looking in indexes: https://pypi.org/simple, https://us-python.pkg.dev/colab-wheels/public/simple/\n",
            "Collecting Pyforest\n",
            "  Downloading pyforest-1.1.0.tar.gz (15 kB)\n",
            "Building wheels for collected packages: Pyforest\n",
            "  Building wheel for Pyforest (setup.py) ... \u001b[?25l\u001b[?25hdone\n",
            "  Created wheel for Pyforest: filename=pyforest-1.1.0-py2.py3-none-any.whl size=14607 sha256=eb592355fce72dd1b6a4fc3074bdf6ab879a870c2782b12e8a9060a413ec95c0\n",
            "  Stored in directory: /root/.cache/pip/wheels/61/1c/da/48e6c884142d485475d852d69d20a096aba5beceb338822893\n",
            "Successfully built Pyforest\n",
            "Installing collected packages: Pyforest\n",
            "Successfully installed Pyforest-1.1.0\n"
          ]
        }
      ],
      "source": [
        "!pip install Pyforest"
      ]
    },
    {
      "cell_type": "code",
      "source": [
        "from pyforest import *"
      ],
      "metadata": {
        "id": "lhjYLvEWQl8Y"
      },
      "execution_count": 2,
      "outputs": []
    },
    {
      "cell_type": "code",
      "source": [
        "df=pd.read_csv(\"http://winterolympicsmedals.com/medals.csv\")"
      ],
      "metadata": {
        "colab": {
          "base_uri": "https://localhost:8080/",
          "height": 17
        },
        "id": "BdcURnX5Qwoo",
        "outputId": "9f3b37d5-f909-4a6a-abbb-a1be32831ad2"
      },
      "execution_count": 4,
      "outputs": [
        {
          "output_type": "display_data",
          "data": {
            "text/plain": [
              "<IPython.core.display.Javascript object>"
            ],
            "application/javascript": [
              "\n",
              "        if (window._pyforest_update_imports_cell) { window._pyforest_update_imports_cell('import pydot\\nimport plotly as py\\nimport pickle\\nimport pandas as pd\\nimport plotly.express as px\\nimport matplotlib.pyplot as plt'); }\n",
              "    "
            ]
          },
          "metadata": {}
        }
      ]
    },
    {
      "cell_type": "code",
      "source": [
        "active_imports()"
      ],
      "metadata": {
        "colab": {
          "base_uri": "https://localhost:8080/"
        },
        "id": "P5xYFnIjQ-cW",
        "outputId": "a490851f-b5fa-4064-b3b1-84856c818e24"
      },
      "execution_count": 5,
      "outputs": [
        {
          "output_type": "stream",
          "name": "stdout",
          "text": [
            "import pydot\n",
            "import plotly as py\n",
            "import pickle\n",
            "import pandas as pd\n",
            "import plotly.express as px\n",
            "import matplotlib.pyplot as plt\n",
            "import altair as alt\n"
          ]
        },
        {
          "output_type": "execute_result",
          "data": {
            "text/plain": [
              "['import pydot',\n",
              " 'import plotly as py',\n",
              " 'import pickle',\n",
              " 'import pandas as pd',\n",
              " 'import plotly.express as px',\n",
              " 'import matplotlib.pyplot as plt',\n",
              " 'import altair as alt']"
            ]
          },
          "metadata": {},
          "execution_count": 5
        }
      ]
    },
    {
      "cell_type": "code",
      "source": [
        "lazy_imports()"
      ],
      "metadata": {
        "colab": {
          "base_uri": "https://localhost:8080/"
        },
        "id": "ETkHsdxgRQNU",
        "outputId": "a1193cb1-a371-4ca7-c9e0-c34a8e71457a"
      },
      "execution_count": 6,
      "outputs": [
        {
          "output_type": "execute_result",
          "data": {
            "text/plain": [
              "['from sklearn import svm',\n",
              " 'from dask import dataframe as dd',\n",
              " 'import plotly.graph_objs as go',\n",
              " 'from scipy import signal as sg',\n",
              " 'import bokeh',\n",
              " 'from sklearn.ensemble import GradientBoostingRegressor',\n",
              " 'import xgboost as xgb',\n",
              " 'import spacy',\n",
              " 'from sklearn.model_selection import KFold',\n",
              " 'from sklearn.impute import SimpleImputer',\n",
              " 'from sklearn.linear_model import ElasticNet',\n",
              " 'from sklearn.preprocessing import OneHotEncoder',\n",
              " 'import re',\n",
              " 'import tqdm',\n",
              " 'from pyspark import SparkContext',\n",
              " 'import os',\n",
              " 'from sklearn.model_selection import train_test_split',\n",
              " 'from PIL import Image',\n",
              " 'import awswrangler as wr',\n",
              " 'from sklearn.model_selection import GridSearchCV',\n",
              " 'import textblob',\n",
              " 'from sklearn.feature_extraction.text import CountVectorizer',\n",
              " 'from sklearn.linear_model import RidgeCV',\n",
              " 'from fbprophet import Prophet',\n",
              " 'from xlrd import open_workbook',\n",
              " 'import gensim',\n",
              " 'import statsmodels.api as sm',\n",
              " 'import sklearn',\n",
              " 'from sklearn.linear_model import LassoCV',\n",
              " 'import matplotlib as mpl',\n",
              " 'import torch',\n",
              " 'from sklearn.ensemble import GradientBoostingClassifier',\n",
              " 'from sklearn.model_selection import cross_val_score',\n",
              " 'import statistics',\n",
              " 'import keras',\n",
              " 'from sklearn.linear_model import ElasticNetCV',\n",
              " 'import cv2',\n",
              " 'from sklearn.linear_model import LinearRegression',\n",
              " 'import fbprophet',\n",
              " 'import skimage',\n",
              " 'from sklearn.preprocessing import RobustScaler',\n",
              " 'from statsmodels.tsa.arima_model import ARIMA',\n",
              " 'import nltk',\n",
              " 'import sys',\n",
              " 'import fastai',\n",
              " 'import glob',\n",
              " 'from pathlib import Path',\n",
              " 'import numpy as np',\n",
              " 'from sklearn.cluster import KMeans',\n",
              " 'from sklearn.manifold import TSNE',\n",
              " 'from sklearn.model_selection import StratifiedKFold',\n",
              " 'from sklearn.ensemble import RandomForestRegressor',\n",
              " 'import tensorflow as tf',\n",
              " 'from scipy import stats',\n",
              " 'from sklearn.model_selection import RandomizedSearchCV',\n",
              " 'from sklearn.linear_model import LogisticRegression',\n",
              " 'import datetime as dt',\n",
              " 'import seaborn as sns',\n",
              " 'from sklearn.preprocessing import LabelEncoder',\n",
              " 'from sklearn.ensemble import RandomForestClassifier',\n",
              " 'import imutils',\n",
              " 'from sklearn.linear_model import Lasso',\n",
              " 'from sklearn.preprocessing import StandardScaler',\n",
              " 'from sklearn.preprocessing import MinMaxScaler',\n",
              " 'from sklearn import metrics',\n",
              " 'import dash',\n",
              " 'from sklearn.feature_extraction.text import TfidfVectorizer',\n",
              " 'from sklearn.decomposition import PCA',\n",
              " 'from sklearn.linear_model import Ridge',\n",
              " 'from sklearn.preprocessing import PolynomialFeatures']"
            ]
          },
          "metadata": {},
          "execution_count": 6
        }
      ]
    },
    {
      "cell_type": "code",
      "source": [
        "df.head()"
      ],
      "metadata": {
        "colab": {
          "base_uri": "https://localhost:8080/",
          "height": 250
        },
        "id": "YqK84zYARbNa",
        "outputId": "59f21466-a34e-4be9-f873-191928763d7b"
      },
      "execution_count": 7,
      "outputs": [
        {
          "output_type": "execute_result",
          "data": {
            "text/plain": [
              "   Year      City       Sport  ...       Event Event gender   Medal\n",
              "0  1924  Chamonix     Skating  ...  individual            M  Silver\n",
              "1  1924  Chamonix     Skating  ...  individual            W    Gold\n",
              "2  1924  Chamonix     Skating  ...       pairs            X    Gold\n",
              "3  1924  Chamonix   Bobsleigh  ...    four-man            M  Bronze\n",
              "4  1924  Chamonix  Ice Hockey  ...  ice hockey            M    Gold\n",
              "\n",
              "[5 rows x 8 columns]"
            ],
            "text/html": [
              "\n",
              "  <div id=\"df-93bb50c3-695e-4606-9ffc-e19752587633\">\n",
              "    <div class=\"colab-df-container\">\n",
              "      <div>\n",
              "<style scoped>\n",
              "    .dataframe tbody tr th:only-of-type {\n",
              "        vertical-align: middle;\n",
              "    }\n",
              "\n",
              "    .dataframe tbody tr th {\n",
              "        vertical-align: top;\n",
              "    }\n",
              "\n",
              "    .dataframe thead th {\n",
              "        text-align: right;\n",
              "    }\n",
              "</style>\n",
              "<table border=\"1\" class=\"dataframe\">\n",
              "  <thead>\n",
              "    <tr style=\"text-align: right;\">\n",
              "      <th></th>\n",
              "      <th>Year</th>\n",
              "      <th>City</th>\n",
              "      <th>Sport</th>\n",
              "      <th>Discipline</th>\n",
              "      <th>NOC</th>\n",
              "      <th>Event</th>\n",
              "      <th>Event gender</th>\n",
              "      <th>Medal</th>\n",
              "    </tr>\n",
              "  </thead>\n",
              "  <tbody>\n",
              "    <tr>\n",
              "      <th>0</th>\n",
              "      <td>1924</td>\n",
              "      <td>Chamonix</td>\n",
              "      <td>Skating</td>\n",
              "      <td>Figure skating</td>\n",
              "      <td>AUT</td>\n",
              "      <td>individual</td>\n",
              "      <td>M</td>\n",
              "      <td>Silver</td>\n",
              "    </tr>\n",
              "    <tr>\n",
              "      <th>1</th>\n",
              "      <td>1924</td>\n",
              "      <td>Chamonix</td>\n",
              "      <td>Skating</td>\n",
              "      <td>Figure skating</td>\n",
              "      <td>AUT</td>\n",
              "      <td>individual</td>\n",
              "      <td>W</td>\n",
              "      <td>Gold</td>\n",
              "    </tr>\n",
              "    <tr>\n",
              "      <th>2</th>\n",
              "      <td>1924</td>\n",
              "      <td>Chamonix</td>\n",
              "      <td>Skating</td>\n",
              "      <td>Figure skating</td>\n",
              "      <td>AUT</td>\n",
              "      <td>pairs</td>\n",
              "      <td>X</td>\n",
              "      <td>Gold</td>\n",
              "    </tr>\n",
              "    <tr>\n",
              "      <th>3</th>\n",
              "      <td>1924</td>\n",
              "      <td>Chamonix</td>\n",
              "      <td>Bobsleigh</td>\n",
              "      <td>Bobsleigh</td>\n",
              "      <td>BEL</td>\n",
              "      <td>four-man</td>\n",
              "      <td>M</td>\n",
              "      <td>Bronze</td>\n",
              "    </tr>\n",
              "    <tr>\n",
              "      <th>4</th>\n",
              "      <td>1924</td>\n",
              "      <td>Chamonix</td>\n",
              "      <td>Ice Hockey</td>\n",
              "      <td>Ice Hockey</td>\n",
              "      <td>CAN</td>\n",
              "      <td>ice hockey</td>\n",
              "      <td>M</td>\n",
              "      <td>Gold</td>\n",
              "    </tr>\n",
              "  </tbody>\n",
              "</table>\n",
              "</div>\n",
              "      <button class=\"colab-df-convert\" onclick=\"convertToInteractive('df-93bb50c3-695e-4606-9ffc-e19752587633')\"\n",
              "              title=\"Convert this dataframe to an interactive table.\"\n",
              "              style=\"display:none;\">\n",
              "        \n",
              "  <svg xmlns=\"http://www.w3.org/2000/svg\" height=\"24px\"viewBox=\"0 0 24 24\"\n",
              "       width=\"24px\">\n",
              "    <path d=\"M0 0h24v24H0V0z\" fill=\"none\"/>\n",
              "    <path d=\"M18.56 5.44l.94 2.06.94-2.06 2.06-.94-2.06-.94-.94-2.06-.94 2.06-2.06.94zm-11 1L8.5 8.5l.94-2.06 2.06-.94-2.06-.94L8.5 2.5l-.94 2.06-2.06.94zm10 10l.94 2.06.94-2.06 2.06-.94-2.06-.94-.94-2.06-.94 2.06-2.06.94z\"/><path d=\"M17.41 7.96l-1.37-1.37c-.4-.4-.92-.59-1.43-.59-.52 0-1.04.2-1.43.59L10.3 9.45l-7.72 7.72c-.78.78-.78 2.05 0 2.83L4 21.41c.39.39.9.59 1.41.59.51 0 1.02-.2 1.41-.59l7.78-7.78 2.81-2.81c.8-.78.8-2.07 0-2.86zM5.41 20L4 18.59l7.72-7.72 1.47 1.35L5.41 20z\"/>\n",
              "  </svg>\n",
              "      </button>\n",
              "      \n",
              "  <style>\n",
              "    .colab-df-container {\n",
              "      display:flex;\n",
              "      flex-wrap:wrap;\n",
              "      gap: 12px;\n",
              "    }\n",
              "\n",
              "    .colab-df-convert {\n",
              "      background-color: #E8F0FE;\n",
              "      border: none;\n",
              "      border-radius: 50%;\n",
              "      cursor: pointer;\n",
              "      display: none;\n",
              "      fill: #1967D2;\n",
              "      height: 32px;\n",
              "      padding: 0 0 0 0;\n",
              "      width: 32px;\n",
              "    }\n",
              "\n",
              "    .colab-df-convert:hover {\n",
              "      background-color: #E2EBFA;\n",
              "      box-shadow: 0px 1px 2px rgba(60, 64, 67, 0.3), 0px 1px 3px 1px rgba(60, 64, 67, 0.15);\n",
              "      fill: #174EA6;\n",
              "    }\n",
              "\n",
              "    [theme=dark] .colab-df-convert {\n",
              "      background-color: #3B4455;\n",
              "      fill: #D2E3FC;\n",
              "    }\n",
              "\n",
              "    [theme=dark] .colab-df-convert:hover {\n",
              "      background-color: #434B5C;\n",
              "      box-shadow: 0px 1px 3px 1px rgba(0, 0, 0, 0.15);\n",
              "      filter: drop-shadow(0px 1px 2px rgba(0, 0, 0, 0.3));\n",
              "      fill: #FFFFFF;\n",
              "    }\n",
              "  </style>\n",
              "\n",
              "      <script>\n",
              "        const buttonEl =\n",
              "          document.querySelector('#df-93bb50c3-695e-4606-9ffc-e19752587633 button.colab-df-convert');\n",
              "        buttonEl.style.display =\n",
              "          google.colab.kernel.accessAllowed ? 'block' : 'none';\n",
              "\n",
              "        async function convertToInteractive(key) {\n",
              "          const element = document.querySelector('#df-93bb50c3-695e-4606-9ffc-e19752587633');\n",
              "          const dataTable =\n",
              "            await google.colab.kernel.invokeFunction('convertToInteractive',\n",
              "                                                     [key], {});\n",
              "          if (!dataTable) return;\n",
              "\n",
              "          const docLinkHtml = 'Like what you see? Visit the ' +\n",
              "            '<a target=\"_blank\" href=https://colab.research.google.com/notebooks/data_table.ipynb>data table notebook</a>'\n",
              "            + ' to learn more about interactive tables.';\n",
              "          element.innerHTML = '';\n",
              "          dataTable['output_type'] = 'display_data';\n",
              "          await google.colab.output.renderOutput(dataTable, element);\n",
              "          const docLink = document.createElement('div');\n",
              "          docLink.innerHTML = docLinkHtml;\n",
              "          element.appendChild(docLink);\n",
              "        }\n",
              "      </script>\n",
              "    </div>\n",
              "  </div>\n",
              "  "
            ]
          },
          "metadata": {},
          "execution_count": 7
        }
      ]
    },
    {
      "cell_type": "code",
      "source": [
        "lst1=[1,2,3,4,5]\n",
        "lst2=[3,4,5,6,7]"
      ],
      "metadata": {
        "id": "WVhmp2PclLC9"
      },
      "execution_count": 8,
      "outputs": []
    },
    {
      "cell_type": "code",
      "source": [
        "plt.plot(lst1,lst2)\n",
        "plt.xlabel(\"X label\")\n",
        "plt.ylabel(\"Y label\")\n",
        "plt.show()"
      ],
      "metadata": {
        "colab": {
          "base_uri": "https://localhost:8080/",
          "height": 279
        },
        "id": "VN0Ub0PBlWW7",
        "outputId": "50b7e198-9dc0-4110-87af-d3e52e29f579"
      },
      "execution_count": 9,
      "outputs": [
        {
          "output_type": "display_data",
          "data": {
            "text/plain": [
              "<IPython.core.display.Javascript object>"
            ],
            "application/javascript": [
              "\n",
              "        if (window._pyforest_update_imports_cell) { window._pyforest_update_imports_cell('from sklearn.model_selection import cross_val_score\\nfrom openpyxl import load_workbook\\nimport pydot\\nfrom sklearn.feature_extraction.text import CountVectorizer\\nimport lightgbm as lgb\\nimport plotly as py\\nimport cv2\\nimport pickle\\nimport pandas as pd\\nimport bokeh\\nfrom statsmodels.tsa.arima_model import ARIMA\\nimport plotly.express as px\\nimport matplotlib.pyplot as plt\\nimport altair as alt'); }\n",
              "    "
            ]
          },
          "metadata": {}
        },
        {
          "output_type": "display_data",
          "data": {
            "text/plain": [
              "<IPython.core.display.Javascript object>"
            ],
            "application/javascript": [
              "\n",
              "        if (window._pyforest_update_imports_cell) { window._pyforest_update_imports_cell('from sklearn.model_selection import cross_val_score\\nfrom openpyxl import load_workbook\\nimport pydot\\nfrom sklearn.feature_extraction.text import CountVectorizer\\nimport lightgbm as lgb\\nimport plotly as py\\nimport cv2\\nimport pickle\\nimport pandas as pd\\nimport bokeh\\nfrom statsmodels.tsa.arima_model import ARIMA\\nimport plotly.express as px\\nimport matplotlib.pyplot as plt\\nimport altair as alt'); }\n",
              "    "
            ]
          },
          "metadata": {}
        },
        {
          "output_type": "display_data",
          "data": {
            "text/plain": [
              "<IPython.core.display.Javascript object>"
            ],
            "application/javascript": [
              "\n",
              "        if (window._pyforest_update_imports_cell) { window._pyforest_update_imports_cell('from sklearn.model_selection import cross_val_score\\nfrom openpyxl import load_workbook\\nimport pydot\\nfrom sklearn.feature_extraction.text import CountVectorizer\\nimport lightgbm as lgb\\nimport plotly as py\\nimport cv2\\nimport pickle\\nimport pandas as pd\\nimport bokeh\\nfrom statsmodels.tsa.arima_model import ARIMA\\nimport plotly.express as px\\nimport matplotlib.pyplot as plt\\nimport altair as alt'); }\n",
              "    "
            ]
          },
          "metadata": {}
        },
        {
          "output_type": "display_data",
          "data": {
            "text/plain": [
              "<IPython.core.display.Javascript object>"
            ],
            "application/javascript": [
              "\n",
              "        if (window._pyforest_update_imports_cell) { window._pyforest_update_imports_cell('from sklearn.model_selection import cross_val_score\\nfrom openpyxl import load_workbook\\nimport pydot\\nfrom sklearn.feature_extraction.text import CountVectorizer\\nimport lightgbm as lgb\\nimport plotly as py\\nimport cv2\\nimport pickle\\nimport pandas as pd\\nimport bokeh\\nfrom statsmodels.tsa.arima_model import ARIMA\\nimport plotly.express as px\\nimport matplotlib.pyplot as plt\\nimport altair as alt'); }\n",
              "    "
            ]
          },
          "metadata": {}
        },
        {
          "output_type": "display_data",
          "data": {
            "text/plain": [
              "<Figure size 432x288 with 1 Axes>"
            ],
            "image/png": "[encoded data removed]"
          },
          "metadata": {
            "needs_background": "light"
          }
        }
      ]
    },
    {
      "cell_type": "code",
      "source": [
        "active_imports()"
      ],
      "metadata": {
        "colab": {
          "base_uri": "https://localhost:8080/"
        },
        "id": "5IOWqgyclofX",
        "outputId": "76506ec6-de9c-4c9f-cd9f-1f4d48992007"
      },
      "execution_count": 10,
      "outputs": [
        {
          "output_type": "stream",
          "name": "stdout",
          "text": [
            "from sklearn.model_selection import cross_val_score\n",
            "from openpyxl import load_workbook\n",
            "import pydot\n",
            "from sklearn.feature_extraction.text import CountVectorizer\n",
            "import lightgbm as lgb\n",
            "import plotly as py\n",
            "import cv2\n",
            "import pickle\n",
            "import pandas as pd\n",
            "import bokeh\n",
            "from statsmodels.tsa.arima_model import ARIMA\n",
            "import plotly.express as px\n",
            "import matplotlib.pyplot as plt\n",
            "import altair as alt\n"
          ]
        },
        {
          "output_type": "execute_result",
          "data": {
            "text/plain": [
              "['from sklearn.model_selection import cross_val_score',\n",
              " 'from openpyxl import load_workbook',\n",
              " 'import pydot',\n",
              " 'from sklearn.feature_extraction.text import CountVectorizer',\n",
              " 'import lightgbm as lgb',\n",
              " 'import plotly as py',\n",
              " 'import cv2',\n",
              " 'import pickle',\n",
              " 'import pandas as pd',\n",
              " 'import bokeh',\n",
              " 'from statsmodels.tsa.arima_model import ARIMA',\n",
              " 'import plotly.express as px',\n",
              " 'import matplotlib.pyplot as plt',\n",
              " 'import altair as alt']"
            ]
          },
          "metadata": {},
          "execution_count": 10
        }
      ]
    },
    {
      "cell_type": "code",
      "source": [
        "np.array([1,2,3,4,5])"
      ],
      "metadata": {
        "colab": {
          "base_uri": "https://localhost:8080/",
          "height": 34
        },
        "id": "mEZbhOwFlwRV",
        "outputId": "518be5ab-c2f6-42c2-b0f6-6333cfe7c7bc"
      },
      "execution_count": 11,
      "outputs": [
        {
          "output_type": "display_data",
          "data": {
            "text/plain": [
              "<IPython.core.display.Javascript object>"
            ],
            "application/javascript": [
              "\n",
              "        if (window._pyforest_update_imports_cell) { window._pyforest_update_imports_cell('from sklearn.model_selection import cross_val_score\\nfrom openpyxl import load_workbook\\nimport pydot\\nfrom sklearn.feature_extraction.text import CountVectorizer\\nimport lightgbm as lgb\\nimport plotly as py\\nimport cv2\\nimport pickle\\nimport pandas as pd\\nimport bokeh\\nfrom statsmodels.tsa.arima_model import ARIMA\\nimport nltk\\nimport plotly.express as px\\nimport matplotlib.pyplot as plt\\nimport numpy as np\\nimport altair as alt'); }\n",
              "    "
            ]
          },
          "metadata": {}
        },
        {
          "output_type": "execute_result",
          "data": {
            "text/plain": [
              "array([1, 2, 3, 4, 5])"
            ]
          },
          "metadata": {},
          "execution_count": 11
        }
      ]
    },
    {
      "cell_type": "code",
      "source": [
        "active_imports()"
      ],
      "metadata": {
        "colab": {
          "base_uri": "https://localhost:8080/"
        },
        "id": "t53oyJOol3f1",
        "outputId": "ab0e8274-a416-4997-a660-3c4bcafa5f26"
      },
      "execution_count": 12,
      "outputs": [
        {
          "output_type": "stream",
          "name": "stdout",
          "text": [
            "from sklearn.model_selection import cross_val_score\n",
            "from openpyxl import load_workbook\n",
            "import pydot\n",
            "from sklearn.feature_extraction.text import CountVectorizer\n",
            "import lightgbm as lgb\n",
            "import plotly as py\n",
            "import cv2\n",
            "import pickle\n",
            "import pandas as pd\n",
            "import bokeh\n",
            "from statsmodels.tsa.arima_model import ARIMA\n",
            "import nltk\n",
            "import plotly.express as px\n",
            "import matplotlib.pyplot as plt\n",
            "import numpy as np\n",
            "import altair as alt\n"
          ]
        },
        {
          "output_type": "execute_result",
          "data": {
            "text/plain": [
              "['from sklearn.model_selection import cross_val_score',\n",
              " 'from openpyxl import load_workbook',\n",
              " 'import pydot',\n",
              " 'from sklearn.feature_extraction.text import CountVectorizer',\n",
              " 'import lightgbm as lgb',\n",
              " 'import plotly as py',\n",
              " 'import cv2',\n",
              " 'import pickle',\n",
              " 'import pandas as pd',\n",
              " 'import bokeh',\n",
              " 'from statsmodels.tsa.arima_model import ARIMA',\n",
              " 'import nltk',\n",
              " 'import plotly.express as px',\n",
              " 'import matplotlib.pyplot as plt',\n",
              " 'import numpy as np',\n",
              " 'import altair as alt']"
            ]
          },
          "metadata": {},
          "execution_count": 12
        }
      ]
    },
    {
      "cell_type": "code",
      "source": [
        "df1 = pd.read_csv(\"mercedesbenz.csv\")"
      ],
      "metadata": {
        "colab": {
          "base_uri": "https://localhost:8080/",
          "height": 17
        },
        "id": "oN4Gs7YYl6JO",
        "outputId": "909a8f70-ad8e-4ea5-dad0-5cee912c8234"
      },
      "execution_count": 13,
      "outputs": [
        {
          "output_type": "display_data",
          "data": {
            "text/plain": [
              "<IPython.core.display.Javascript object>"
            ],
            "application/javascript": [
              "\n",
              "        if (window._pyforest_update_imports_cell) { window._pyforest_update_imports_cell('from sklearn.model_selection import cross_val_score\\nfrom openpyxl import load_workbook\\nimport pydot\\nfrom sklearn.feature_extraction.text import CountVectorizer\\nimport lightgbm as lgb\\nimport plotly as py\\nimport cv2\\nimport pickle\\nimport pandas as pd\\nimport bokeh\\nfrom statsmodels.tsa.arima_model import ARIMA\\nimport nltk\\nimport plotly.express as px\\nimport matplotlib.pyplot as plt\\nimport numpy as np\\nimport altair as alt'); }\n",
              "    "
            ]
          },
          "metadata": {}
        }
      ]
    },
    {
      "cell_type": "code",
      "source": [
        "df1.head()"
      ],
      "metadata": {
        "colab": {
          "base_uri": "https://localhost:8080/",
          "height": 300
        },
        "id": "Pu6SgZVknbhc",
        "outputId": "f25c26ad-69e7-4577-88f4-b9d4a29f3eaf"
      },
      "execution_count": 14,
      "outputs": [
        {
          "output_type": "execute_result",
          "data": {
            "text/plain": [
              "   ID       y  X0 X1  X2 X3 X4  ... X378 X379 X380  X382  X383  X384  X385\n",
              "0   0  130.81   k  v  at  a  d  ...    0    0    0     0     0     0     0\n",
              "1   6   88.53   k  t  av  e  d  ...    0    0    0     0     0     0     0\n",
              "2   7   76.26  az  w   n  c  d  ...    0    0    0     1     0     0     0\n",
              "3   9   80.62  az  t   n  f  d  ...    0    0    0     0     0     0     0\n",
              "4  13   78.02  az  v   n  f  d  ...    0    0    0     0     0     0     0\n",
              "\n",
              "[5 rows x 378 columns]"
            ],
            "text/html": [
              "\n",
              "  <div id=\"df-09b98ce1-3554-446a-bcfb-78a5db079893\">\n",
              "    <div class=\"colab-df-container\">\n",
              "      <div>\n",
              "<style scoped>\n",
              "    .dataframe tbody tr th:only-of-type {\n",
              "        vertical-align: middle;\n",
              "    }\n",
              "\n",
              "    .dataframe tbody tr th {\n",
              "        vertical-align: top;\n",
              "    }\n",
              "\n",
              "    .dataframe thead th {\n",
              "        text-align: right;\n",
              "    }\n",
              "</style>\n",
              "<table border=\"1\" class=\"dataframe\">\n",
              "  <thead>\n",
              "    <tr style=\"text-align: right;\">\n",
              "      <th></th>\n",
              "      <th>ID</th>\n",
              "      <th>y</th>\n",
              "      <th>X0</th>\n",
              "      <th>X1</th>\n",
              "      <th>X2</th>\n",
              "      <th>X3</th>\n",
              "      <th>X4</th>\n",
              "      <th>X5</th>\n",
              "      <th>X6</th>\n",
              "      <th>X8</th>\n",
              "      <th>X10</th>\n",
              "      <th>X11</th>\n",
              "      <th>X12</th>\n",
              "      <th>X13</th>\n",
              "      <th>X14</th>\n",
              "      <th>X15</th>\n",
              "      <th>X16</th>\n",
              "      <th>X17</th>\n",
              "      <th>X18</th>\n",
              "      <th>X19</th>\n",
              "      <th>X20</th>\n",
              "      <th>X21</th>\n",
              "      <th>X22</th>\n",
              "      <th>X23</th>\n",
              "      <th>X24</th>\n",
              "      <th>X26</th>\n",
              "      <th>X27</th>\n",
              "      <th>X28</th>\n",
              "      <th>X29</th>\n",
              "      <th>X30</th>\n",
              "      <th>X31</th>\n",
              "      <th>X32</th>\n",
              "      <th>X33</th>\n",
              "      <th>X34</th>\n",
              "      <th>X35</th>\n",
              "      <th>X36</th>\n",
              "      <th>X37</th>\n",
              "      <th>X38</th>\n",
              "      <th>X39</th>\n",
              "      <th>X40</th>\n",
              "      <th>...</th>\n",
              "      <th>X345</th>\n",
              "      <th>X346</th>\n",
              "      <th>X347</th>\n",
              "      <th>X348</th>\n",
              "      <th>X349</th>\n",
              "      <th>X350</th>\n",
              "      <th>X351</th>\n",
              "      <th>X352</th>\n",
              "      <th>X353</th>\n",
              "      <th>X354</th>\n",
              "      <th>X355</th>\n",
              "      <th>X356</th>\n",
              "      <th>X357</th>\n",
              "      <th>X358</th>\n",
              "      <th>X359</th>\n",
              "      <th>X360</th>\n",
              "      <th>X361</th>\n",
              "      <th>X362</th>\n",
              "      <th>X363</th>\n",
              "      <th>X364</th>\n",
              "      <th>X365</th>\n",
              "      <th>X366</th>\n",
              "      <th>X367</th>\n",
              "      <th>X368</th>\n",
              "      <th>X369</th>\n",
              "      <th>X370</th>\n",
              "      <th>X371</th>\n",
              "      <th>X372</th>\n",
              "      <th>X373</th>\n",
              "      <th>X374</th>\n",
              "      <th>X375</th>\n",
              "      <th>X376</th>\n",
              "      <th>X377</th>\n",
              "      <th>X378</th>\n",
              "      <th>X379</th>\n",
              "      <th>X380</th>\n",
              "      <th>X382</th>\n",
              "      <th>X383</th>\n",
              "      <th>X384</th>\n",
              "      <th>X385</th>\n",
              "    </tr>\n",
              "  </thead>\n",
              "  <tbody>\n",
              "    <tr>\n",
              "      <th>0</th>\n",
              "      <td>0</td>\n",
              "      <td>130.81</td>\n",
              "      <td>k</td>\n",
              "      <td>v</td>\n",
              "      <td>at</td>\n",
              "      <td>a</td>\n",
              "      <td>d</td>\n",
              "      <td>u</td>\n",
              "      <td>j</td>\n",
              "      <td>o</td>\n",
              "      <td>0</td>\n",
              "      <td>0</td>\n",
              "      <td>0</td>\n",
              "      <td>1</td>\n",
              "      <td>0</td>\n",
              "      <td>0</td>\n",
              "      <td>0</td>\n",
              "      <td>0</td>\n",
              "      <td>1</td>\n",
              "      <td>0</td>\n",
              "      <td>0</td>\n",
              "      <td>1</td>\n",
              "      <td>0</td>\n",
              "      <td>0</td>\n",
              "      <td>0</td>\n",
              "      <td>0</td>\n",
              "      <td>0</td>\n",
              "      <td>0</td>\n",
              "      <td>0</td>\n",
              "      <td>0</td>\n",
              "      <td>1</td>\n",
              "      <td>0</td>\n",
              "      <td>0</td>\n",
              "      <td>0</td>\n",
              "      <td>1</td>\n",
              "      <td>0</td>\n",
              "      <td>1</td>\n",
              "      <td>0</td>\n",
              "      <td>0</td>\n",
              "      <td>0</td>\n",
              "      <td>...</td>\n",
              "      <td>0</td>\n",
              "      <td>0</td>\n",
              "      <td>0</td>\n",
              "      <td>0</td>\n",
              "      <td>0</td>\n",
              "      <td>0</td>\n",
              "      <td>0</td>\n",
              "      <td>0</td>\n",
              "      <td>0</td>\n",
              "      <td>1</td>\n",
              "      <td>0</td>\n",
              "      <td>0</td>\n",
              "      <td>0</td>\n",
              "      <td>0</td>\n",
              "      <td>0</td>\n",
              "      <td>0</td>\n",
              "      <td>1</td>\n",
              "      <td>0</td>\n",
              "      <td>0</td>\n",
              "      <td>0</td>\n",
              "      <td>0</td>\n",
              "      <td>0</td>\n",
              "      <td>0</td>\n",
              "      <td>0</td>\n",
              "      <td>0</td>\n",
              "      <td>0</td>\n",
              "      <td>0</td>\n",
              "      <td>0</td>\n",
              "      <td>0</td>\n",
              "      <td>0</td>\n",
              "      <td>0</td>\n",
              "      <td>0</td>\n",
              "      <td>1</td>\n",
              "      <td>0</td>\n",
              "      <td>0</td>\n",
              "      <td>0</td>\n",
              "      <td>0</td>\n",
              "      <td>0</td>\n",
              "      <td>0</td>\n",
              "      <td>0</td>\n",
              "    </tr>\n",
              "    <tr>\n",
              "      <th>1</th>\n",
              "      <td>6</td>\n",
              "      <td>88.53</td>\n",
              "      <td>k</td>\n",
              "      <td>t</td>\n",
              "      <td>av</td>\n",
              "      <td>e</td>\n",
              "      <td>d</td>\n",
              "      <td>y</td>\n",
              "      <td>l</td>\n",
              "      <td>o</td>\n",
              "      <td>0</td>\n",
              "      <td>0</td>\n",
              "      <td>0</td>\n",
              "      <td>0</td>\n",
              "      <td>0</td>\n",
              "      <td>0</td>\n",
              "      <td>0</td>\n",
              "      <td>0</td>\n",
              "      <td>1</td>\n",
              "      <td>0</td>\n",
              "      <td>0</td>\n",
              "      <td>0</td>\n",
              "      <td>0</td>\n",
              "      <td>0</td>\n",
              "      <td>0</td>\n",
              "      <td>0</td>\n",
              "      <td>1</td>\n",
              "      <td>0</td>\n",
              "      <td>0</td>\n",
              "      <td>0</td>\n",
              "      <td>1</td>\n",
              "      <td>0</td>\n",
              "      <td>0</td>\n",
              "      <td>0</td>\n",
              "      <td>1</td>\n",
              "      <td>0</td>\n",
              "      <td>1</td>\n",
              "      <td>0</td>\n",
              "      <td>0</td>\n",
              "      <td>0</td>\n",
              "      <td>...</td>\n",
              "      <td>0</td>\n",
              "      <td>0</td>\n",
              "      <td>0</td>\n",
              "      <td>1</td>\n",
              "      <td>0</td>\n",
              "      <td>0</td>\n",
              "      <td>0</td>\n",
              "      <td>0</td>\n",
              "      <td>0</td>\n",
              "      <td>0</td>\n",
              "      <td>0</td>\n",
              "      <td>0</td>\n",
              "      <td>0</td>\n",
              "      <td>0</td>\n",
              "      <td>0</td>\n",
              "      <td>0</td>\n",
              "      <td>1</td>\n",
              "      <td>0</td>\n",
              "      <td>1</td>\n",
              "      <td>0</td>\n",
              "      <td>0</td>\n",
              "      <td>0</td>\n",
              "      <td>0</td>\n",
              "      <td>0</td>\n",
              "      <td>0</td>\n",
              "      <td>0</td>\n",
              "      <td>0</td>\n",
              "      <td>0</td>\n",
              "      <td>0</td>\n",
              "      <td>0</td>\n",
              "      <td>1</td>\n",
              "      <td>0</td>\n",
              "      <td>0</td>\n",
              "      <td>0</td>\n",
              "      <td>0</td>\n",
              "      <td>0</td>\n",
              "      <td>0</td>\n",
              "      <td>0</td>\n",
              "      <td>0</td>\n",
              "      <td>0</td>\n",
              "    </tr>\n",
              "    <tr>\n",
              "      <th>2</th>\n",
              "      <td>7</td>\n",
              "      <td>76.26</td>\n",
              "      <td>az</td>\n",
              "      <td>w</td>\n",
              "      <td>n</td>\n",
              "      <td>c</td>\n",
              "      <td>d</td>\n",
              "      <td>x</td>\n",
              "      <td>j</td>\n",
              "      <td>x</td>\n",
              "      <td>0</td>\n",
              "      <td>0</td>\n",
              "      <td>0</td>\n",
              "      <td>0</td>\n",
              "      <td>0</td>\n",
              "      <td>0</td>\n",
              "      <td>0</td>\n",
              "      <td>1</td>\n",
              "      <td>0</td>\n",
              "      <td>0</td>\n",
              "      <td>0</td>\n",
              "      <td>0</td>\n",
              "      <td>0</td>\n",
              "      <td>0</td>\n",
              "      <td>0</td>\n",
              "      <td>0</td>\n",
              "      <td>1</td>\n",
              "      <td>1</td>\n",
              "      <td>1</td>\n",
              "      <td>0</td>\n",
              "      <td>1</td>\n",
              "      <td>0</td>\n",
              "      <td>0</td>\n",
              "      <td>0</td>\n",
              "      <td>1</td>\n",
              "      <td>0</td>\n",
              "      <td>1</td>\n",
              "      <td>0</td>\n",
              "      <td>0</td>\n",
              "      <td>0</td>\n",
              "      <td>...</td>\n",
              "      <td>0</td>\n",
              "      <td>0</td>\n",
              "      <td>0</td>\n",
              "      <td>1</td>\n",
              "      <td>0</td>\n",
              "      <td>1</td>\n",
              "      <td>0</td>\n",
              "      <td>0</td>\n",
              "      <td>0</td>\n",
              "      <td>1</td>\n",
              "      <td>0</td>\n",
              "      <td>0</td>\n",
              "      <td>0</td>\n",
              "      <td>1</td>\n",
              "      <td>0</td>\n",
              "      <td>0</td>\n",
              "      <td>1</td>\n",
              "      <td>0</td>\n",
              "      <td>1</td>\n",
              "      <td>0</td>\n",
              "      <td>0</td>\n",
              "      <td>0</td>\n",
              "      <td>0</td>\n",
              "      <td>0</td>\n",
              "      <td>0</td>\n",
              "      <td>0</td>\n",
              "      <td>0</td>\n",
              "      <td>0</td>\n",
              "      <td>0</td>\n",
              "      <td>0</td>\n",
              "      <td>0</td>\n",
              "      <td>0</td>\n",
              "      <td>0</td>\n",
              "      <td>0</td>\n",
              "      <td>0</td>\n",
              "      <td>0</td>\n",
              "      <td>1</td>\n",
              "      <td>0</td>\n",
              "      <td>0</td>\n",
              "      <td>0</td>\n",
              "    </tr>\n",
              "    <tr>\n",
              "      <th>3</th>\n",
              "      <td>9</td>\n",
              "      <td>80.62</td>\n",
              "      <td>az</td>\n",
              "      <td>t</td>\n",
              "      <td>n</td>\n",
              "      <td>f</td>\n",
              "      <td>d</td>\n",
              "      <td>x</td>\n",
              "      <td>l</td>\n",
              "      <td>e</td>\n",
              "      <td>0</td>\n",
              "      <td>0</td>\n",
              "      <td>0</td>\n",
              "      <td>0</td>\n",
              "      <td>0</td>\n",
              "      <td>0</td>\n",
              "      <td>0</td>\n",
              "      <td>0</td>\n",
              "      <td>0</td>\n",
              "      <td>0</td>\n",
              "      <td>0</td>\n",
              "      <td>0</td>\n",
              "      <td>0</td>\n",
              "      <td>0</td>\n",
              "      <td>0</td>\n",
              "      <td>0</td>\n",
              "      <td>1</td>\n",
              "      <td>1</td>\n",
              "      <td>1</td>\n",
              "      <td>0</td>\n",
              "      <td>1</td>\n",
              "      <td>0</td>\n",
              "      <td>0</td>\n",
              "      <td>0</td>\n",
              "      <td>1</td>\n",
              "      <td>0</td>\n",
              "      <td>1</td>\n",
              "      <td>0</td>\n",
              "      <td>0</td>\n",
              "      <td>0</td>\n",
              "      <td>...</td>\n",
              "      <td>0</td>\n",
              "      <td>0</td>\n",
              "      <td>0</td>\n",
              "      <td>1</td>\n",
              "      <td>0</td>\n",
              "      <td>1</td>\n",
              "      <td>0</td>\n",
              "      <td>0</td>\n",
              "      <td>0</td>\n",
              "      <td>0</td>\n",
              "      <td>0</td>\n",
              "      <td>0</td>\n",
              "      <td>0</td>\n",
              "      <td>1</td>\n",
              "      <td>0</td>\n",
              "      <td>0</td>\n",
              "      <td>1</td>\n",
              "      <td>0</td>\n",
              "      <td>1</td>\n",
              "      <td>0</td>\n",
              "      <td>0</td>\n",
              "      <td>0</td>\n",
              "      <td>0</td>\n",
              "      <td>0</td>\n",
              "      <td>0</td>\n",
              "      <td>0</td>\n",
              "      <td>0</td>\n",
              "      <td>1</td>\n",
              "      <td>0</td>\n",
              "      <td>0</td>\n",
              "      <td>0</td>\n",
              "      <td>0</td>\n",
              "      <td>0</td>\n",
              "      <td>0</td>\n",
              "      <td>0</td>\n",
              "      <td>0</td>\n",
              "      <td>0</td>\n",
              "      <td>0</td>\n",
              "      <td>0</td>\n",
              "      <td>0</td>\n",
              "    </tr>\n",
              "    <tr>\n",
              "      <th>4</th>\n",
              "      <td>13</td>\n",
              "      <td>78.02</td>\n",
              "      <td>az</td>\n",
              "      <td>v</td>\n",
              "      <td>n</td>\n",
              "      <td>f</td>\n",
              "      <td>d</td>\n",
              "      <td>h</td>\n",
              "      <td>d</td>\n",
              "      <td>n</td>\n",
              "      <td>0</td>\n",
              "      <td>0</td>\n",
              "      <td>0</td>\n",
              "      <td>0</td>\n",
              "      <td>0</td>\n",
              "      <td>0</td>\n",
              "      <td>0</td>\n",
              "      <td>0</td>\n",
              "      <td>0</td>\n",
              "      <td>0</td>\n",
              "      <td>0</td>\n",
              "      <td>0</td>\n",
              "      <td>0</td>\n",
              "      <td>0</td>\n",
              "      <td>0</td>\n",
              "      <td>0</td>\n",
              "      <td>1</td>\n",
              "      <td>1</td>\n",
              "      <td>1</td>\n",
              "      <td>0</td>\n",
              "      <td>1</td>\n",
              "      <td>0</td>\n",
              "      <td>0</td>\n",
              "      <td>0</td>\n",
              "      <td>1</td>\n",
              "      <td>0</td>\n",
              "      <td>1</td>\n",
              "      <td>0</td>\n",
              "      <td>0</td>\n",
              "      <td>0</td>\n",
              "      <td>...</td>\n",
              "      <td>0</td>\n",
              "      <td>0</td>\n",
              "      <td>0</td>\n",
              "      <td>1</td>\n",
              "      <td>0</td>\n",
              "      <td>1</td>\n",
              "      <td>0</td>\n",
              "      <td>0</td>\n",
              "      <td>0</td>\n",
              "      <td>0</td>\n",
              "      <td>0</td>\n",
              "      <td>0</td>\n",
              "      <td>0</td>\n",
              "      <td>1</td>\n",
              "      <td>0</td>\n",
              "      <td>0</td>\n",
              "      <td>1</td>\n",
              "      <td>0</td>\n",
              "      <td>1</td>\n",
              "      <td>0</td>\n",
              "      <td>0</td>\n",
              "      <td>0</td>\n",
              "      <td>0</td>\n",
              "      <td>0</td>\n",
              "      <td>0</td>\n",
              "      <td>0</td>\n",
              "      <td>1</td>\n",
              "      <td>0</td>\n",
              "      <td>0</td>\n",
              "      <td>0</td>\n",
              "      <td>0</td>\n",
              "      <td>0</td>\n",
              "      <td>0</td>\n",
              "      <td>0</td>\n",
              "      <td>0</td>\n",
              "      <td>0</td>\n",
              "      <td>0</td>\n",
              "      <td>0</td>\n",
              "      <td>0</td>\n",
              "      <td>0</td>\n",
              "    </tr>\n",
              "  </tbody>\n",
              "</table>\n",
              "<p>5 rows × 378 columns</p>\n",
              "</div>\n",
              "      <button class=\"colab-df-convert\" onclick=\"convertToInteractive('df-09b98ce1-3554-446a-bcfb-78a5db079893')\"\n",
              "              title=\"Convert this dataframe to an interactive table.\"\n",
              "              style=\"display:none;\">\n",
              "        \n",
              "  <svg xmlns=\"http://www.w3.org/2000/svg\" height=\"24px\"viewBox=\"0 0 24 24\"\n",
              "       width=\"24px\">\n",
              "    <path d=\"M0 0h24v24H0V0z\" fill=\"none\"/>\n",
              "    <path d=\"M18.56 5.44l.94 2.06.94-2.06 2.06-.94-2.06-.94-.94-2.06-.94 2.06-2.06.94zm-11 1L8.5 8.5l.94-2.06 2.06-.94-2.06-.94L8.5 2.5l-.94 2.06-2.06.94zm10 10l.94 2.06.94-2.06 2.06-.94-2.06-.94-.94-2.06-.94 2.06-2.06.94z\"/><path d=\"M17.41 7.96l-1.37-1.37c-.4-.4-.92-.59-1.43-.59-.52 0-1.04.2-1.43.59L10.3 9.45l-7.72 7.72c-.78.78-.78 2.05 0 2.83L4 21.41c.39.39.9.59 1.41.59.51 0 1.02-.2 1.41-.59l7.78-7.78 2.81-2.81c.8-.78.8-2.07 0-2.86zM5.41 20L4 18.59l7.72-7.72 1.47 1.35L5.41 20z\"/>\n",
              "  </svg>\n",
              "      </button>\n",
              "      \n",
              "  <style>\n",
              "    .colab-df-container {\n",
              "      display:flex;\n",
              "      flex-wrap:wrap;\n",
              "      gap: 12px;\n",
              "    }\n",
              "\n",
              "    .colab-df-convert {\n",
              "      background-color: #E8F0FE;\n",
              "      border: none;\n",
              "      border-radius: 50%;\n",
              "      cursor: pointer;\n",
              "      display: none;\n",
              "      fill: #1967D2;\n",
              "      height: 32px;\n",
              "      padding: 0 0 0 0;\n",
              "      width: 32px;\n",
              "    }\n",
              "\n",
              "    .colab-df-convert:hover {\n",
              "      background-color: #E2EBFA;\n",
              "      box-shadow: 0px 1px 2px rgba(60, 64, 67, 0.3), 0px 1px 3px 1px rgba(60, 64, 67, 0.15);\n",
              "      fill: #174EA6;\n",
              "    }\n",
              "\n",
              "    [theme=dark] .colab-df-convert {\n",
              "      background-color: #3B4455;\n",
              "      fill: #D2E3FC;\n",
              "    }\n",
              "\n",
              "    [theme=dark] .colab-df-convert:hover {\n",
              "      background-color: #434B5C;\n",
              "      box-shadow: 0px 1px 3px 1px rgba(0, 0, 0, 0.15);\n",
              "      filter: drop-shadow(0px 1px 2px rgba(0, 0, 0, 0.3));\n",
              "      fill: #FFFFFF;\n",
              "    }\n",
              "  </style>\n",
              "\n",
              "      <script>\n",
              "        const buttonEl =\n",
              "          document.querySelector('#df-09b98ce1-3554-446a-bcfb-78a5db079893 button.colab-df-convert');\n",
              "        buttonEl.style.display =\n",
              "          google.colab.kernel.accessAllowed ? 'block' : 'none';\n",
              "\n",
              "        async function convertToInteractive(key) {\n",
              "          const element = document.querySelector('#df-09b98ce1-3554-446a-bcfb-78a5db079893');\n",
              "          const dataTable =\n",
              "            await google.colab.kernel.invokeFunction('convertToInteractive',\n",
              "                                                     [key], {});\n",
              "          if (!dataTable) return;\n",
              "\n",
              "          const docLinkHtml = 'Like what you see? Visit the ' +\n",
              "            '<a target=\"_blank\" href=https://colab.research.google.com/notebooks/data_table.ipynb>data table notebook</a>'\n",
              "            + ' to learn more about interactive tables.';\n",
              "          element.innerHTML = '';\n",
              "          dataTable['output_type'] = 'display_data';\n",
              "          await google.colab.output.renderOutput(dataTable, element);\n",
              "          const docLink = document.createElement('div');\n",
              "          docLink.innerHTML = docLinkHtml;\n",
              "          element.appendChild(docLink);\n",
              "        }\n",
              "      </script>\n",
              "    </div>\n",
              "  </div>\n",
              "  "
            ]
          },
          "metadata": {},
          "execution_count": 14
        }
      ]
    },
    {
      "cell_type": "code",
      "source": [
        "import seaborn as sns"
      ],
      "metadata": {
        "id": "YrD23_XbnfaK"
      },
      "execution_count": 15,
      "outputs": []
    },
    {
      "cell_type": "code",
      "source": [
        "sns.distplot(df1['y'])"
      ],
      "metadata": {
        "colab": {
          "base_uri": "https://localhost:8080/",
          "height": 351
        },
        "id": "QW3IozLWnjKh",
        "outputId": "f0148a97-9209-41ea-ca1f-197bc82c4578"
      },
      "execution_count": 16,
      "outputs": [
        {
          "output_type": "stream",
          "name": "stderr",
          "text": [
            "/usr/local/lib/python3.7/dist-packages/seaborn/distributions.py:2619: FutureWarning: `distplot` is a deprecated function and will be removed in a future version. Please adapt your code to use either `displot` (a figure-level function with similar flexibility) or `histplot` (an axes-level function for histograms).\n",
            "  warnings.warn(msg, FutureWarning)\n"
          ]
        },
        {
          "output_type": "execute_result",
          "data": {
            "text/plain": [
              "<matplotlib.axes._subplots.AxesSubplot at 0x7f69541497d0>"
            ]
          },
          "metadata": {},
          "execution_count": 16
        },
        {
          "output_type": "display_data",
          "data": {
            "text/plain": [
              "<Figure size 432x288 with 1 Axes>"
            ],
            "image/png": "[encoded data removed]"
          },
          "metadata": {
            "needs_background": "light"
          }
        }
      ]
    },
    {
      "cell_type": "code",
      "source": [
        "active_imports()"
      ],
      "metadata": {
        "colab": {
          "base_uri": "https://localhost:8080/"
        },
        "id": "ReMwZi9wnox8",
        "outputId": "36af2a94-03af-40b7-ee27-4d5f35d6dcf7"
      },
      "execution_count": 17,
      "outputs": [
        {
          "output_type": "stream",
          "name": "stdout",
          "text": [
            "from openpyxl import load_workbook\n",
            "import pydot\n",
            "from sklearn import svm\n",
            "import plotly as py\n",
            "import pandas as pd\n",
            "from scipy import signal as sg\n",
            "import bokeh\n",
            "import spacy\n",
            "import plotly.express as px\n",
            "from sklearn.feature_extraction.text import CountVectorizer\n",
            "import pickle\n",
            "import statsmodels.api as sm\n",
            "import sklearn\n",
            "import altair as alt\n",
            "from sklearn.model_selection import cross_val_score\n",
            "import statistics\n",
            "import cv2\n",
            "import sys\n",
            "import skimage\n",
            "from statsmodels.tsa.arima_model import ARIMA\n",
            "import nltk\n",
            "import numpy as np\n",
            "import lightgbm as lgb\n",
            "from scipy import stats\n",
            "import imutils\n",
            "import matplotlib.pyplot as plt\n"
          ]
        },
        {
          "output_type": "execute_result",
          "data": {
            "text/plain": [
              "['from openpyxl import load_workbook',\n",
              " 'import pydot',\n",
              " 'from sklearn import svm',\n",
              " 'import plotly as py',\n",
              " 'import pandas as pd',\n",
              " 'from scipy import signal as sg',\n",
              " 'import bokeh',\n",
              " 'import spacy',\n",
              " 'import plotly.express as px',\n",
              " 'from sklearn.feature_extraction.text import CountVectorizer',\n",
              " 'import pickle',\n",
              " 'import statsmodels.api as sm',\n",
              " 'import sklearn',\n",
              " 'import altair as alt',\n",
              " 'from sklearn.model_selection import cross_val_score',\n",
              " 'import statistics',\n",
              " 'import cv2',\n",
              " 'import sys',\n",
              " 'import skimage',\n",
              " 'from statsmodels.tsa.arima_model import ARIMA',\n",
              " 'import nltk',\n",
              " 'import numpy as np',\n",
              " 'import lightgbm as lgb',\n",
              " 'from scipy import stats',\n",
              " 'import imutils',\n",
              " 'import matplotlib.pyplot as plt']"
            ]
          },
          "metadata": {},
          "execution_count": 17
        }
      ]
    },
    {
      "cell_type": "code",
      "source": [
        ""
      ],
      "metadata": {
        "id": "DQT_JvEtn32y"
      },
      "execution_count": null,
      "outputs": []
    }
  ]
}