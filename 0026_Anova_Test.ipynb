{
  "nbformat": 4,
  "nbformat_minor": 0,
  "metadata": {
    "colab": {
      "name": "0026.Anova Test.ipynb",
      "provenance": []
    },
    "kernelspec": {
      "name": "python3",
      "display_name": "Python 3"
    },
    "language_info": {
      "name": "python"
    }
  },
  "cells": [
    {
      "cell_type": "markdown",
      "source": [
        "**Anova Test (F-Test)**\n",
        "\n",
        "The T-Test works well when dealing with two groups, but sometimes we want to compare more that two groups at the same time.\n",
        "\n",
        "For example, if we wanted to test whether **petal_width** ages differs based on some categorical variable like species, we have to compare the means of each level of each level of group the variable.\n",
        "\n",
        "**One Way F-test (Anova)\n",
        "\n",
        "It tell whether two or more groups are similar, or not based on their mean similarity and f-score.\n",
        "\n",
        "Example: There are 3 different category of iris flowers and their petal width and need to check whether all 3 groups are similar or not."
      ],
      "metadata": {
        "id": "HkvRNUSWhw-u"
      }
    },
    {
      "cell_type": "code",
      "execution_count": 2,
      "metadata": {
        "id": "APwCgPRqhbex"
      },
      "outputs": [],
      "source": [
        "import seaborn as sns\n",
        "df1 = sns.load_dataset(\"iris\")"
      ]
    },
    {
      "cell_type": "code",
      "source": [
        "df1.head()"
      ],
      "metadata": {
        "colab": {
          "base_uri": "https://localhost:8080/",
          "height": 206
        },
        "id": "wjUKOYxEkNSD",
        "outputId": "427a0b38-9686-4108-acc0-c00d9a71e5dd"
      },
      "execution_count": 3,
      "outputs": [
        {
          "output_type": "execute_result",
          "data": {
            "text/plain": [
              "   sepal_length  sepal_width  petal_length  petal_width species\n",
              "0           5.1          3.5           1.4          0.2  setosa\n",
              "1           4.9          3.0           1.4          0.2  setosa\n",
              "2           4.7          3.2           1.3          0.2  setosa\n",
              "3           4.6          3.1           1.5          0.2  setosa\n",
              "4           5.0          3.6           1.4          0.2  setosa"
            ],
            "text/html": [
              "\n",
              "  <div id=\"df-6a4e2daa-4eae-46de-a700-6c2c6fb93945\">\n",
              "    <div class=\"colab-df-container\">\n",
              "      <div>\n",
              "<style scoped>\n",
              "    .dataframe tbody tr th:only-of-type {\n",
              "        vertical-align: middle;\n",
              "    }\n",
              "\n",
              "    .dataframe tbody tr th {\n",
              "        vertical-align: top;\n",
              "    }\n",
              "\n",
              "    .dataframe thead th {\n",
              "        text-align: right;\n",
              "    }\n",
              "</style>\n",
              "<table border=\"1\" class=\"dataframe\">\n",
              "  <thead>\n",
              "    <tr style=\"text-align: right;\">\n",
              "      <th></th>\n",
              "      <th>sepal_length</th>\n",
              "      <th>sepal_width</th>\n",
              "      <th>petal_length</th>\n",
              "      <th>petal_width</th>\n",
              "      <th>species</th>\n",
              "    </tr>\n",
              "  </thead>\n",
              "  <tbody>\n",
              "    <tr>\n",
              "      <th>0</th>\n",
              "      <td>5.1</td>\n",
              "      <td>3.5</td>\n",
              "      <td>1.4</td>\n",
              "      <td>0.2</td>\n",
              "      <td>setosa</td>\n",
              "    </tr>\n",
              "    <tr>\n",
              "      <th>1</th>\n",
              "      <td>4.9</td>\n",
              "      <td>3.0</td>\n",
              "      <td>1.4</td>\n",
              "      <td>0.2</td>\n",
              "      <td>setosa</td>\n",
              "    </tr>\n",
              "    <tr>\n",
              "      <th>2</th>\n",
              "      <td>4.7</td>\n",
              "      <td>3.2</td>\n",
              "      <td>1.3</td>\n",
              "      <td>0.2</td>\n",
              "      <td>setosa</td>\n",
              "    </tr>\n",
              "    <tr>\n",
              "      <th>3</th>\n",
              "      <td>4.6</td>\n",
              "      <td>3.1</td>\n",
              "      <td>1.5</td>\n",
              "      <td>0.2</td>\n",
              "      <td>setosa</td>\n",
              "    </tr>\n",
              "    <tr>\n",
              "      <th>4</th>\n",
              "      <td>5.0</td>\n",
              "      <td>3.6</td>\n",
              "      <td>1.4</td>\n",
              "      <td>0.2</td>\n",
              "      <td>setosa</td>\n",
              "    </tr>\n",
              "  </tbody>\n",
              "</table>\n",
              "</div>\n",
              "      <button class=\"colab-df-convert\" onclick=\"convertToInteractive('df-6a4e2daa-4eae-46de-a700-6c2c6fb93945')\"\n",
              "              title=\"Convert this dataframe to an interactive table.\"\n",
              "              style=\"display:none;\">\n",
              "        \n",
              "  <svg xmlns=\"http://www.w3.org/2000/svg\" height=\"24px\"viewBox=\"0 0 24 24\"\n",
              "       width=\"24px\">\n",
              "    <path d=\"M0 0h24v24H0V0z\" fill=\"none\"/>\n",
              "    <path d=\"M18.56 5.44l.94 2.06.94-2.06 2.06-.94-2.06-.94-.94-2.06-.94 2.06-2.06.94zm-11 1L8.5 8.5l.94-2.06 2.06-.94-2.06-.94L8.5 2.5l-.94 2.06-2.06.94zm10 10l.94 2.06.94-2.06 2.06-.94-2.06-.94-.94-2.06-.94 2.06-2.06.94z\"/><path d=\"M17.41 7.96l-1.37-1.37c-.4-.4-.92-.59-1.43-.59-.52 0-1.04.2-1.43.59L10.3 9.45l-7.72 7.72c-.78.78-.78 2.05 0 2.83L4 21.41c.39.39.9.59 1.41.59.51 0 1.02-.2 1.41-.59l7.78-7.78 2.81-2.81c.8-.78.8-2.07 0-2.86zM5.41 20L4 18.59l7.72-7.72 1.47 1.35L5.41 20z\"/>\n",
              "  </svg>\n",
              "      </button>\n",
              "      \n",
              "  <style>\n",
              "    .colab-df-container {\n",
              "      display:flex;\n",
              "      flex-wrap:wrap;\n",
              "      gap: 12px;\n",
              "    }\n",
              "\n",
              "    .colab-df-convert {\n",
              "      background-color: #E8F0FE;\n",
              "      border: none;\n",
              "      border-radius: 50%;\n",
              "      cursor: pointer;\n",
              "      display: none;\n",
              "      fill: #1967D2;\n",
              "      height: 32px;\n",
              "      padding: 0 0 0 0;\n",
              "      width: 32px;\n",
              "    }\n",
              "\n",
              "    .colab-df-convert:hover {\n",
              "      background-color: #E2EBFA;\n",
              "      box-shadow: 0px 1px 2px rgba(60, 64, 67, 0.3), 0px 1px 3px 1px rgba(60, 64, 67, 0.15);\n",
              "      fill: #174EA6;\n",
              "    }\n",
              "\n",
              "    [theme=dark] .colab-df-convert {\n",
              "      background-color: #3B4455;\n",
              "      fill: #D2E3FC;\n",
              "    }\n",
              "\n",
              "    [theme=dark] .colab-df-convert:hover {\n",
              "      background-color: #434B5C;\n",
              "      box-shadow: 0px 1px 3px 1px rgba(0, 0, 0, 0.15);\n",
              "      filter: drop-shadow(0px 1px 2px rgba(0, 0, 0, 0.3));\n",
              "      fill: #FFFFFF;\n",
              "    }\n",
              "  </style>\n",
              "\n",
              "      <script>\n",
              "        const buttonEl =\n",
              "          document.querySelector('#df-6a4e2daa-4eae-46de-a700-6c2c6fb93945 button.colab-df-convert');\n",
              "        buttonEl.style.display =\n",
              "          google.colab.kernel.accessAllowed ? 'block' : 'none';\n",
              "\n",
              "        async function convertToInteractive(key) {\n",
              "          const element = document.querySelector('#df-6a4e2daa-4eae-46de-a700-6c2c6fb93945');\n",
              "          const dataTable =\n",
              "            await google.colab.kernel.invokeFunction('convertToInteractive',\n",
              "                                                     [key], {});\n",
              "          if (!dataTable) return;\n",
              "\n",
              "          const docLinkHtml = 'Like what you see? Visit the ' +\n",
              "            '<a target=\"_blank\" href=https://colab.research.google.com/notebooks/data_table.ipynb>data table notebook</a>'\n",
              "            + ' to learn more about interactive tables.';\n",
              "          element.innerHTML = '';\n",
              "          dataTable['output_type'] = 'display_data';\n",
              "          await google.colab.output.renderOutput(dataTable, element);\n",
              "          const docLink = document.createElement('div');\n",
              "          docLink.innerHTML = docLinkHtml;\n",
              "          element.appendChild(docLink);\n",
              "        }\n",
              "      </script>\n",
              "    </div>\n",
              "  </div>\n",
              "  "
            ]
          },
          "metadata": {},
          "execution_count": 3
        }
      ]
    },
    {
      "cell_type": "code",
      "source": [
        "df_anova = df1[['petal_width', 'species']]"
      ],
      "metadata": {
        "id": "khxGCBj9kcaZ"
      },
      "execution_count": 4,
      "outputs": []
    },
    {
      "cell_type": "code",
      "source": [
        "import pandas as pd\n",
        "grps = pd.unique(df_anova.species.values)"
      ],
      "metadata": {
        "id": "Bg93QBN2kolp"
      },
      "execution_count": 7,
      "outputs": []
    },
    {
      "cell_type": "code",
      "source": [
        "grps"
      ],
      "metadata": {
        "colab": {
          "base_uri": "https://localhost:8080/"
        },
        "id": "sd8vIlmAk5p8",
        "outputId": "ef271cde-24d6-4332-cf7a-98a78a3f375b"
      },
      "execution_count": 8,
      "outputs": [
        {
          "output_type": "execute_result",
          "data": {
            "text/plain": [
              "array(['setosa', 'versicolor', 'virginica'], dtype=object)"
            ]
          },
          "metadata": {},
          "execution_count": 8
        }
      ]
    },
    {
      "cell_type": "code",
      "source": [
        "from numpy import datetime_data\n",
        "d_data = {grp:df_anova['petal_width'][df_anova.species == grp] for grp in grps}"
      ],
      "metadata": {
        "id": "27dTuYR8lKuX"
      },
      "execution_count": 10,
      "outputs": []
    },
    {
      "cell_type": "code",
      "source": [
        "d_data"
      ],
      "metadata": {
        "colab": {
          "base_uri": "https://localhost:8080/"
        },
        "id": "g2B-ubdulsFB",
        "outputId": "4c75f168-635b-4e44-f140-28b550327b69"
      },
      "execution_count": 11,
      "outputs": [
        {
          "output_type": "execute_result",
          "data": {
            "text/plain": [
              "{'setosa': 0     0.2\n",
              " 1     0.2\n",
              " 2     0.2\n",
              " 3     0.2\n",
              " 4     0.2\n",
              " 5     0.4\n",
              " 6     0.3\n",
              " 7     0.2\n",
              " 8     0.2\n",
              " 9     0.1\n",
              " 10    0.2\n",
              " 11    0.2\n",
              " 12    0.1\n",
              " 13    0.1\n",
              " 14    0.2\n",
              " 15    0.4\n",
              " 16    0.4\n",
              " 17    0.3\n",
              " 18    0.3\n",
              " 19    0.3\n",
              " 20    0.2\n",
              " 21    0.4\n",
              " 22    0.2\n",
              " 23    0.5\n",
              " 24    0.2\n",
              " 25    0.2\n",
              " 26    0.4\n",
              " 27    0.2\n",
              " 28    0.2\n",
              " 29    0.2\n",
              " 30    0.2\n",
              " 31    0.4\n",
              " 32    0.1\n",
              " 33    0.2\n",
              " 34    0.2\n",
              " 35    0.2\n",
              " 36    0.2\n",
              " 37    0.1\n",
              " 38    0.2\n",
              " 39    0.2\n",
              " 40    0.3\n",
              " 41    0.3\n",
              " 42    0.2\n",
              " 43    0.6\n",
              " 44    0.4\n",
              " 45    0.3\n",
              " 46    0.2\n",
              " 47    0.2\n",
              " 48    0.2\n",
              " 49    0.2\n",
              " Name: petal_width, dtype: float64, 'versicolor': 50    1.4\n",
              " 51    1.5\n",
              " 52    1.5\n",
              " 53    1.3\n",
              " 54    1.5\n",
              " 55    1.3\n",
              " 56    1.6\n",
              " 57    1.0\n",
              " 58    1.3\n",
              " 59    1.4\n",
              " 60    1.0\n",
              " 61    1.5\n",
              " 62    1.0\n",
              " 63    1.4\n",
              " 64    1.3\n",
              " 65    1.4\n",
              " 66    1.5\n",
              " 67    1.0\n",
              " 68    1.5\n",
              " 69    1.1\n",
              " 70    1.8\n",
              " 71    1.3\n",
              " 72    1.5\n",
              " 73    1.2\n",
              " 74    1.3\n",
              " 75    1.4\n",
              " 76    1.4\n",
              " 77    1.7\n",
              " 78    1.5\n",
              " 79    1.0\n",
              " 80    1.1\n",
              " 81    1.0\n",
              " 82    1.2\n",
              " 83    1.6\n",
              " 84    1.5\n",
              " 85    1.6\n",
              " 86    1.5\n",
              " 87    1.3\n",
              " 88    1.3\n",
              " 89    1.3\n",
              " 90    1.2\n",
              " 91    1.4\n",
              " 92    1.2\n",
              " 93    1.0\n",
              " 94    1.3\n",
              " 95    1.2\n",
              " 96    1.3\n",
              " 97    1.3\n",
              " 98    1.1\n",
              " 99    1.3\n",
              " Name: petal_width, dtype: float64, 'virginica': 100    2.5\n",
              " 101    1.9\n",
              " 102    2.1\n",
              " 103    1.8\n",
              " 104    2.2\n",
              " 105    2.1\n",
              " 106    1.7\n",
              " 107    1.8\n",
              " 108    1.8\n",
              " 109    2.5\n",
              " 110    2.0\n",
              " 111    1.9\n",
              " 112    2.1\n",
              " 113    2.0\n",
              " 114    2.4\n",
              " 115    2.3\n",
              " 116    1.8\n",
              " 117    2.2\n",
              " 118    2.3\n",
              " 119    1.5\n",
              " 120    2.3\n",
              " 121    2.0\n",
              " 122    2.0\n",
              " 123    1.8\n",
              " 124    2.1\n",
              " 125    1.8\n",
              " 126    1.8\n",
              " 127    1.8\n",
              " 128    2.1\n",
              " 129    1.6\n",
              " 130    1.9\n",
              " 131    2.0\n",
              " 132    2.2\n",
              " 133    1.5\n",
              " 134    1.4\n",
              " 135    2.3\n",
              " 136    2.4\n",
              " 137    1.8\n",
              " 138    1.8\n",
              " 139    2.1\n",
              " 140    2.4\n",
              " 141    2.3\n",
              " 142    1.9\n",
              " 143    2.3\n",
              " 144    2.5\n",
              " 145    2.3\n",
              " 146    1.9\n",
              " 147    2.0\n",
              " 148    2.3\n",
              " 149    1.8\n",
              " Name: petal_width, dtype: float64}"
            ]
          },
          "metadata": {},
          "execution_count": 11
        }
      ]
    },
    {
      "cell_type": "code",
      "source": [
        "from scipy.stats import stats\n",
        "F, p = stats.f_oneway(d_data['setosa'], d_data['versicolor'], d_data['virginica'])"
      ],
      "metadata": {
        "id": "daBSFzRnmK0i"
      },
      "execution_count": 16,
      "outputs": []
    },
    {
      "cell_type": "code",
      "source": [
        "print(p)"
      ],
      "metadata": {
        "colab": {
          "base_uri": "https://localhost:8080/"
        },
        "id": "XCZX1LCRmkZ1",
        "outputId": "8b61fc39-f5a0-435a-a1b9-6ca3e781e884"
      },
      "execution_count": 17,
      "outputs": [
        {
          "output_type": "stream",
          "name": "stdout",
          "text": [
            "4.169445839443116e-85\n"
          ]
        }
      ]
    },
    {
      "cell_type": "code",
      "source": [
        "if p < 0.05:\n",
        "  print(\"Reject null hypothesis\")\n",
        "else:\n",
        "  print(\"Accept null hypothesis\")"
      ],
      "metadata": {
        "colab": {
          "base_uri": "https://localhost:8080/"
        },
        "id": "d_CIuL75n9c7",
        "outputId": "7fbde6a0-8e1d-4aee-e7e2-a47c8fba3f7b"
      },
      "execution_count": 18,
      "outputs": [
        {
          "output_type": "stream",
          "name": "stdout",
          "text": [
            "Reject null hypothesis\n"
          ]
        }
      ]
    },
    {
      "cell_type": "code",
      "source": [
        ""
      ],
      "metadata": {
        "id": "HCqzONMwoMEy"
      },
      "execution_count": null,
      "outputs": []
    }
  ]
}