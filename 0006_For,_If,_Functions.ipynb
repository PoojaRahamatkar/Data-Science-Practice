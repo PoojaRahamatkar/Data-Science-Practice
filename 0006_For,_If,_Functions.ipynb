{
  "nbformat": 4,
  "nbformat_minor": 0,
  "metadata": {
    "colab": {
      "name": "0006.For, If, Functions.ipynb",
      "provenance": []
    },
    "kernelspec": {
      "name": "python3",
      "display_name": "Python 3"
    },
    "language_info": {
      "name": "python"
    }
  },
  "cells": [
    {
      "cell_type": "markdown",
      "source": [
        "**For, If, Functions**\n",
        "\n",
        "Functions in Python. A Function is a set of statements that take inputs, do some specific computation and produces output. These functions are called user defined function."
      ],
      "metadata": {
        "id": "rQJmlCFm-PRt"
      }
    },
    {
      "cell_type": "code",
      "source": [
        "## If conditions and for loops\n",
        "lst = [1,2,3,4,5,6,7,8,9,10,11,12,13,14,15]\n",
        "\n",
        "even_sum=0\n",
        "odd_sum=0\n",
        "for i in lst:\n",
        "  if i%2 == 0:\n",
        "    even_sum = even_sum + i\n",
        "  else:\n",
        "    odd_sum = odd_sum + i\n",
        "print(even_sum, odd_sum)"
      ],
      "metadata": {
        "colab": {
          "base_uri": "https://localhost:8080/"
        },
        "id": "ccvpGLSE_DG7",
        "outputId": "35a16110-0a96-465e-d11a-c3fdacb79894"
      },
      "execution_count": 10,
      "outputs": [
        {
          "output_type": "stream",
          "name": "stdout",
          "text": [
            "56 64\n"
          ]
        }
      ]
    },
    {
      "cell_type": "code",
      "source": [
        "'''\n",
        "Syntax\n",
        "def funcname(parameter1, parameter2,.....):\n",
        "    function body\n",
        "''' "
      ],
      "metadata": {
        "colab": {
          "base_uri": "https://localhost:8080/",
          "height": 35
        },
        "id": "fM23Iy2EAvPW",
        "outputId": "a35cc2ad-a3cd-403d-d133-83d94c5aba3d"
      },
      "execution_count": 11,
      "outputs": [
        {
          "output_type": "execute_result",
          "data": {
            "text/plain": [
              "'\\nSyntax\\ndef funcname(parameter1, parameter2,.....):\\n    function body\\n'"
            ],
            "application/vnd.google.colaboratory.intrinsic+json": {
              "type": "string"
            }
          },
          "metadata": {},
          "execution_count": 11
        }
      ]
    },
    {
      "cell_type": "code",
      "source": [
        "def add(num1, num2):\n",
        "  return num1 + num2"
      ],
      "metadata": {
        "id": "c6XranMQC8_1"
      },
      "execution_count": 12,
      "outputs": []
    },
    {
      "cell_type": "code",
      "source": [
        "add(2,4)"
      ],
      "metadata": {
        "colab": {
          "base_uri": "https://localhost:8080/"
        },
        "id": "i79zUllGDMF7",
        "outputId": "9d13337f-f643-4b12-9c58-9ddd7b2524b7"
      },
      "execution_count": 13,
      "outputs": [
        {
          "output_type": "execute_result",
          "data": {
            "text/plain": [
              "6"
            ]
          },
          "metadata": {},
          "execution_count": 13
        }
      ]
    },
    {
      "cell_type": "code",
      "source": [
        "def add_list(lst):\n",
        "  sum1 = 0\n",
        "  for i in lst:\n",
        "    print(i)\n",
        "    sum1=sum1+int(i)\n",
        "  return sum1"
      ],
      "metadata": {
        "id": "wTfRhupRBnPx"
      },
      "execution_count": 14,
      "outputs": []
    },
    {
      "cell_type": "code",
      "source": [
        "add_list([1,2,3,4,5,6])"
      ],
      "metadata": {
        "colab": {
          "base_uri": "https://localhost:8080/"
        },
        "id": "JZH6W3q5CK0B",
        "outputId": "eb6c5280-72ab-42d9-9b99-3cf8b23bdac2"
      },
      "execution_count": 15,
      "outputs": [
        {
          "output_type": "stream",
          "name": "stdout",
          "text": [
            "1\n",
            "2\n",
            "3\n",
            "4\n",
            "5\n",
            "6\n"
          ]
        },
        {
          "output_type": "execute_result",
          "data": {
            "text/plain": [
              "21"
            ]
          },
          "metadata": {},
          "execution_count": 15
        }
      ]
    },
    {
      "cell_type": "code",
      "source": [
        "input_num = list(input(\"Enter the list\"))"
      ],
      "metadata": {
        "colab": {
          "base_uri": "https://localhost:8080/"
        },
        "id": "QKcKIQ7FCPg8",
        "outputId": "d1bad777-e00d-4687-f930-af0b2c852338"
      },
      "execution_count": 16,
      "outputs": [
        {
          "name": "stdout",
          "output_type": "stream",
          "text": [
            "Enter the list1234567\n"
          ]
        }
      ]
    },
    {
      "cell_type": "code",
      "source": [
        "input_num"
      ],
      "metadata": {
        "colab": {
          "base_uri": "https://localhost:8080/"
        },
        "id": "U2H3WtAVCXCr",
        "outputId": "b47b247b-0ffb-46fa-b3ac-b4bd627b0da2"
      },
      "execution_count": 17,
      "outputs": [
        {
          "output_type": "execute_result",
          "data": {
            "text/plain": [
              "['1', '2', '3', '4', '5', '6', '7']"
            ]
          },
          "metadata": {},
          "execution_count": 17
        }
      ]
    },
    {
      "cell_type": "code",
      "source": [
        "add_list(input_num)"
      ],
      "metadata": {
        "colab": {
          "base_uri": "https://localhost:8080/"
        },
        "id": "IkMbs0h1CmoQ",
        "outputId": "bb1f3bb2-db19-4bc6-e833-bd233e0fd8b5"
      },
      "execution_count": 18,
      "outputs": [
        {
          "output_type": "stream",
          "name": "stdout",
          "text": [
            "1\n",
            "2\n",
            "3\n",
            "4\n",
            "5\n",
            "6\n",
            "7\n"
          ]
        },
        {
          "output_type": "execute_result",
          "data": {
            "text/plain": [
              "28"
            ]
          },
          "metadata": {},
          "execution_count": 18
        }
      ]
    },
    {
      "cell_type": "markdown",
      "source": [
        "**Functions in Python**\n",
        "\n",
        "* Why Function\n",
        "* Function Defination\n",
        "* Positional And Keyword Arguments in Functions"
      ],
      "metadata": {
        "id": "y8S1QsG2De5b"
      }
    },
    {
      "cell_type": "code",
      "source": [
        "## Positional Argument\n",
        "# Keyword Argument\n",
        "\n",
        "def hello(name, age=21):\n",
        "  print(\"My name is {} and age is {}\".format(name,age))"
      ],
      "metadata": {
        "id": "o25IWQPhCzm0"
      },
      "execution_count": 22,
      "outputs": []
    },
    {
      "cell_type": "code",
      "source": [
        "hello()"
      ],
      "metadata": {
        "colab": {
          "base_uri": "https://localhost:8080/",
          "height": 165
        },
        "id": "chuQ4WxrEOt3",
        "outputId": "e320ff3c-c505-4610-8b82-b35fd8babc32"
      },
      "execution_count": 23,
      "outputs": [
        {
          "output_type": "error",
          "ename": "TypeError",
          "evalue": "ignored",
          "traceback": [
            "\u001b[0;31m---------------------------------------------------------------------------\u001b[0m",
            "\u001b[0;31mTypeError\u001b[0m                                 Traceback (most recent call last)",
            "\u001b[0;32m<ipython-input-23-a75d7781aaeb>\u001b[0m in \u001b[0;36m<module>\u001b[0;34m()\u001b[0m\n\u001b[0;32m----> 1\u001b[0;31m \u001b[0mhello\u001b[0m\u001b[0;34m(\u001b[0m\u001b[0;34m)\u001b[0m\u001b[0;34m\u001b[0m\u001b[0;34m\u001b[0m\u001b[0m\n\u001b[0m",
            "\u001b[0;31mTypeError\u001b[0m: hello() missing 1 required positional argument: 'name'"
          ]
        }
      ]
    },
    {
      "cell_type": "code",
      "source": [
        "hello(\"Pooja\")"
      ],
      "metadata": {
        "colab": {
          "base_uri": "https://localhost:8080/"
        },
        "id": "Wp04192MEQya",
        "outputId": "1e1e3c88-8f93-45bc-cb53-99ca3ffdf9a6"
      },
      "execution_count": 24,
      "outputs": [
        {
          "output_type": "stream",
          "name": "stdout",
          "text": [
            "My name is Pooja and age is 21\n"
          ]
        }
      ]
    },
    {
      "cell_type": "code",
      "source": [
        "hello('Pooja', 22)"
      ],
      "metadata": {
        "colab": {
          "base_uri": "https://localhost:8080/"
        },
        "id": "h6ACjV59EVqS",
        "outputId": "708d4b00-8311-4991-c4c0-3093b34c8f15"
      },
      "execution_count": 25,
      "outputs": [
        {
          "output_type": "stream",
          "name": "stdout",
          "text": [
            "My name is Pooja and age is 22\n"
          ]
        }
      ]
    },
    {
      "cell_type": "code",
      "source": [
        "def hello(*args, **kwargs):\n",
        "  print(args)\n",
        "  print(kwargs)"
      ],
      "metadata": {
        "id": "ndkMU6SDEndi"
      },
      "execution_count": 26,
      "outputs": []
    },
    {
      "cell_type": "code",
      "source": [
        "hello(\"Pooja\", \"Rahamatkar\", age=21, dob=2001)"
      ],
      "metadata": {
        "colab": {
          "base_uri": "https://localhost:8080/"
        },
        "id": "Hpb8EaerE6W9",
        "outputId": "3196b192-3f1c-4b01-8a9b-72ab0d2ff63f"
      },
      "execution_count": 27,
      "outputs": [
        {
          "output_type": "stream",
          "name": "stdout",
          "text": [
            "('Pooja', 'Rahamatkar')\n",
            "{'age': 21, 'dob': 2001}\n"
          ]
        }
      ]
    },
    {
      "cell_type": "code",
      "source": [
        "lst= [\"Pooja\", \"Rahamatkar\"]\n",
        "dict_args= {'age': 21, 'dob': 2000}"
      ],
      "metadata": {
        "id": "2GcPdSSlFabQ"
      },
      "execution_count": 29,
      "outputs": []
    },
    {
      "cell_type": "code",
      "source": [
        "hello(lst, dict_args)"
      ],
      "metadata": {
        "colab": {
          "base_uri": "https://localhost:8080/"
        },
        "id": "3Nb9TtUdFrn3",
        "outputId": "129e6491-ff53-47ac-e646-1107e3653b45"
      },
      "execution_count": 30,
      "outputs": [
        {
          "output_type": "stream",
          "name": "stdout",
          "text": [
            "(['Pooja', 'Rahamatkar'], {'age': 21, 'dob': 2000})\n",
            "{}\n"
          ]
        }
      ]
    },
    {
      "cell_type": "code",
      "source": [
        "## See the Difference here and above statement the way of execution\n",
        "\n",
        "hello(*lst, **dict_args)"
      ],
      "metadata": {
        "colab": {
          "base_uri": "https://localhost:8080/"
        },
        "id": "0cH8foAvGWtC",
        "outputId": "88595a36-23a0-4d9c-a815-a0d3e64d321a"
      },
      "execution_count": 32,
      "outputs": [
        {
          "output_type": "stream",
          "name": "stdout",
          "text": [
            "('Pooja', 'Rahamatkar')\n",
            "{'age': 21, 'dob': 2000}\n"
          ]
        }
      ]
    },
    {
      "cell_type": "code",
      "source": [
        ""
      ],
      "metadata": {
        "id": "Ff_aAbzIGyu2"
      },
      "execution_count": null,
      "outputs": []
    }
  ]
}