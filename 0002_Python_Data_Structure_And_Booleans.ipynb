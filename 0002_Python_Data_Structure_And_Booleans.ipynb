{
  "nbformat": 4,
  "nbformat_minor": 0,
  "metadata": {
    "colab": {
      "name": "0002 Python Data Structure And Booleans.ipynb",
      "provenance": [],
      "collapsed_sections": []
    },
    "kernelspec": {
      "name": "python3",
      "display_name": "Python 3"
    },
    "language_info": {
      "name": "python"
    }
  },
  "cells": [
    {
      "cell_type": "code",
      "execution_count": 54,
      "metadata": {
        "id": "2RAgIYx0etZO"
      },
      "outputs": [],
      "source": [
        "## Python Data Structures and Boolean\n",
        "# Boolean \n",
        "# Boolean and Logical Opertor\n",
        "# Lists\n",
        "# Comparisons Operators\n",
        "# Dictionaries\n",
        "# Tuples\n",
        "# Sets"
      ]
    },
    {
      "cell_type": "code",
      "source": [
        "## Boolean Variables\n",
        "# Boolean values are the two constant objects False and True.\n",
        "# They are used to Represent truth values (other values can also be considered False or True)\n",
        "# In numeric contexts(for example, when used as the argument to an arithmetic operator), they behave like the integer 0 and 1 respectively.\n",
        "# The built-in function bool() can be use to cast any value to a boolean, if the value can be interpreted as a truth value\n",
        "# They are written as True or False, respectively."
      ],
      "metadata": {
        "id": "bf0j5RQvfdfg"
      },
      "execution_count": 55,
      "outputs": []
    },
    {
      "cell_type": "code",
      "source": [
        "False"
      ],
      "metadata": {
        "colab": {
          "base_uri": "https://localhost:8080/"
        },
        "id": "wm9LNxgEf7VT",
        "outputId": "421fd4a4-c70c-412e-ddc4-fea2babe77d7"
      },
      "execution_count": 56,
      "outputs": [
        {
          "output_type": "execute_result",
          "data": {
            "text/plain": [
              "False"
            ]
          },
          "metadata": {},
          "execution_count": 56
        }
      ]
    },
    {
      "cell_type": "code",
      "source": [
        "print(True, False)"
      ],
      "metadata": {
        "colab": {
          "base_uri": "https://localhost:8080/"
        },
        "id": "nhOW_FDuh1PV",
        "outputId": "27a3a1ef-67bb-4222-f9ab-fb1e1f87f2d2"
      },
      "execution_count": 57,
      "outputs": [
        {
          "output_type": "stream",
          "name": "stdout",
          "text": [
            "True False\n"
          ]
        }
      ]
    },
    {
      "cell_type": "code",
      "source": [
        "type(True)"
      ],
      "metadata": {
        "colab": {
          "base_uri": "https://localhost:8080/"
        },
        "id": "gVNVKUB5h5aI",
        "outputId": "e9ec22c6-48d0-464b-9037-3db8575e99d2"
      },
      "execution_count": 58,
      "outputs": [
        {
          "output_type": "execute_result",
          "data": {
            "text/plain": [
              "bool"
            ]
          },
          "metadata": {},
          "execution_count": 58
        }
      ]
    },
    {
      "cell_type": "code",
      "source": [
        "type(False)"
      ],
      "metadata": {
        "colab": {
          "base_uri": "https://localhost:8080/"
        },
        "id": "L26t6IeGh8p4",
        "outputId": "2e4b53ea-695c-43a0-c258-1f6d36f9d6ea"
      },
      "execution_count": 59,
      "outputs": [
        {
          "output_type": "execute_result",
          "data": {
            "text/plain": [
              "bool"
            ]
          },
          "metadata": {},
          "execution_count": 59
        }
      ]
    },
    {
      "cell_type": "code",
      "source": [
        "my_str = 'Pooja123'"
      ],
      "metadata": {
        "id": "KVJokWYhiCxE"
      },
      "execution_count": 60,
      "outputs": []
    },
    {
      "cell_type": "code",
      "source": [
        "my_str.istitle()"
      ],
      "metadata": {
        "colab": {
          "base_uri": "https://localhost:8080/"
        },
        "id": "Dk_oPrAwiHdv",
        "outputId": "f8a20e66-ddf3-4754-9843-4fddef4288e5"
      },
      "execution_count": 61,
      "outputs": [
        {
          "output_type": "execute_result",
          "data": {
            "text/plain": [
              "True"
            ]
          },
          "metadata": {},
          "execution_count": 61
        }
      ]
    },
    {
      "cell_type": "code",
      "source": [
        "print(my_str.isalnum()) # Check if all char are number\n",
        "print(my_str.isalpha()) # check if all char in the string are alphabetic\n",
        "print(my_str.isdigit()) # test if string contain digits\n",
        "print(my_str.istitle()) # test if string contain title word(which cantain 1st word capital)\n",
        "print(my_str.isupper()) # test if string contains upper case\n",
        "print(my_str.islower()) # test if string contains lower case\n",
        "print(my_str.isspace()) # test if string contain space\n",
        "print(my_str.endswith('m')) # test if string ends with m\n",
        "print(my_str.startswith('M')) # test if sting starts with M"
      ],
      "metadata": {
        "colab": {
          "base_uri": "https://localhost:8080/"
        },
        "id": "jpSZKNEqiMDM",
        "outputId": "2b6f676f-1e62-4965-f3ee-dcc5ef2f5729"
      },
      "execution_count": 62,
      "outputs": [
        {
          "output_type": "stream",
          "name": "stdout",
          "text": [
            "True\n",
            "False\n",
            "False\n",
            "True\n",
            "False\n",
            "False\n",
            "False\n",
            "False\n",
            "False\n"
          ]
        }
      ]
    },
    {
      "cell_type": "code",
      "source": [
        "# Boolean and Logical Operators"
      ],
      "metadata": {
        "id": "iHcKd3B_pgtZ"
      },
      "execution_count": 63,
      "outputs": []
    },
    {
      "cell_type": "code",
      "source": [
        "True and True"
      ],
      "metadata": {
        "colab": {
          "base_uri": "https://localhost:8080/"
        },
        "id": "W3cVADI5puIO",
        "outputId": "5704d3e7-4b60-438f-eb8f-7201e3d52a08"
      },
      "execution_count": 64,
      "outputs": [
        {
          "output_type": "execute_result",
          "data": {
            "text/plain": [
              "True"
            ]
          },
          "metadata": {},
          "execution_count": 64
        }
      ]
    },
    {
      "cell_type": "code",
      "source": [
        "True and False"
      ],
      "metadata": {
        "colab": {
          "base_uri": "https://localhost:8080/"
        },
        "id": "8QDwdPw3pznQ",
        "outputId": "fb4ba4b2-18e7-4c69-ec65-9c5c5e4ee473"
      },
      "execution_count": 65,
      "outputs": [
        {
          "output_type": "execute_result",
          "data": {
            "text/plain": [
              "False"
            ]
          },
          "metadata": {},
          "execution_count": 65
        }
      ]
    },
    {
      "cell_type": "code",
      "source": [
        "False and False"
      ],
      "metadata": {
        "colab": {
          "base_uri": "https://localhost:8080/"
        },
        "id": "gLXtWCHdp287",
        "outputId": "f9713f49-6fdd-4b3b-de5c-126ee9bdaf1e"
      },
      "execution_count": 66,
      "outputs": [
        {
          "output_type": "execute_result",
          "data": {
            "text/plain": [
              "False"
            ]
          },
          "metadata": {},
          "execution_count": 66
        }
      ]
    },
    {
      "cell_type": "code",
      "source": [
        "False and True"
      ],
      "metadata": {
        "colab": {
          "base_uri": "https://localhost:8080/"
        },
        "id": "LnJe4nwcqIiY",
        "outputId": "92d41b0d-22e0-4548-8f2a-dbe10f10686b"
      },
      "execution_count": 67,
      "outputs": [
        {
          "output_type": "execute_result",
          "data": {
            "text/plain": [
              "False"
            ]
          },
          "metadata": {},
          "execution_count": 67
        }
      ]
    },
    {
      "cell_type": "code",
      "source": [
        "True or True"
      ],
      "metadata": {
        "colab": {
          "base_uri": "https://localhost:8080/"
        },
        "id": "G2xrJ304qLPa",
        "outputId": "144fdb18-441f-4608-dc7d-fac46811b357"
      },
      "execution_count": 68,
      "outputs": [
        {
          "output_type": "execute_result",
          "data": {
            "text/plain": [
              "True"
            ]
          },
          "metadata": {},
          "execution_count": 68
        }
      ]
    },
    {
      "cell_type": "code",
      "source": [
        "True or False"
      ],
      "metadata": {
        "colab": {
          "base_uri": "https://localhost:8080/"
        },
        "id": "BzR4dup1q3XD",
        "outputId": "33a68467-8aba-43ee-afaa-6ffa65a7d7f4"
      },
      "execution_count": 69,
      "outputs": [
        {
          "output_type": "execute_result",
          "data": {
            "text/plain": [
              "True"
            ]
          },
          "metadata": {},
          "execution_count": 69
        }
      ]
    },
    {
      "cell_type": "code",
      "source": [
        "False or True"
      ],
      "metadata": {
        "colab": {
          "base_uri": "https://localhost:8080/"
        },
        "id": "nhWXW3cQq66E",
        "outputId": "fe579141-248b-4142-89a8-840dbfa5b3d5"
      },
      "execution_count": 70,
      "outputs": [
        {
          "output_type": "execute_result",
          "data": {
            "text/plain": [
              "True"
            ]
          },
          "metadata": {},
          "execution_count": 70
        }
      ]
    },
    {
      "cell_type": "code",
      "source": [
        "False or False"
      ],
      "metadata": {
        "colab": {
          "base_uri": "https://localhost:8080/"
        },
        "id": "5Mn9JOXFq-zf",
        "outputId": "488e05e9-601d-43bc-d122-a853a9e67f64"
      },
      "execution_count": 71,
      "outputs": [
        {
          "output_type": "execute_result",
          "data": {
            "text/plain": [
              "False"
            ]
          },
          "metadata": {},
          "execution_count": 71
        }
      ]
    },
    {
      "cell_type": "code",
      "source": [
        "str_ex = \"Hello World\"\n",
        "my_str = \"Pooja\""
      ],
      "metadata": {
        "id": "GGG2MZc5rA9b"
      },
      "execution_count": 72,
      "outputs": []
    },
    {
      "cell_type": "code",
      "source": [
        "my_str.isalpha() or str_ex.isnum()"
      ],
      "metadata": {
        "colab": {
          "base_uri": "https://localhost:8080/"
        },
        "id": "39iWHH02rJj8",
        "outputId": "15a07da9-4a91-4cd0-9be8-f45d561fe543"
      },
      "execution_count": 73,
      "outputs": [
        {
          "output_type": "execute_result",
          "data": {
            "text/plain": [
              "True"
            ]
          },
          "metadata": {},
          "execution_count": 73
        }
      ]
    },
    {
      "cell_type": "code",
      "source": [
        "# List\n",
        "#   A list is a data structure in python that is a mutable, or changeable, ordered sequence of elements. \n",
        "#   Each element or value that is inside of a list is called an item. \n",
        "#   Just as strings are defined as characters between quotes, list are defined as characters between quotes, list are defined by having values between square brackets []."
      ],
      "metadata": {
        "id": "GpKMHLwzsn8d"
      },
      "execution_count": 74,
      "outputs": []
    },
    {
      "cell_type": "code",
      "source": [
        "type([])"
      ],
      "metadata": {
        "colab": {
          "base_uri": "https://localhost:8080/"
        },
        "id": "UGT_jNUqueRq",
        "outputId": "7b0871b6-2d26-4d3b-9c65-bb29b96c0478"
      },
      "execution_count": 75,
      "outputs": [
        {
          "output_type": "execute_result",
          "data": {
            "text/plain": [
              "list"
            ]
          },
          "metadata": {},
          "execution_count": 75
        }
      ]
    },
    {
      "cell_type": "code",
      "source": [
        "list_ex = []"
      ],
      "metadata": {
        "id": "vyRh5MJUunwp"
      },
      "execution_count": 76,
      "outputs": []
    },
    {
      "cell_type": "code",
      "source": [
        "type(list_ex)"
      ],
      "metadata": {
        "colab": {
          "base_uri": "https://localhost:8080/"
        },
        "id": "SM_4NZcCutIJ",
        "outputId": "7e471668-9237-4405-f405-664833bc0c76"
      },
      "execution_count": 77,
      "outputs": [
        {
          "output_type": "execute_result",
          "data": {
            "text/plain": [
              "list"
            ]
          },
          "metadata": {},
          "execution_count": 77
        }
      ]
    },
    {
      "cell_type": "code",
      "source": [
        "list = []"
      ],
      "metadata": {
        "id": "Obn0X70PuyeD"
      },
      "execution_count": 85,
      "outputs": []
    },
    {
      "cell_type": "code",
      "source": [
        "type(list)"
      ],
      "metadata": {
        "colab": {
          "base_uri": "https://localhost:8080/"
        },
        "id": "cDTC6CIhu6NI",
        "outputId": "d81c9a84-ba84-40ad-85d7-aaad66269610"
      },
      "execution_count": 86,
      "outputs": [
        {
          "output_type": "execute_result",
          "data": {
            "text/plain": [
              "list"
            ]
          },
          "metadata": {},
          "execution_count": 86
        }
      ]
    },
    {
      "cell_type": "code",
      "source": [
        "list = ['Math','chem',10,20,30,204]"
      ],
      "metadata": {
        "id": "a1Nz8TpVvC7C"
      },
      "execution_count": 87,
      "outputs": []
    },
    {
      "cell_type": "code",
      "source": [
        "len(list)"
      ],
      "metadata": {
        "colab": {
          "base_uri": "https://localhost:8080/"
        },
        "id": "Z2CnfW13vcbd",
        "outputId": "0b9aa55d-8fa7-40cc-a8cd-dc675730c8a2"
      },
      "execution_count": 88,
      "outputs": [
        {
          "output_type": "execute_result",
          "data": {
            "text/plain": [
              "6"
            ]
          },
          "metadata": {},
          "execution_count": 88
        }
      ]
    },
    {
      "cell_type": "code",
      "source": [
        "type(list)"
      ],
      "metadata": {
        "colab": {
          "base_uri": "https://localhost:8080/"
        },
        "id": "LsV-Y0zZvey_",
        "outputId": "d80bba80-55f7-4a93-ac2f-74654e23c370"
      },
      "execution_count": 89,
      "outputs": [
        {
          "output_type": "execute_result",
          "data": {
            "text/plain": [
              "list"
            ]
          },
          "metadata": {},
          "execution_count": 89
        }
      ]
    },
    {
      "cell_type": "code",
      "source": [
        "## Append\n",
        "# append is used to add elements in the list"
      ],
      "metadata": {
        "id": "EOH5hr2QviGS"
      },
      "execution_count": 90,
      "outputs": []
    },
    {
      "cell_type": "code",
      "source": [
        "list.append(\"Milk\")"
      ],
      "metadata": {
        "id": "czMSGNh1v2qV"
      },
      "execution_count": 91,
      "outputs": []
    },
    {
      "cell_type": "code",
      "source": [
        "list.append(['Tea','coffee'])"
      ],
      "metadata": {
        "id": "ow_fgdTswkPR"
      },
      "execution_count": 92,
      "outputs": []
    },
    {
      "cell_type": "code",
      "source": [
        "list"
      ],
      "metadata": {
        "colab": {
          "base_uri": "https://localhost:8080/"
        },
        "id": "vLnc10xLw4kq",
        "outputId": "9ddd502f-7c31-4387-c58b-a4c7f417edf3"
      },
      "execution_count": 93,
      "outputs": [
        {
          "output_type": "execute_result",
          "data": {
            "text/plain": [
              "['Math', 'chem', 10, 20, 30, 204, 'Milk', ['Tea', 'coffee']]"
            ]
          },
          "metadata": {},
          "execution_count": 93
        }
      ]
    },
    {
      "cell_type": "code",
      "source": [
        "# Indexing in list\n",
        "list[1:6]"
      ],
      "metadata": {
        "colab": {
          "base_uri": "https://localhost:8080/"
        },
        "id": "RY1uOVeQw6Pg",
        "outputId": "66b8cb11-aa01-46e3-b453-6f9bf8176255"
      },
      "execution_count": 94,
      "outputs": [
        {
          "output_type": "execute_result",
          "data": {
            "text/plain": [
              "['chem', 10, 20, 30, 204]"
            ]
          },
          "metadata": {},
          "execution_count": 94
        }
      ]
    },
    {
      "cell_type": "code",
      "source": [
        "list[7]  # It shows the nested list "
      ],
      "metadata": {
        "colab": {
          "base_uri": "https://localhost:8080/"
        },
        "id": "B0EFW4OZxkDY",
        "outputId": "071f799f-afe8-4172-bcdf-8dfd3ce64bd9"
      },
      "execution_count": 95,
      "outputs": [
        {
          "output_type": "execute_result",
          "data": {
            "text/plain": [
              "['Tea', 'coffee']"
            ]
          },
          "metadata": {},
          "execution_count": 95
        }
      ]
    },
    {
      "cell_type": "code",
      "source": [
        "list[2]"
      ],
      "metadata": {
        "colab": {
          "base_uri": "https://localhost:8080/"
        },
        "id": "GWwOHFxwG7YT",
        "outputId": "c0768141-ea9e-4913-a01e-a72d9e8f10ce"
      },
      "execution_count": 96,
      "outputs": [
        {
          "output_type": "execute_result",
          "data": {
            "text/plain": [
              "10"
            ]
          },
          "metadata": {},
          "execution_count": 96
        }
      ]
    },
    {
      "cell_type": "code",
      "source": [
        "# Insert\n",
        "# Insert in a specific order"
      ],
      "metadata": {
        "id": "ojqUAxhBxn8x"
      },
      "execution_count": 97,
      "outputs": []
    },
    {
      "cell_type": "code",
      "source": [
        "list.insert(2, \"shake\")"
      ],
      "metadata": {
        "id": "sNKFAw9SyjFh"
      },
      "execution_count": 98,
      "outputs": []
    },
    {
      "cell_type": "code",
      "source": [
        "list"
      ],
      "metadata": {
        "colab": {
          "base_uri": "https://localhost:8080/"
        },
        "id": "lo-lJ4WEyq65",
        "outputId": "6db4ef80-b5ad-40ff-f8bc-d4bcf67b056d"
      },
      "execution_count": 99,
      "outputs": [
        {
          "output_type": "execute_result",
          "data": {
            "text/plain": [
              "['Math', 'chem', 'shake', 10, 20, 30, 204, 'Milk', ['Tea', 'coffee']]"
            ]
          },
          "metadata": {},
          "execution_count": 99
        }
      ]
    },
    {
      "cell_type": "code",
      "source": [
        "list.append(['Bisket','Bread'])"
      ],
      "metadata": {
        "id": "Gvx5BZIBysAN"
      },
      "execution_count": 100,
      "outputs": []
    },
    {
      "cell_type": "code",
      "source": [
        "list"
      ],
      "metadata": {
        "colab": {
          "base_uri": "https://localhost:8080/"
        },
        "id": "bMyMjNS5zNyy",
        "outputId": "260db525-c8c6-4606-aa6c-ab1adbd019f9"
      },
      "execution_count": 101,
      "outputs": [
        {
          "output_type": "execute_result",
          "data": {
            "text/plain": [
              "['Math',\n",
              " 'chem',\n",
              " 'shake',\n",
              " 10,\n",
              " 20,\n",
              " 30,\n",
              " 204,\n",
              " 'Milk',\n",
              " ['Tea', 'coffee'],\n",
              " ['Bisket', 'Bread']]"
            ]
          },
          "metadata": {},
          "execution_count": 101
        }
      ]
    },
    {
      "cell_type": "code",
      "source": [
        "list = [1,2,3]"
      ],
      "metadata": {
        "id": "QYmkrHQJzPF5"
      },
      "execution_count": 102,
      "outputs": []
    },
    {
      "cell_type": "code",
      "source": [
        "list.append([4,5])"
      ],
      "metadata": {
        "id": "PuB3OCMQzbLC"
      },
      "execution_count": 103,
      "outputs": []
    },
    {
      "cell_type": "code",
      "source": [
        "list"
      ],
      "metadata": {
        "colab": {
          "base_uri": "https://localhost:8080/"
        },
        "id": "bRHIEpbPzfn8",
        "outputId": "6d985183-0697-4ad7-ca3d-8aaf7460c6d3"
      },
      "execution_count": 104,
      "outputs": [
        {
          "output_type": "execute_result",
          "data": {
            "text/plain": [
              "[1, 2, 3, [4, 5]]"
            ]
          },
          "metadata": {},
          "execution_count": 104
        }
      ]
    },
    {
      "cell_type": "code",
      "source": [
        "## Extend Method"
      ],
      "metadata": {
        "id": "qaRm_iiUzhtD"
      },
      "execution_count": 105,
      "outputs": []
    },
    {
      "cell_type": "code",
      "source": [
        "list = [1,2,3,4,5,6]"
      ],
      "metadata": {
        "id": "LWeNCdTlzowm"
      },
      "execution_count": 106,
      "outputs": []
    },
    {
      "cell_type": "code",
      "source": [
        "list.extend([8,9])"
      ],
      "metadata": {
        "id": "-z8Vdn5Ezwq3"
      },
      "execution_count": 107,
      "outputs": []
    },
    {
      "cell_type": "code",
      "source": [
        "list"
      ],
      "metadata": {
        "colab": {
          "base_uri": "https://localhost:8080/"
        },
        "id": "Kfoj98tPz2yF",
        "outputId": "4ca0c3e5-e91b-402f-e569-8e2074ad9462"
      },
      "execution_count": 108,
      "outputs": [
        {
          "output_type": "execute_result",
          "data": {
            "text/plain": [
              "[1, 2, 3, 4, 5, 6, 8, 9]"
            ]
          },
          "metadata": {},
          "execution_count": 108
        }
      ]
    },
    {
      "cell_type": "code",
      "source": [
        "# Various Operations that we can perform in list"
      ],
      "metadata": {
        "id": "_rNps2Nlz4Ml"
      },
      "execution_count": 109,
      "outputs": []
    },
    {
      "cell_type": "code",
      "source": [
        "list = [1,2,3,4,5]"
      ],
      "metadata": {
        "id": "NPxQvoj40Luj"
      },
      "execution_count": 110,
      "outputs": []
    },
    {
      "cell_type": "code",
      "source": [
        "sum(list)"
      ],
      "metadata": {
        "colab": {
          "base_uri": "https://localhost:8080/"
        },
        "id": "_UNIXlxS0O9U",
        "outputId": "2087e727-4513-4d21-ecfa-9912bd9847b3"
      },
      "execution_count": 111,
      "outputs": [
        {
          "output_type": "execute_result",
          "data": {
            "text/plain": [
              "15"
            ]
          },
          "metadata": {},
          "execution_count": 111
        }
      ]
    },
    {
      "cell_type": "code",
      "source": [
        "list*5"
      ],
      "metadata": {
        "colab": {
          "base_uri": "https://localhost:8080/"
        },
        "id": "NRRmrYyM0Qfy",
        "outputId": "e61efc0a-b54f-44a4-f34b-0398ab7af7c9"
      },
      "execution_count": 112,
      "outputs": [
        {
          "output_type": "execute_result",
          "data": {
            "text/plain": [
              "[1, 2, 3, 4, 5, 1, 2, 3, 4, 5, 1, 2, 3, 4, 5, 1, 2, 3, 4, 5, 1, 2, 3, 4, 5]"
            ]
          },
          "metadata": {},
          "execution_count": 112
        }
      ]
    },
    {
      "cell_type": "code",
      "source": [
        "## Pop() Method"
      ],
      "metadata": {
        "id": "nWlti9T50S8p"
      },
      "execution_count": 113,
      "outputs": []
    },
    {
      "cell_type": "code",
      "source": [
        "list.pop()"
      ],
      "metadata": {
        "colab": {
          "base_uri": "https://localhost:8080/"
        },
        "id": "C2E4DesW0bFW",
        "outputId": "bda11599-18fc-4f0d-9927-68bd845aaa53"
      },
      "execution_count": 114,
      "outputs": [
        {
          "output_type": "execute_result",
          "data": {
            "text/plain": [
              "5"
            ]
          },
          "metadata": {},
          "execution_count": 114
        }
      ]
    },
    {
      "cell_type": "code",
      "source": [
        "list"
      ],
      "metadata": {
        "colab": {
          "base_uri": "https://localhost:8080/"
        },
        "id": "vKWGr3yb0fs3",
        "outputId": "05027da2-e888-481b-f327-dda82407d2ba"
      },
      "execution_count": 115,
      "outputs": [
        {
          "output_type": "execute_result",
          "data": {
            "text/plain": [
              "[1, 2, 3, 4]"
            ]
          },
          "metadata": {},
          "execution_count": 115
        }
      ]
    },
    {
      "cell_type": "code",
      "source": [
        "list.pop(2)"
      ],
      "metadata": {
        "colab": {
          "base_uri": "https://localhost:8080/"
        },
        "id": "qE4lBlqu0ggv",
        "outputId": "275a36af-c3de-40c3-f988-22706921f866"
      },
      "execution_count": 116,
      "outputs": [
        {
          "output_type": "execute_result",
          "data": {
            "text/plain": [
              "3"
            ]
          },
          "metadata": {},
          "execution_count": 116
        }
      ]
    },
    {
      "cell_type": "code",
      "source": [
        "list"
      ],
      "metadata": {
        "colab": {
          "base_uri": "https://localhost:8080/"
        },
        "id": "ohA0C77i0jHg",
        "outputId": "7904a83a-3131-4ba0-927b-16d11bd047ef"
      },
      "execution_count": 117,
      "outputs": [
        {
          "output_type": "execute_result",
          "data": {
            "text/plain": [
              "[1, 2, 4]"
            ]
          },
          "metadata": {},
          "execution_count": 117
        }
      ]
    },
    {
      "cell_type": "code",
      "source": [
        "## Count() : Calculates total occurance of given elements of list"
      ],
      "metadata": {
        "id": "6h7HrRJ50k8A"
      },
      "execution_count": 118,
      "outputs": []
    },
    {
      "cell_type": "code",
      "source": [
        "list = [1,1,2,3,4,5]"
      ],
      "metadata": {
        "id": "ncIDepWh1F6_"
      },
      "execution_count": 119,
      "outputs": []
    },
    {
      "cell_type": "code",
      "source": [
        "list.count(1)"
      ],
      "metadata": {
        "colab": {
          "base_uri": "https://localhost:8080/"
        },
        "id": "PbhlTLiD2CmZ",
        "outputId": "e7ce0559-004e-4005-a475-7cad971424cd"
      },
      "execution_count": 120,
      "outputs": [
        {
          "output_type": "execute_result",
          "data": {
            "text/plain": [
              "2"
            ]
          },
          "metadata": {},
          "execution_count": 120
        }
      ]
    },
    {
      "cell_type": "code",
      "source": [
        "len(list)  # Calculate total length of list"
      ],
      "metadata": {
        "colab": {
          "base_uri": "https://localhost:8080/"
        },
        "id": "dcX4-8X32Nuo",
        "outputId": "e0030470-6e5f-4cbe-80b2-94b29b1c9692"
      },
      "execution_count": 121,
      "outputs": [
        {
          "output_type": "execute_result",
          "data": {
            "text/plain": [
              "6"
            ]
          },
          "metadata": {},
          "execution_count": 121
        }
      ]
    },
    {
      "cell_type": "code",
      "source": [
        "# index() : Returns the index of first occurance, start and End Parameters are not necessary"
      ],
      "metadata": {
        "id": "KiSnR3s62Pr4"
      },
      "execution_count": 122,
      "outputs": []
    },
    {
      "cell_type": "code",
      "source": [
        "list.index(1,1,4)"
      ],
      "metadata": {
        "colab": {
          "base_uri": "https://localhost:8080/"
        },
        "id": "GVxAuJ9938D_",
        "outputId": "55c0cf82-d5a9-41e6-9378-6ddd17bf9e63"
      },
      "execution_count": 123,
      "outputs": [
        {
          "output_type": "execute_result",
          "data": {
            "text/plain": [
              "1"
            ]
          },
          "metadata": {},
          "execution_count": 123
        }
      ]
    },
    {
      "cell_type": "code",
      "source": [
        "# Min and Max\n",
        "min(list)"
      ],
      "metadata": {
        "colab": {
          "base_uri": "https://localhost:8080/"
        },
        "id": "F-M_SYx14KOs",
        "outputId": "c4073ee3-61e7-4249-8eb7-666997417165"
      },
      "execution_count": 124,
      "outputs": [
        {
          "output_type": "execute_result",
          "data": {
            "text/plain": [
              "1"
            ]
          },
          "metadata": {},
          "execution_count": 124
        }
      ]
    },
    {
      "cell_type": "code",
      "source": [
        "max(list)"
      ],
      "metadata": {
        "colab": {
          "base_uri": "https://localhost:8080/"
        },
        "id": "rUKDwTJd4X2U",
        "outputId": "c0d786b1-29be-4ad7-bde9-097890bceba4"
      },
      "execution_count": 125,
      "outputs": [
        {
          "output_type": "execute_result",
          "data": {
            "text/plain": [
              "5"
            ]
          },
          "metadata": {},
          "execution_count": 125
        }
      ]
    },
    {
      "cell_type": "code",
      "source": [
        "# Sets \n",
        "  # A Set is an unordered collection data type that is iterable, mutable, and has no duplicate elements. \n",
        "  # Python's set class represents the mathematical notation of a set. This is based on a data structure known as hash table(Data stored in an array format, where each data value has its own unique index values)."
      ],
      "metadata": {
        "id": "GPHbgCOJ4ZdV"
      },
      "execution_count": 126,
      "outputs": []
    },
    {
      "cell_type": "code",
      "source": [
        "## Defining an empty set\n",
        "set_var = set()"
      ],
      "metadata": {
        "id": "7OimlKFK4-Rz"
      },
      "execution_count": 127,
      "outputs": []
    },
    {
      "cell_type": "code",
      "source": [
        "print(set_var)\n",
        "print(type(set_var))"
      ],
      "metadata": {
        "colab": {
          "base_uri": "https://localhost:8080/"
        },
        "id": "jx7t-whs5Fm8",
        "outputId": "f0370b5e-74fb-48ec-e686-852c19cb4b64"
      },
      "execution_count": 128,
      "outputs": [
        {
          "output_type": "stream",
          "name": "stdout",
          "text": [
            "set()\n",
            "<class 'set'>\n"
          ]
        }
      ]
    },
    {
      "cell_type": "code",
      "source": [
        "\n",
        "set_var = {1,2,3,4,3}"
      ],
      "metadata": {
        "id": "LX9L7tH05NzD"
      },
      "execution_count": 129,
      "outputs": []
    },
    {
      "cell_type": "code",
      "source": [
        "set_var"
      ],
      "metadata": {
        "colab": {
          "base_uri": "https://localhost:8080/"
        },
        "id": "PW7CH2pA5Xxd",
        "outputId": "40734690-6e55-4025-9442-3a7a558cce65"
      },
      "execution_count": 130,
      "outputs": [
        {
          "output_type": "execute_result",
          "data": {
            "text/plain": [
              "{1, 2, 3, 4}"
            ]
          },
          "metadata": {},
          "execution_count": 130
        }
      ]
    },
    {
      "cell_type": "code",
      "source": [
        "set_var = {'Avengers','Ironman','Hitman'}\n",
        "print(set_var)\n",
        "print(type(set_var))"
      ],
      "metadata": {
        "colab": {
          "base_uri": "https://localhost:8080/"
        },
        "id": "SoKy0gqU5Zcj",
        "outputId": "2dc0785f-005a-476e-fc55-fce03c559af2"
      },
      "execution_count": 131,
      "outputs": [
        {
          "output_type": "stream",
          "name": "stdout",
          "text": [
            "{'Hitman', 'Ironman', 'Avengers'}\n",
            "<class 'set'>\n"
          ]
        }
      ]
    },
    {
      "cell_type": "code",
      "source": [
        "## Inbuilt functions in Set\n",
        "set_var.add(\"Hulk\")"
      ],
      "metadata": {
        "id": "_uV6G2MX5xwh"
      },
      "execution_count": 132,
      "outputs": []
    },
    {
      "cell_type": "code",
      "source": [
        "print(set_var)"
      ],
      "metadata": {
        "colab": {
          "base_uri": "https://localhost:8080/"
        },
        "id": "mwP7g2lj596o",
        "outputId": "b74480f5-98af-4ca6-9f19-4aa15627cd4d"
      },
      "execution_count": 133,
      "outputs": [
        {
          "output_type": "stream",
          "name": "stdout",
          "text": [
            "{'Hitman', 'Ironman', 'Hulk', 'Avengers'}\n"
          ]
        }
      ]
    },
    {
      "cell_type": "code",
      "source": [
        "set1 = {'Ice','cream','shake'}\n",
        "set2 = {'Ice','cream','shake','milk'}"
      ],
      "metadata": {
        "id": "LUbcpM4W6C59"
      },
      "execution_count": 134,
      "outputs": []
    },
    {
      "cell_type": "code",
      "source": [
        "# intersection"
      ],
      "metadata": {
        "id": "IwzFmrOx6yr1"
      },
      "execution_count": 135,
      "outputs": []
    },
    {
      "cell_type": "code",
      "source": [
        "set2.intersection(set1)"
      ],
      "metadata": {
        "colab": {
          "base_uri": "https://localhost:8080/"
        },
        "id": "p3FIk7YY63AW",
        "outputId": "0370ff79-b8bd-440d-bc72-31154a59f933"
      },
      "execution_count": 136,
      "outputs": [
        {
          "output_type": "execute_result",
          "data": {
            "text/plain": [
              "{'Ice', 'cream', 'shake'}"
            ]
          },
          "metadata": {},
          "execution_count": 136
        }
      ]
    },
    {
      "cell_type": "code",
      "source": [
        "set2.intersection_update(set1)"
      ],
      "metadata": {
        "id": "fPIU8NcZ68T7"
      },
      "execution_count": 137,
      "outputs": []
    },
    {
      "cell_type": "code",
      "source": [
        "set2"
      ],
      "metadata": {
        "colab": {
          "base_uri": "https://localhost:8080/"
        },
        "id": "lN1LLKmm7C4w",
        "outputId": "ff5f06f8-18c9-4cfc-eff3-c752787c4290"
      },
      "execution_count": 138,
      "outputs": [
        {
          "output_type": "execute_result",
          "data": {
            "text/plain": [
              "{'Ice', 'cream', 'shake'}"
            ]
          },
          "metadata": {},
          "execution_count": 138
        }
      ]
    },
    {
      "cell_type": "code",
      "source": [
        "set_1 = {'tea','coffee','milk'}\n",
        "set_2 = {'tea','coffee','milk','suger'}"
      ],
      "metadata": {
        "id": "1ui6gEEE_3Lt"
      },
      "execution_count": 139,
      "outputs": []
    },
    {
      "cell_type": "code",
      "source": [
        "## Difference\n",
        "set_2.difference(set_1)"
      ],
      "metadata": {
        "colab": {
          "base_uri": "https://localhost:8080/"
        },
        "id": "jYW-1UcR7FFQ",
        "outputId": "ce88b287-111f-4a71-db8c-13fd1366f348"
      },
      "execution_count": 140,
      "outputs": [
        {
          "output_type": "execute_result",
          "data": {
            "text/plain": [
              "{'suger'}"
            ]
          },
          "metadata": {},
          "execution_count": 140
        }
      ]
    },
    {
      "cell_type": "code",
      "source": [
        "set_2.difference_update(set_1)"
      ],
      "metadata": {
        "id": "jgyLX5FD7K6Y"
      },
      "execution_count": 141,
      "outputs": []
    },
    {
      "cell_type": "code",
      "source": [
        "set2"
      ],
      "metadata": {
        "colab": {
          "base_uri": "https://localhost:8080/"
        },
        "id": "7xYjHqIO7T3u",
        "outputId": "9ff1a29f-c051-4bbb-d369-fa776dbce188"
      },
      "execution_count": 142,
      "outputs": [
        {
          "output_type": "execute_result",
          "data": {
            "text/plain": [
              "{'Ice', 'cream', 'shake'}"
            ]
          },
          "metadata": {},
          "execution_count": 142
        }
      ]
    },
    {
      "cell_type": "code",
      "source": [
        "## Dictionaries\n",
        "  # A Dictionary is a collection which is unordered, changeable and indexed. \n",
        "  # In Python dictionaries are written with curly brakets, and they have keys and values."
      ],
      "metadata": {
        "id": "hXKS3EcX7ZoZ"
      },
      "execution_count": 143,
      "outputs": []
    },
    {
      "cell_type": "code",
      "source": [
        "dic = {}"
      ],
      "metadata": {
        "id": "X0tjhHwaLrrl"
      },
      "execution_count": 144,
      "outputs": []
    },
    {
      "cell_type": "code",
      "source": [
        "type(dic)"
      ],
      "metadata": {
        "colab": {
          "base_uri": "https://localhost:8080/"
        },
        "id": "6sAfUifBLu0b",
        "outputId": "1b610467-49da-4a8f-c932-737345a3f706"
      },
      "execution_count": 145,
      "outputs": [
        {
          "output_type": "execute_result",
          "data": {
            "text/plain": [
              "dict"
            ]
          },
          "metadata": {},
          "execution_count": 145
        }
      ]
    },
    {
      "cell_type": "code",
      "source": [
        "set_ex = {1,2,3,4,5}"
      ],
      "metadata": {
        "id": "mrj8WriRL0jQ"
      },
      "execution_count": 147,
      "outputs": []
    },
    {
      "cell_type": "code",
      "source": [
        "type(set_ex)"
      ],
      "metadata": {
        "colab": {
          "base_uri": "https://localhost:8080/"
        },
        "id": "CiKnFInzMFZ9",
        "outputId": "6ab1f703-3e08-459a-c6b9-cbd21f969c80"
      },
      "execution_count": 148,
      "outputs": [
        {
          "output_type": "execute_result",
          "data": {
            "text/plain": [
              "set"
            ]
          },
          "metadata": {},
          "execution_count": 148
        }
      ]
    },
    {
      "cell_type": "code",
      "source": [
        "# Let's create a dictionary\n",
        "my_dict = {'dish1':'pasta', 'dish2':'pizza', 'dish3':'burger', 'dish4':'nudels'}"
      ],
      "metadata": {
        "id": "RTHiXEdgMIWI"
      },
      "execution_count": 149,
      "outputs": []
    },
    {
      "cell_type": "code",
      "source": [
        "type(my_dict)"
      ],
      "metadata": {
        "colab": {
          "base_uri": "https://localhost:8080/"
        },
        "id": "-HKmVXKcM9SG",
        "outputId": "2e13047a-12f0-406c-9530-594eb4527f5a"
      },
      "execution_count": 150,
      "outputs": [
        {
          "output_type": "execute_result",
          "data": {
            "text/plain": [
              "dict"
            ]
          },
          "metadata": {},
          "execution_count": 150
        }
      ]
    },
    {
      "cell_type": "code",
      "source": [
        "# Access the item values based on keys\n",
        "my_dict['dish1']"
      ],
      "metadata": {
        "colab": {
          "base_uri": "https://localhost:8080/",
          "height": 35
        },
        "id": "ryelH4kSNALJ",
        "outputId": "623977a2-0c74-4973-c2b2-d09784cc08d8"
      },
      "execution_count": 151,
      "outputs": [
        {
          "output_type": "execute_result",
          "data": {
            "text/plain": [
              "'pasta'"
            ],
            "application/vnd.google.colaboratory.intrinsic+json": {
              "type": "string"
            }
          },
          "metadata": {},
          "execution_count": 151
        }
      ]
    },
    {
      "cell_type": "code",
      "source": [
        "# We can loop throughout the dictionaries keys\n",
        "for x in my_dict:\n",
        "  print(x)"
      ],
      "metadata": {
        "colab": {
          "base_uri": "https://localhost:8080/"
        },
        "id": "XIx70YppNHot",
        "outputId": "7e2964fb-fe51-4357-cd2d-b0e2ec2e45db"
      },
      "execution_count": 152,
      "outputs": [
        {
          "output_type": "stream",
          "name": "stdout",
          "text": [
            "dish1\n",
            "dish2\n",
            "dish3\n",
            "dish4\n"
          ]
        }
      ]
    },
    {
      "cell_type": "code",
      "source": [
        "for x in my_dict.values():\n",
        "  print(x)"
      ],
      "metadata": {
        "colab": {
          "base_uri": "https://localhost:8080/"
        },
        "id": "V0ouBIjONWyY",
        "outputId": "2f876c6e-5d42-4a38-d6e7-29f87acbd6c0"
      },
      "execution_count": 153,
      "outputs": [
        {
          "output_type": "stream",
          "name": "stdout",
          "text": [
            "pasta\n",
            "pizza\n",
            "burger\n",
            "nudels\n"
          ]
        }
      ]
    },
    {
      "cell_type": "code",
      "source": [
        "# We can also check both keys and values\n",
        "for x in my_dict.items():\n",
        "  print(x)"
      ],
      "metadata": {
        "colab": {
          "base_uri": "https://localhost:8080/"
        },
        "id": "lboiX_XONiEX",
        "outputId": "f300d1c2-59fb-4ef8-b4ef-c38d83fe28db"
      },
      "execution_count": 154,
      "outputs": [
        {
          "output_type": "stream",
          "name": "stdout",
          "text": [
            "('dish1', 'pasta')\n",
            "('dish2', 'pizza')\n",
            "('dish3', 'burger')\n",
            "('dish4', 'nudels')\n"
          ]
        }
      ]
    },
    {
      "cell_type": "code",
      "source": [
        "## Adding Items in Dictionaries\n",
        "my_dict['dish5'] = 'sandwich'"
      ],
      "metadata": {
        "id": "v4AWT_ibN221"
      },
      "execution_count": 155,
      "outputs": []
    },
    {
      "cell_type": "code",
      "source": [
        "my_dict"
      ],
      "metadata": {
        "colab": {
          "base_uri": "https://localhost:8080/"
        },
        "id": "SlMOdEEvQF9o",
        "outputId": "32dd7a05-8b3f-4c99-e2e0-5fb6d3b691d2"
      },
      "execution_count": 156,
      "outputs": [
        {
          "output_type": "execute_result",
          "data": {
            "text/plain": [
              "{'dish1': 'pasta',\n",
              " 'dish2': 'pizza',\n",
              " 'dish3': 'burger',\n",
              " 'dish4': 'nudels',\n",
              " 'dish5': 'sandwich'}"
            ]
          },
          "metadata": {},
          "execution_count": 156
        }
      ]
    },
    {
      "cell_type": "code",
      "source": [
        "## Nested Dictionary"
      ],
      "metadata": {
        "id": "wiiOj5FdQHKL"
      },
      "execution_count": 157,
      "outputs": []
    },
    {
      "cell_type": "code",
      "source": [
        "dish_1 = {'Pasta':'creamy'}\n",
        "dish_2 = {'pizza':'milky'}\n",
        "dish_3 = {'Burger':'vagies'}\n",
        "dish_4 = {'nudels':'spicy'}"
      ],
      "metadata": {
        "id": "f2FMjZNLQp3N"
      },
      "execution_count": 158,
      "outputs": []
    },
    {
      "cell_type": "code",
      "source": [
        "dish_test = {'dish1':dish_1, 'dish2':dish_2, 'dish3':dish_3, 'dish4':dish_4}"
      ],
      "metadata": {
        "id": "gIOJfPZoRPbB"
      },
      "execution_count": 159,
      "outputs": []
    },
    {
      "cell_type": "code",
      "source": [
        "print(dish_test)"
      ],
      "metadata": {
        "colab": {
          "base_uri": "https://localhost:8080/"
        },
        "id": "9mfh6DDRRor6",
        "outputId": "07e99c26-4f9a-4745-ea6b-95fa5d90885a"
      },
      "execution_count": 160,
      "outputs": [
        {
          "output_type": "stream",
          "name": "stdout",
          "text": [
            "{'dish1': {'Pasta': 'creamy'}, 'dish2': {'pizza': 'milky'}, 'dish3': {'Burger': 'vagies'}, 'dish4': {'nudels': 'spicy'}}\n"
          ]
        }
      ]
    },
    {
      "cell_type": "code",
      "source": [
        "# Accessing the items in the dictionary\n",
        "print(dish_test['dish1'])"
      ],
      "metadata": {
        "colab": {
          "base_uri": "https://localhost:8080/"
        },
        "id": "j4EhnAIFRtF_",
        "outputId": "cdd5a41c-7b84-48b8-ec83-a2b7fde8ca04"
      },
      "execution_count": 161,
      "outputs": [
        {
          "output_type": "stream",
          "name": "stdout",
          "text": [
            "{'Pasta': 'creamy'}\n"
          ]
        }
      ]
    },
    {
      "cell_type": "code",
      "source": [
        "print(dish_test['dish1']['Pasta'])"
      ],
      "metadata": {
        "colab": {
          "base_uri": "https://localhost:8080/"
        },
        "id": "Tqf6IhxYR5_h",
        "outputId": "2d7aebc2-3938-4ea6-fc46-8b7aeb81d51f"
      },
      "execution_count": 162,
      "outputs": [
        {
          "output_type": "stream",
          "name": "stdout",
          "text": [
            "creamy\n"
          ]
        }
      ]
    },
    {
      "cell_type": "code",
      "source": [
        "## Tuple"
      ],
      "metadata": {
        "id": "aBf5ahSuSIkp"
      },
      "execution_count": 163,
      "outputs": []
    },
    {
      "cell_type": "code",
      "source": [
        "# Create an empty Tuples\n",
        "my_tuple = tuple()"
      ],
      "metadata": {
        "id": "IC3R5hIUSMcY"
      },
      "execution_count": 164,
      "outputs": []
    },
    {
      "cell_type": "code",
      "source": [
        "type(my_tuple)"
      ],
      "metadata": {
        "colab": {
          "base_uri": "https://localhost:8080/"
        },
        "id": "mDWSGpYcSUw4",
        "outputId": "d00045f6-8c6e-4fd7-f8f6-98d30c5d9557"
      },
      "execution_count": 165,
      "outputs": [
        {
          "output_type": "execute_result",
          "data": {
            "text/plain": [
              "tuple"
            ]
          },
          "metadata": {},
          "execution_count": 165
        }
      ]
    },
    {
      "cell_type": "code",
      "source": [
        "my_tuple = ()"
      ],
      "metadata": {
        "id": "1Lr1UdlZSYB-"
      },
      "execution_count": 166,
      "outputs": []
    },
    {
      "cell_type": "code",
      "source": [
        "type(my_tuple)"
      ],
      "metadata": {
        "colab": {
          "base_uri": "https://localhost:8080/"
        },
        "id": "y-UUpoiMScAW",
        "outputId": "61969c5f-0ccf-4ecc-9a50-ec10663c8cab"
      },
      "execution_count": 167,
      "outputs": [
        {
          "output_type": "execute_result",
          "data": {
            "text/plain": [
              "tuple"
            ]
          },
          "metadata": {},
          "execution_count": 167
        }
      ]
    },
    {
      "cell_type": "code",
      "source": [
        "my_tuple = ('fruit','vegitable','grosary')"
      ],
      "metadata": {
        "id": "u4b0vOMgSj47"
      },
      "execution_count": 168,
      "outputs": []
    },
    {
      "cell_type": "code",
      "source": [
        "my_tuple"
      ],
      "metadata": {
        "colab": {
          "base_uri": "https://localhost:8080/"
        },
        "id": "08vBrhCvTEBk",
        "outputId": "0ff30d8b-c9d4-46be-c2a9-4f2d5a3555c0"
      },
      "execution_count": 169,
      "outputs": [
        {
          "output_type": "execute_result",
          "data": {
            "text/plain": [
              "('fruit', 'vegitable', 'grosary')"
            ]
          },
          "metadata": {},
          "execution_count": 169
        }
      ]
    },
    {
      "cell_type": "code",
      "source": [
        "my_tuple = ('online','shopping')"
      ],
      "metadata": {
        "id": "Q5fBaizKS44v"
      },
      "execution_count": 170,
      "outputs": []
    },
    {
      "cell_type": "code",
      "source": [
        "my_tuple"
      ],
      "metadata": {
        "colab": {
          "base_uri": "https://localhost:8080/"
        },
        "id": "sozqrPavTGsk",
        "outputId": "5cb287f8-8159-41bc-afa4-13762ef0dae3"
      },
      "execution_count": 171,
      "outputs": [
        {
          "output_type": "execute_result",
          "data": {
            "text/plain": [
              "('online', 'shopping')"
            ]
          },
          "metadata": {},
          "execution_count": 171
        }
      ]
    },
    {
      "cell_type": "code",
      "source": [
        "print(type(my_tuple))\n",
        "print(my_tuple)"
      ],
      "metadata": {
        "colab": {
          "base_uri": "https://localhost:8080/"
        },
        "id": "4bWyEUehTIVo",
        "outputId": "1a53620e-244a-4732-9b71-e0e0f75df0c8"
      },
      "execution_count": 172,
      "outputs": [
        {
          "output_type": "stream",
          "name": "stdout",
          "text": [
            "<class 'tuple'>\n",
            "('online', 'shopping')\n"
          ]
        }
      ]
    },
    {
      "cell_type": "code",
      "source": [
        "type(my_tuple)"
      ],
      "metadata": {
        "colab": {
          "base_uri": "https://localhost:8080/"
        },
        "id": "tYrz9piwTQ0b",
        "outputId": "b524a9dd-a0a7-4cb9-d3d1-e8fae2930ad6"
      },
      "execution_count": 173,
      "outputs": [
        {
          "output_type": "execute_result",
          "data": {
            "text/plain": [
              "tuple"
            ]
          },
          "metadata": {},
          "execution_count": 173
        }
      ]
    },
    {
      "cell_type": "code",
      "source": [
        "## Inbuilt Function\n",
        "my_tuple.count('shopping')"
      ],
      "metadata": {
        "colab": {
          "base_uri": "https://localhost:8080/"
        },
        "id": "dH1JBB9RTWZA",
        "outputId": "7c388d4a-f4ba-4b3f-f00a-f9a4bee2b09f"
      },
      "execution_count": 174,
      "outputs": [
        {
          "output_type": "execute_result",
          "data": {
            "text/plain": [
              "1"
            ]
          },
          "metadata": {},
          "execution_count": 174
        }
      ]
    },
    {
      "cell_type": "code",
      "source": [
        "my_tuple.index('online')"
      ],
      "metadata": {
        "colab": {
          "base_uri": "https://localhost:8080/"
        },
        "id": "cZXmBu-RTgLF",
        "outputId": "535986f7-3666-43fc-c8e1-bcea7a451a86"
      },
      "execution_count": 175,
      "outputs": [
        {
          "output_type": "execute_result",
          "data": {
            "text/plain": [
              "0"
            ]
          },
          "metadata": {},
          "execution_count": 175
        }
      ]
    },
    {
      "cell_type": "code",
      "source": [
        ""
      ],
      "metadata": {
        "id": "VYktfBlNTkS_"
      },
      "execution_count": 175,
      "outputs": []
    }
  ]
}