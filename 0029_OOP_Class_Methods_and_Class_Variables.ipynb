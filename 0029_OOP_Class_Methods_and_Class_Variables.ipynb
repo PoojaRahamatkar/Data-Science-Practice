{
  "nbformat": 4,
  "nbformat_minor": 0,
  "metadata": {
    "colab": {
      "name": "0029.OOP Class Methods and Class Variables.ipynb",
      "provenance": []
    },
    "kernelspec": {
      "name": "python3",
      "display_name": "Python 3"
    },
    "language_info": {
      "name": "python"
    }
  },
  "cells": [
    {
      "cell_type": "markdown",
      "source": [
        "**Class Methods and class Variables**"
      ],
      "metadata": {
        "id": "0LpT0mg5xZLl"
      }
    },
    {
      "cell_type": "code",
      "execution_count": 6,
      "metadata": {
        "id": "AKg9TASaxL2X"
      },
      "outputs": [],
      "source": [
        "class Car:\n",
        "  base_price = 100000   ## Class Variables  // It will constant for class unless untill changed by object with proper method.\n",
        "  def __init__(self,windows,doors,power):\n",
        "    self.windows = windows\n",
        "    self.doors = doors\n",
        "    self.power = power\n",
        "  def what_base_price(self):\n",
        "    print(\"The base price is {}\".format(self.base_price))\n",
        "  @classmethod\n",
        "  def revise_base_price(cls, inflation):     ## Use this method to change the class variables\n",
        "    cls.base_price = cls.base_price + cls.base_price * inflation"
      ]
    },
    {
      "cell_type": "code",
      "source": [
        "Car.revise_base_price(0.10)"
      ],
      "metadata": {
        "id": "VJXzxveLzJOU"
      },
      "execution_count": 7,
      "outputs": []
    },
    {
      "cell_type": "code",
      "source": [
        "Car.base_price"
      ],
      "metadata": {
        "colab": {
          "base_uri": "https://localhost:8080/"
        },
        "id": "n4Z5tBxbzZhG",
        "outputId": "b71725d2-f788-425a-c15f-b60c10d0e444"
      },
      "execution_count": 8,
      "outputs": [
        {
          "output_type": "execute_result",
          "data": {
            "text/plain": [
              "110000.0"
            ]
          },
          "metadata": {},
          "execution_count": 8
        }
      ]
    },
    {
      "cell_type": "code",
      "source": [
        "Car1 = Car(4,5,2000)"
      ],
      "metadata": {
        "id": "olQgb3Jh0Zy4"
      },
      "execution_count": 9,
      "outputs": []
    },
    {
      "cell_type": "code",
      "source": [
        "Car1.base_price"
      ],
      "metadata": {
        "colab": {
          "base_uri": "https://localhost:8080/"
        },
        "id": "zYwcE21q0fYd",
        "outputId": "b394d3ae-b6c5-45ff-8628-983f43a5c933"
      },
      "execution_count": 10,
      "outputs": [
        {
          "output_type": "execute_result",
          "data": {
            "text/plain": [
              "110000.0"
            ]
          },
          "metadata": {},
          "execution_count": 10
        }
      ]
    },
    {
      "cell_type": "code",
      "source": [
        "Car1.revise_base_price(0.10)"
      ],
      "metadata": {
        "id": "sOA5ggmg0i7M"
      },
      "execution_count": 11,
      "outputs": []
    },
    {
      "cell_type": "code",
      "source": [
        "Car1.base_price"
      ],
      "metadata": {
        "colab": {
          "base_uri": "https://localhost:8080/"
        },
        "id": "blJZoSf90nIV",
        "outputId": "a8b6ec02-3dcf-430a-f4a3-0fd7fdb0c7dd"
      },
      "execution_count": 12,
      "outputs": [
        {
          "output_type": "execute_result",
          "data": {
            "text/plain": [
              "121000.0"
            ]
          },
          "metadata": {},
          "execution_count": 12
        }
      ]
    },
    {
      "cell_type": "code",
      "source": [
        "Car3 = Car(3,4,2000)"
      ],
      "metadata": {
        "id": "Cp1rcm6k0qn0"
      },
      "execution_count": 13,
      "outputs": []
    },
    {
      "cell_type": "code",
      "source": [
        "Car3.base_price"
      ],
      "metadata": {
        "colab": {
          "base_uri": "https://localhost:8080/"
        },
        "id": "kMoP2GkZ06JF",
        "outputId": "6d5bde43-6962-49d9-d163-0030171efd4a"
      },
      "execution_count": 14,
      "outputs": [
        {
          "output_type": "execute_result",
          "data": {
            "text/plain": [
              "121000.0"
            ]
          },
          "metadata": {},
          "execution_count": 14
        }
      ]
    },
    {
      "cell_type": "code",
      "source": [
        ""
      ],
      "metadata": {
        "id": "8aq1rhSx08L4"
      },
      "execution_count": null,
      "outputs": []
    }
  ]
}