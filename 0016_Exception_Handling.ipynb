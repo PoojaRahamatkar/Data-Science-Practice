{
  "nbformat": 4,
  "nbformat_minor": 0,
  "metadata": {
    "colab": {
      "name": "0016.Exception Handling.ipynb",
      "provenance": []
    },
    "kernelspec": {
      "name": "python3",
      "display_name": "Python 3"
    },
    "language_info": {
      "name": "python"
    }
  },
  "cells": [
    {
      "cell_type": "markdown",
      "source": [
        "**Python Exception Handling**\n",
        "\n",
        "* How we can handle exceptions\n",
        "* How we can raise an exceptions\n",
        "* How we can create an exceptions\n",
        "* Assert Keyword With Exception Handling"
      ],
      "metadata": {
        "id": "x-hINC4Lr-ZN"
      }
    },
    {
      "cell_type": "code",
      "execution_count": 22,
      "metadata": {
        "id": "oe3vBlp3r85n"
      },
      "outputs": [],
      "source": [
        "a=b"
      ]
    },
    {
      "cell_type": "code",
      "source": [
        "try:\n",
        "  # Code block where expection can occurs\n",
        "  a=b\n",
        "except:\n",
        "  print(\"Some Problem may have occured !\")"
      ],
      "metadata": {
        "id": "leBTsB0XsefW"
      },
      "execution_count": 23,
      "outputs": []
    },
    {
      "cell_type": "code",
      "source": [
        "try:\n",
        "  # Code block where exception can occurs\n",
        "  a=b\n",
        "except Exception as ex:\n",
        "  print(ex)"
      ],
      "metadata": {
        "id": "u8JP-_pesvQL"
      },
      "execution_count": 24,
      "outputs": []
    },
    {
      "cell_type": "code",
      "source": [
        "try:\n",
        "  ## Code block where exception can occurs\n",
        "  a=b\n",
        "except NameError as ex1:  ## NameError is derived class of Exception class\n",
        "  print(\"The user have not defined the Variable\")\n",
        "except Exception as ex: ## Child class are written first and Parent should always be in the bottom of other exception class\n",
        "  print(ex)"
      ],
      "metadata": {
        "id": "fJjIgEQZs-5T",
        "colab": {
          "base_uri": "https://localhost:8080/"
        },
        "outputId": "8c8ecab7-361a-44d7-b6fb-11a7a4259274"
      },
      "execution_count": 5,
      "outputs": [
        {
          "output_type": "stream",
          "name": "stdout",
          "text": [
            "The user have not defined the Variable\n"
          ]
        }
      ]
    },
    {
      "cell_type": "code",
      "source": [
        "try:\n",
        "  ## Code block where exception can occurs\n",
        "  a=1\n",
        "  b=\"s\"\n",
        "  c=a+b\n",
        "except NameError as ex1: ## NameError is derived class of Exception class.\n",
        "  print(\"The user have not defined the variable\")\n",
        "except Exception as ex:  ## Child class are written first and Parent should always be in the bottom of other exception class\n",
        "  print(ex)\n"
      ],
      "metadata": {
        "colab": {
          "base_uri": "https://localhost:8080/"
        },
        "id": "Em33HsmlF2Of",
        "outputId": "2c5d04bf-9ed6-41e3-99de-db6f8c81bc32"
      },
      "execution_count": 6,
      "outputs": [
        {
          "output_type": "stream",
          "name": "stdout",
          "text": [
            "unsupported operand type(s) for +: 'int' and 'str'\n"
          ]
        }
      ]
    },
    {
      "cell_type": "code",
      "source": [
        "try:\n",
        "  ## code block where exception can occurs\n",
        "  a=1\n",
        "  b=\"s\"\n",
        "  c=a+b\n",
        "except NameError as ex1 : ## NameError is derived class of Exception class.\n",
        "  print(\"The user have not defined the variable\")\n",
        "except TypeError:\n",
        "  print(\"Try to make the Data Type Similar\")\n",
        "except Exception as ex:  ## Child class are written first and parent should always be in the bottom of other exception class.\n",
        "  print(ex)"
      ],
      "metadata": {
        "colab": {
          "base_uri": "https://localhost:8080/"
        },
        "id": "baVg56coHH_y",
        "outputId": "77f59667-73b7-49bd-bffe-ea94d216037b"
      },
      "execution_count": 8,
      "outputs": [
        {
          "output_type": "stream",
          "name": "stdout",
          "text": [
            "Try to make the Data Type Similar\n"
          ]
        }
      ]
    },
    {
      "cell_type": "code",
      "source": [
        "try:\n",
        "  ## Code block where exception can occurs\n",
        "  a = int(input(\"Enter the number 1\"))\n",
        "  b = int(input(\"Enter the number 2\"))\n",
        "  c = a/b  ## Division By Zero Error can Occur\n",
        "  d = a*b\n",
        "  e = a+b\n",
        "  print(c)\n",
        "  print(d)\n",
        "  print(e)\n",
        "except NameError:\n",
        "  print(\"The user have not defined the variable\")\n",
        "except TypeError:\n",
        "  print(\"Try to make the datatype similar\")\n",
        "except Exception as ex:\n",
        "  print(ex)"
      ],
      "metadata": {
        "colab": {
          "base_uri": "https://localhost:8080/"
        },
        "id": "aZQK1mO9IiI5",
        "outputId": "7542be59-aca9-41db-fa66-1632337820bd"
      },
      "execution_count": 9,
      "outputs": [
        {
          "output_type": "stream",
          "name": "stdout",
          "text": [
            "Enter the number 124\n",
            "Enter the number 26\n",
            "4.0\n",
            "144\n",
            "30\n"
          ]
        }
      ]
    },
    {
      "cell_type": "code",
      "source": [
        "try:\n",
        "  ## Code block where exception can occurs\n",
        "  a = int(input(\"Enter the number 1\"))\n",
        "  b = int(input(\"Enter the number 2\"))\n",
        "  c = a/b \n",
        "  d = a*b\n",
        "  e = a+b\n",
        "  print(c)\n",
        "  print(d)\n",
        "  print(e)\n",
        "except NameError:\n",
        "  print(\"The user have not defined the variable\")\n",
        "except ZeroDivisionError:\n",
        "  print(\"Please Provide a Number Greater that Zero\")\n",
        "except TypeError:\n",
        "  print(\"Try to make the datatype similar\")\n",
        "except Exception as ex:\n",
        "  print(ex)"
      ],
      "metadata": {
        "colab": {
          "base_uri": "https://localhost:8080/"
        },
        "id": "i3CrGROVKEda",
        "outputId": "d60616d6-2521-445c-e9a0-c8dee6689141"
      },
      "execution_count": 11,
      "outputs": [
        {
          "output_type": "stream",
          "name": "stdout",
          "text": [
            "Enter the number 112\n",
            "Enter the number 20\n",
            "Please Provide a Number Greater that Zero\n"
          ]
        }
      ]
    },
    {
      "cell_type": "code",
      "source": [
        "## Try, Except, Else Block are here to Demonstrated\n",
        "try:\n",
        "  ## Code block where exception can occurs\n",
        "  a = int(input(\"Enter the number 1\"))\n",
        "  b = int(input(\"Enter the number 2\"))\n",
        "  c = a/b   \n",
        "  d = a*b\n",
        "  e = a+b\n",
        "except NameError:\n",
        "  print(\"The user have not defined the variable\")\n",
        "except ZeroDivisionError:\n",
        "  print(\"Please provide a Number Greater that Zero\")\n",
        "except TypeError:\n",
        "  print(\"Try to make the datatype similar\")\n",
        "else: ## Additional Else Block for the Other things to Exception After the Try Block to be Executed Smoothly if exception is not occured.\n",
        "  print(c)\n",
        "  print(d)\n",
        "  print(e)"
      ],
      "metadata": {
        "colab": {
          "base_uri": "https://localhost:8080/"
        },
        "id": "tIstDKMdLDIa",
        "outputId": "41dde125-07e1-4012-fe59-f047ba78b13f"
      },
      "execution_count": 13,
      "outputs": [
        {
          "output_type": "stream",
          "name": "stdout",
          "text": [
            "Enter the number 112\n",
            "Enter the number 24\n",
            "3.0\n",
            "48\n",
            "16\n"
          ]
        }
      ]
    },
    {
      "cell_type": "code",
      "source": [
        "## Try, Except, Else, Finally Blocks are Demonstrated Here\n",
        "try:\n",
        "  ## Code block where exception can occurs\n",
        "  a = int(input(\"Enter the number 1\"))\n",
        "  b = int(input(\"Enter the number 2\"))\n",
        "  c = a/b\n",
        "  d = a*b\n",
        "  e = a+b\n",
        "except NameError:\n",
        "  print(\"The user have not defined the variable\")\n",
        "except ZeroDivisionError:\n",
        "  print(\"Please provide a Number Greater than Zero\")\n",
        "except TypeError:\n",
        "  print(\"Try to make the datatype similar\")\n",
        "except Exception as ex:\n",
        "  print(ex)\n",
        "else:   ## Additional Else Block for the Other things to Execute After the Try Block to be Executed Smoothly if exception is not occured\n",
        "  print(c)\n",
        "  print(d)\n",
        "  print(e)\n",
        "finally: ## Finally Block Will run Smoothly without Interruption if exception occurs or not !\n",
        "  print(\"The execution is Done !!\")"
      ],
      "metadata": {
        "colab": {
          "base_uri": "https://localhost:8080/"
        },
        "id": "KiztYHkbMAwr",
        "outputId": "12517cba-7239-4591-fc61-b0ec23d0b7a6"
      },
      "execution_count": 14,
      "outputs": [
        {
          "output_type": "stream",
          "name": "stdout",
          "text": [
            "Enter the number 112\n",
            "Enter the number 24\n",
            "3.0\n",
            "48\n",
            "16\n",
            "The execution is Done !!\n"
          ]
        }
      ]
    },
    {
      "cell_type": "markdown",
      "source": [
        "**Assert**\n",
        "\n",
        "Python provides the assert statement to check if a given logical expression is true or false. Program execution proceeds only if the expression is true and raises the Assertion Error when it is false."
      ],
      "metadata": {
        "id": "ves22a1DPdGM"
      }
    },
    {
      "cell_type": "code",
      "source": [
        "num = 10\n",
        "assert num>10"
      ],
      "metadata": {
        "colab": {
          "base_uri": "https://localhost:8080/",
          "height": 183
        },
        "id": "nptdeCk6PWyK",
        "outputId": "ccd177b2-babc-4846-fb93-5a51741526f6"
      },
      "execution_count": 15,
      "outputs": [
        {
          "output_type": "error",
          "ename": "AssertionError",
          "evalue": "ignored",
          "traceback": [
            "\u001b[0;31m---------------------------------------------------------------------------\u001b[0m",
            "\u001b[0;31mAssertionError\u001b[0m                            Traceback (most recent call last)",
            "\u001b[0;32m<ipython-input-15-43cf20aeceee>\u001b[0m in \u001b[0;36m<module>\u001b[0;34m()\u001b[0m\n\u001b[1;32m      1\u001b[0m \u001b[0mnum\u001b[0m \u001b[0;34m=\u001b[0m \u001b[0;36m10\u001b[0m\u001b[0;34m\u001b[0m\u001b[0;34m\u001b[0m\u001b[0m\n\u001b[0;32m----> 2\u001b[0;31m \u001b[0;32massert\u001b[0m \u001b[0mnum\u001b[0m\u001b[0;34m>\u001b[0m\u001b[0;36m10\u001b[0m\u001b[0;34m\u001b[0m\u001b[0;34m\u001b[0m\u001b[0m\n\u001b[0m",
            "\u001b[0;31mAssertionError\u001b[0m: "
          ]
        }
      ]
    },
    {
      "cell_type": "code",
      "source": [
        "try:\n",
        "  num = int(input(\"Enter the Even Number\"))\n",
        "  assert num%2==0\n",
        "  print(\"The number is even\")\n",
        "except AssertionError:\n",
        "  print(\"Please enter even number\")"
      ],
      "metadata": {
        "colab": {
          "base_uri": "https://localhost:8080/"
        },
        "id": "5VhilH4qP5O3",
        "outputId": "ce6e3627-fcc9-4921-c8d9-b965ca2c9f4c"
      },
      "execution_count": 16,
      "outputs": [
        {
          "output_type": "stream",
          "name": "stdout",
          "text": [
            "Enter the Even Number25\n",
            "Please enter even number\n"
          ]
        }
      ]
    },
    {
      "cell_type": "code",
      "source": [
        "try:\n",
        "  num = int(input(\"Enter the Number\"))\n",
        "  assert num>10\n",
        "  print(\"The number is greater than 10\")\n",
        "except AssertionError:\n",
        "  print(\"Please enter greater number\")"
      ],
      "metadata": {
        "colab": {
          "base_uri": "https://localhost:8080/"
        },
        "id": "GjBxtO6vQbGv",
        "outputId": "2e299624-8eb1-4b31-8701-a579911eca42"
      },
      "execution_count": 21,
      "outputs": [
        {
          "output_type": "stream",
          "name": "stdout",
          "text": [
            "Enter the Number55\n",
            "The number is greater than 10\n"
          ]
        }
      ]
    },
    {
      "cell_type": "code",
      "source": [
        ""
      ],
      "metadata": {
        "id": "YvXrNLyFQ6xj"
      },
      "execution_count": null,
      "outputs": []
    }
  ]
}