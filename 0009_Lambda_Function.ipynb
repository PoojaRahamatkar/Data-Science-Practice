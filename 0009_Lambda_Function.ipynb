{
  "nbformat": 4,
  "nbformat_minor": 0,
  "metadata": {
    "colab": {
      "name": "0009.Lambda Function.ipynb",
      "provenance": []
    },
    "kernelspec": {
      "name": "python3",
      "display_name": "Python 3"
    },
    "language_info": {
      "name": "python"
    }
  },
  "cells": [
    {
      "cell_type": "markdown",
      "source": [
        "**Lambda Function**\n",
        "* anonymouns function\n",
        "\n",
        "A Function with no Name.\n",
        "\n",
        "It used to create functions in single line"
      ],
      "metadata": {
        "id": "EF_6cOvWAFJc"
      }
    },
    {
      "cell_type": "code",
      "execution_count": 13,
      "metadata": {
        "id": "R2GSfAuz-6PG"
      },
      "outputs": [],
      "source": [
        "## addition using normal function\n",
        "def addition(a,b):\n",
        "  return a+b"
      ]
    },
    {
      "cell_type": "code",
      "source": [
        "addition(4,5)"
      ],
      "metadata": {
        "colab": {
          "base_uri": "https://localhost:8080/"
        },
        "id": "R0-Do-WGAX-I",
        "outputId": "0ed626cd-e677-4cae-bf8a-4cb4c4971ebf"
      },
      "execution_count": 14,
      "outputs": [
        {
          "output_type": "execute_result",
          "data": {
            "text/plain": [
              "9"
            ]
          },
          "metadata": {},
          "execution_count": 14
        }
      ]
    },
    {
      "cell_type": "code",
      "source": [
        "# addition using lambda function\n",
        "addition = lambda a,b:a+b"
      ],
      "metadata": {
        "id": "h6KlIMXIAboz"
      },
      "execution_count": 15,
      "outputs": []
    },
    {
      "cell_type": "code",
      "source": [
        "addition(12,14)"
      ],
      "metadata": {
        "colab": {
          "base_uri": "https://localhost:8080/"
        },
        "id": "sljwPPl0Aj8i",
        "outputId": "388a5a9a-8412-46f7-baf0-d0127433c553"
      },
      "execution_count": 16,
      "outputs": [
        {
          "output_type": "execute_result",
          "data": {
            "text/plain": [
              "26"
            ]
          },
          "metadata": {},
          "execution_count": 16
        }
      ]
    },
    {
      "cell_type": "code",
      "source": [
        "# substraction using lambda function\n",
        "subtraction = lambda x,y:x-y"
      ],
      "metadata": {
        "id": "o3PWymjuUh-N"
      },
      "execution_count": 17,
      "outputs": []
    },
    {
      "cell_type": "code",
      "source": [
        "subtraction(12,14)"
      ],
      "metadata": {
        "colab": {
          "base_uri": "https://localhost:8080/"
        },
        "id": "9-LugGlUUwQK",
        "outputId": "61819014-58ac-44ca-8768-70762f850fa1"
      },
      "execution_count": 18,
      "outputs": [
        {
          "output_type": "execute_result",
          "data": {
            "text/plain": [
              "-2"
            ]
          },
          "metadata": {},
          "execution_count": 18
        }
      ]
    },
    {
      "cell_type": "code",
      "source": [
        "# modules of number using normal function\n",
        "def even(num):\n",
        "  if num%2==0:\n",
        "    return True"
      ],
      "metadata": {
        "id": "Magk1YmxAyYH"
      },
      "execution_count": 19,
      "outputs": []
    },
    {
      "cell_type": "code",
      "source": [
        "# If we enter odd value\n",
        "print(even(9))"
      ],
      "metadata": {
        "colab": {
          "base_uri": "https://localhost:8080/"
        },
        "id": "D5s9GFWAVWPK",
        "outputId": "d0f59571-27b9-4e2f-8950-7643c0111799"
      },
      "execution_count": 23,
      "outputs": [
        {
          "output_type": "stream",
          "name": "stdout",
          "text": [
            "None\n"
          ]
        }
      ]
    },
    {
      "cell_type": "code",
      "source": [
        "# If we enter even value\n",
        "print(even(10))"
      ],
      "metadata": {
        "colab": {
          "base_uri": "https://localhost:8080/"
        },
        "id": "Bu2nyUwjV-0b",
        "outputId": "9ca30c19-ac2c-4fa3-8222-243cf9e0a147"
      },
      "execution_count": 24,
      "outputs": [
        {
          "output_type": "stream",
          "name": "stdout",
          "text": [
            "True\n"
          ]
        }
      ]
    },
    {
      "cell_type": "code",
      "source": [
        "# modules of number using lambda function\n",
        "even1 = lambda a:a%2==0"
      ],
      "metadata": {
        "id": "d5FLwUr0A8aP"
      },
      "execution_count": 25,
      "outputs": []
    },
    {
      "cell_type": "code",
      "source": [
        "even1(12)"
      ],
      "metadata": {
        "colab": {
          "base_uri": "https://localhost:8080/"
        },
        "id": "NCE1VW8jBLMJ",
        "outputId": "1b77cae4-ffe0-4e3f-ea1d-681c4045f99a"
      },
      "execution_count": 26,
      "outputs": [
        {
          "output_type": "execute_result",
          "data": {
            "text/plain": [
              "True"
            ]
          },
          "metadata": {},
          "execution_count": 26
        }
      ]
    },
    {
      "cell_type": "code",
      "source": [
        "# Addition of 3 numbers using normal function\n",
        "def addition(x,y,z):\n",
        "  return x+y+z"
      ],
      "metadata": {
        "id": "Mq7xyCNeBOGk"
      },
      "execution_count": 28,
      "outputs": []
    },
    {
      "cell_type": "code",
      "source": [
        "addition(2,3,4)"
      ],
      "metadata": {
        "colab": {
          "base_uri": "https://localhost:8080/"
        },
        "id": "Pq0Xc8rDBkdb",
        "outputId": "f1e2a2cf-a9b2-4c19-8332-1a93cb601c1c"
      },
      "execution_count": 29,
      "outputs": [
        {
          "output_type": "execute_result",
          "data": {
            "text/plain": [
              "9"
            ]
          },
          "metadata": {},
          "execution_count": 29
        }
      ]
    },
    {
      "cell_type": "code",
      "source": [
        "# Addition of 3 numbers using lambda function\n",
        "addition = lambda x,y,z:x+y+z"
      ],
      "metadata": {
        "id": "eydu5kaRBr6h"
      },
      "execution_count": 30,
      "outputs": []
    },
    {
      "cell_type": "code",
      "source": [
        "addition(5,6,7)"
      ],
      "metadata": {
        "colab": {
          "base_uri": "https://localhost:8080/"
        },
        "id": "eHP6xG2EByL6",
        "outputId": "fc47d77b-651f-47ed-bee9-e027db0fea8d"
      },
      "execution_count": 31,
      "outputs": [
        {
          "output_type": "execute_result",
          "data": {
            "text/plain": [
              "18"
            ]
          },
          "metadata": {},
          "execution_count": 31
        }
      ]
    },
    {
      "cell_type": "code",
      "source": [
        "# sort using normal fuction\n",
        "def a_first(a):\n",
        "  return a[1]\n",
        "\n",
        "a=[[1,14],[5,6],[8,23]]\n",
        "a.sort(key=a_first)\n",
        "print(a)"
      ],
      "metadata": {
        "id": "pnhWNhkqB34z",
        "colab": {
          "base_uri": "https://localhost:8080/"
        },
        "outputId": "22c0c7b5-51ba-4a22-e6fc-a59fb6d46478"
      },
      "execution_count": 32,
      "outputs": [
        {
          "output_type": "stream",
          "name": "stdout",
          "text": [
            "[[5, 6], [1, 14], [8, 23]]\n"
          ]
        }
      ]
    },
    {
      "cell_type": "code",
      "source": [
        "# sort using lambda function\n",
        "\n",
        "a=[[1,14],[5,6],[8,23]]\n",
        "a.sort(key=lambda x:x[1])\n",
        "print(a)"
      ],
      "metadata": {
        "colab": {
          "base_uri": "https://localhost:8080/"
        },
        "id": "2QS5Ueo6YPaV",
        "outputId": "1f0f9746-2bd3-4cca-bbfa-680743072757"
      },
      "execution_count": 40,
      "outputs": [
        {
          "output_type": "stream",
          "name": "stdout",
          "text": [
            "[[5, 6], [1, 14], [8, 23]]\n"
          ]
        }
      ]
    },
    {
      "cell_type": "code",
      "source": [
        ""
      ],
      "metadata": {
        "id": "2SAtYrn4Ymdb"
      },
      "execution_count": null,
      "outputs": []
    }
  ]
}