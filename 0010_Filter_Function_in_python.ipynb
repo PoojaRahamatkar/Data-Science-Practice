{
  "nbformat": 4,
  "nbformat_minor": 0,
  "metadata": {
    "colab": {
      "name": "0010.Filter Function in python.ipynb",
      "provenance": []
    },
    "kernelspec": {
      "name": "python3",
      "display_name": "Python 3"
    },
    "language_info": {
      "name": "python"
    }
  },
  "cells": [
    {
      "cell_type": "markdown",
      "source": [
        "**Filter Fuction**"
      ],
      "metadata": {
        "id": "_4dET5ywaFyY"
      }
    },
    {
      "cell_type": "code",
      "execution_count": 1,
      "metadata": {
        "id": "glVhm7ViaEZS"
      },
      "outputs": [],
      "source": [
        "# filter function using normal function\n",
        "def even(num):\n",
        "  if num%2==0:\n",
        "    return True"
      ]
    },
    {
      "cell_type": "code",
      "source": [
        "lst = [1,2,3,4,5,6,7,8,9,0]"
      ],
      "metadata": {
        "id": "vVpLGMpaaTJs"
      },
      "execution_count": 2,
      "outputs": []
    },
    {
      "cell_type": "code",
      "source": [
        "list(filter(even, lst))"
      ],
      "metadata": {
        "colab": {
          "base_uri": "https://localhost:8080/"
        },
        "id": "xthn6ykFaXy-",
        "outputId": "0bf89aae-0604-4162-ca08-0146ca538421"
      },
      "execution_count": 3,
      "outputs": [
        {
          "output_type": "execute_result",
          "data": {
            "text/plain": [
              "[2, 4, 6, 8, 0]"
            ]
          },
          "metadata": {},
          "execution_count": 3
        }
      ]
    },
    {
      "cell_type": "code",
      "source": [
        "# filter function with lambda function\n",
        "filter(lambda num:num%2==0, lst)"
      ],
      "metadata": {
        "colab": {
          "base_uri": "https://localhost:8080/"
        },
        "id": "OFuZ1-RnabZy",
        "outputId": "525b5dac-41f7-41f6-97c6-9e1799950e57"
      },
      "execution_count": 4,
      "outputs": [
        {
          "output_type": "execute_result",
          "data": {
            "text/plain": [
              "<filter at 0x7f989cd5f210>"
            ]
          },
          "metadata": {},
          "execution_count": 4
        }
      ]
    },
    {
      "cell_type": "code",
      "source": [
        "list(filter(lambda num:num%2==0, lst))"
      ],
      "metadata": {
        "colab": {
          "base_uri": "https://localhost:8080/"
        },
        "id": "_TPamnA0ax7R",
        "outputId": "7e737d09-479c-4f7e-f6a3-181b5370901c"
      },
      "execution_count": 5,
      "outputs": [
        {
          "output_type": "execute_result",
          "data": {
            "text/plain": [
              "[2, 4, 6, 8, 0]"
            ]
          },
          "metadata": {},
          "execution_count": 5
        }
      ]
    },
    {
      "cell_type": "code",
      "source": [
        "# Map fuction with lambda\n",
        "list(map(lambda num:num%2==0, lst))"
      ],
      "metadata": {
        "colab": {
          "base_uri": "https://localhost:8080/"
        },
        "id": "xeAuv5TLaghd",
        "outputId": "efb848a8-8fa4-48aa-e43b-3f61b7692e3f"
      },
      "execution_count": 6,
      "outputs": [
        {
          "output_type": "execute_result",
          "data": {
            "text/plain": [
              "[False, True, False, True, False, True, False, True, False, True]"
            ]
          },
          "metadata": {},
          "execution_count": 6
        }
      ]
    },
    {
      "cell_type": "code",
      "source": [
        "# finding greater than 5 values using filter function with normal fuction\n",
        "lst = [1,2,3,4,5,6,7,8,9]\n",
        "def is_gr_5(num):\n",
        "  return num>5\n",
        "\n",
        "gr_than_5 = list(filter(is_gr_5, lst))\n",
        "print(gr_than_5)"
      ],
      "metadata": {
        "colab": {
          "base_uri": "https://localhost:8080/"
        },
        "id": "zz_FxleJlIjz",
        "outputId": "6e8ad0d6-de42-4d27-ca95-68dbbb621ae1"
      },
      "execution_count": 15,
      "outputs": [
        {
          "output_type": "stream",
          "name": "stdout",
          "text": [
            "[6, 7, 8, 9]\n"
          ]
        }
      ]
    },
    {
      "cell_type": "code",
      "source": [
        "# finding greater than 5 values using filter function with lambda function\n",
        "ls = [1,2,3,4,5,6,7,8,9]\n",
        "list(filter(lambda num:num>5, ls))"
      ],
      "metadata": {
        "colab": {
          "base_uri": "https://localhost:8080/"
        },
        "id": "jCyIqiIaqzd_",
        "outputId": "424aad8c-346f-4587-a4a0-160bc566f1b4"
      },
      "execution_count": 18,
      "outputs": [
        {
          "output_type": "execute_result",
          "data": {
            "text/plain": [
              "[6, 7, 8, 9]"
            ]
          },
          "metadata": {},
          "execution_count": 18
        }
      ]
    },
    {
      "cell_type": "code",
      "source": [
        ""
      ],
      "metadata": {
        "id": "gAUIx6EerPJ-"
      },
      "execution_count": null,
      "outputs": []
    }
  ]
}